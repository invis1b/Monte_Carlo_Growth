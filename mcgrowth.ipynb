{
 "cells": [
  {
   "cell_type": "code",
   "execution_count": 120,
   "id": "640ee58f",
   "metadata": {},
   "outputs": [
    {
     "name": "stdout",
     "output_type": "stream",
     "text": [
      "insert\n",
      "insert\n",
      "insert\n",
      "insert\n",
      "insert\n",
      "remove\n",
      "insert\n",
      "insert\n",
      "insert\n",
      "remove\n",
      "insert\n",
      "remove\n",
      "insert\n",
      "insert\n",
      "insert\n",
      "insert\n",
      "remove\n",
      "insert\n",
      "insert\n",
      "insert\n",
      "insert\n",
      "remove\n",
      "insert\n",
      "insert\n",
      "insert\n",
      "insert\n",
      "insert\n",
      "remove\n",
      "insert\n",
      "remove\n",
      "insert\n",
      "insert\n",
      "insert\n",
      "insert\n",
      "insert\n",
      "remove\n",
      "insert\n",
      "insert\n",
      "insert\n",
      "insert\n",
      "remove\n",
      "insert\n",
      "insert\n",
      "insert\n",
      "remove\n",
      "insert\n",
      "insert\n",
      "remove\n",
      "insert\n",
      "remove\n",
      "remove\n",
      "remove\n",
      "insert\n",
      "insert\n",
      "insert\n",
      "insert\n",
      "insert\n",
      "insert\n",
      "insert\n",
      "insert\n",
      "insert\n",
      "insert\n",
      "insert\n",
      "insert\n",
      "insert\n",
      "insert\n",
      "insert\n",
      "insert\n",
      "remove\n",
      "insert\n",
      "remove\n",
      "insert\n",
      "insert\n",
      "insert\n",
      "insert\n",
      "insert\n",
      "insert\n",
      "insert\n",
      "insert\n",
      "insert\n",
      "insert\n",
      "remove\n",
      "insert\n",
      "insert\n",
      "insert\n",
      "insert\n",
      "remove\n",
      "insert\n",
      "remove\n",
      "insert\n",
      "insert\n",
      "insert\n",
      "insert\n",
      "insert\n",
      "insert\n",
      "insert\n",
      "insert\n",
      "remove\n",
      "insert\n",
      "remove\n"
     ]
    }
   ],
   "source": [
    "import numpy as np\n",
    "import random\n",
    "neighborlista=np.array([[0,0,0,1],[0,0,-1,1],[-1,0,0,1],[-1,0,-1,1],[0,-1,0,1],[0,-1,-1,1]])\n",
    "neighborlistb=-neighborlista\n",
    "def find_neighbor(particle):\n",
    "    if particle[3]==1:\n",
    "        return neighborlista+np.tile(particle,(6,1))\n",
    "    if particle[3]==2:\n",
    "        return neighborlistb+np.tile(particle,(6,1))\n",
    "def bond_corr(bond_array_one):\n",
    "\n",
    "    return np.array([bond_array_one[0]|bond_array_one[1],bond_array_one[0]|bond_array_one[1],bond_array_one[2]|bond_array_one[3],bond_array_one[2]|bond_array_one[3],bond_array_one[4]|bond_array_one[5],bond_array_one[4]|bond_array_one[5]])\n",
    "\n",
    "\n",
    "class Simulation:\n",
    "    def __init__(self):\n",
    "        self.particle_array = np.empty((0, 4), dtype=int)\n",
    "        self.neighbor_array = np.empty((0, 4), dtype=int)\n",
    "        self.multiplicity_array = np.empty((0, 1), dtype=int)\n",
    "        self.bond_number_array = np.empty((0, 1), dtype=int)\n",
    "        self.bond_array=np.empty((0, 6), dtype=int)\n",
    "        self.default_bond_array=np.array([0,0,0,0,0,0])\n",
    "        self.bond_array=np.vstack((self.bond_array,self.default_bond_array)) \n",
    "\n",
    "        self.events = []\n",
    "        self.time = 0\n",
    "        self.g_0=0\n",
    "        self.g_1=0\n",
    "        self.free_bonds_energy=0\n",
    "    def add_particle(self, i):# i is the index of the added particle in the original neighbor array and multiplicity array\n",
    "        #add the particle from neighbor array to particle array, update the neighbor array, multiplicity array and bond array accordingly\n",
    "        particle=self.neighbor_array[i]\n",
    "        self.bond_array=np.vstack((self.bond_array,self.default_bond_array)) \n",
    "        if self.bond_number_array.shape[0]!=0:\n",
    "            self.bond_number_array=np.vstack((self.bond_number_array,self.multiplicity_array[i]))   \n",
    "            \n",
    "        else:\n",
    "            self.bond_number_array=np.vstack((self.bond_number_array,np.array([0])))\n",
    "            self.bond_number_array=np.vstack((self.bond_number_array,self.multiplicity_array[i]))  \n",
    "        self.neighbor_array=np.delete(self.neighbor_array,i,axis=0)\n",
    "        self.multiplicity_array=np.delete(self.multiplicity_array,i,axis=0)\n",
    "        self.particle_array = np.vstack((self.particle_array, particle))\n",
    "        index_added=self.particle_array.shape[0]-1\n",
    "        neighbors=find_neighbor(particle)\n",
    "        for j in range(0,6):\n",
    "            if np.where((self.particle_array == tuple(neighbors[j].tolist())).all(axis=1))[0].size==1:\n",
    "                index=np.where((self.particle_array == tuple(neighbors[j].tolist())).all(axis=1))[0][0]\n",
    "                self.bond_number_array[index][0]+=1\n",
    "                self.bond_array[index][j]+=1\n",
    "                self.bond_array[index_added][j]+=1\n",
    "            if np.where((self.neighbor_array == tuple(neighbors[j].tolist())).all(axis=1))[0].size==1:\n",
    "                self.multiplicity_array[np.where((self.neighbor_array == tuple(neighbors[j].tolist())).all(axis=1))[0][0]][0]+=1\n",
    "            else:\n",
    "                self.neighbor_array=np.vstack((self.neighbor_array,neighbors[j]))\n",
    "                self.multiplicity_array=np.vstack((self.multiplicity_array,np.array([1])))\n",
    "    def remove_particle(self,i):#i is the index of the removed particle in the orginal particle array, bond number array and bond array\n",
    "        #remove the particle from particle array, update the neighbor array, multiplicity array and bond array accordingly\n",
    "    \n",
    "        self.neighbor_array=np.vstack((self.neighbor_array,self.particle_array[i]))\n",
    "        self.multiplicity_array=np.vstack((self.multiplicity_array,self.bond_number_array[i]))\n",
    "        vacancy=self.particle_array[i]\n",
    "        neighbors=find_neighbor(vacancy)\n",
    "        self.particle_array=np.delete(self.particle_array,i,axis=0)\n",
    "        self.bond_number_array=np.delete(self.bond_number_array,i,axis=0)\n",
    "        self.bond_array=np.delete(self.bond_array,i,axis=0)\n",
    "        for j in range(0,6):\n",
    "            if np.where((self.particle_array == tuple(neighbors[j].tolist())).all(axis=1))[0].size==1:\n",
    "                index=np.where((self.particle_array == tuple(neighbors[j].tolist())).all(axis=1))[0][0]\n",
    "                self.bond_number_array[index][0]-=1\n",
    "                \n",
    "                if self.bond_number_array[index][0]==0:\n",
    "                    self.remove_particle(index)\n",
    "                else:\n",
    "                    self.bond_array[index][j]-=1\n",
    "\n",
    "            if np.where((self.neighbor_array == tuple(neighbors[j].tolist())).all(axis=1))[0].size==1:\n",
    "                index=np.where((self.neighbor_array == tuple(neighbors[j].tolist())).all(axis=1))[0][0]\n",
    "                self.multiplicity_array[index][0]-=1\n",
    "                if self.multiplicity_array[index][0]==0:\n",
    "                    self.neighbor_array=np.delete(self.neighbor_array,index,axis=0)\n",
    "                    self.multiplicity_array=np.delete(self.multiplicity_array,index,axis=0) \n",
    "        \n",
    "\n",
    "    def insert_one_particle_event(self, i):#i is the index of the proposed inserted particle in the original neighbor list and multiplicity list\n",
    "        # ... Define the event, with a rate based on the multiplicity\n",
    "        rate = 1 / (4 ** self.multiplicity_array[i][0])\n",
    "        self.events.append(('insert', i, rate))\n",
    "\n",
    "    def delete_one_particle_event(self, i):#i is the index of the proposed removed particle in the original particle list, bond number list and bond list\n",
    "        if self.bond_number_array.shape[0]!=0:\n",
    "            rate = self.calculate_delete_rate(i)\n",
    "            self.events.append(('delete', i, rate))\n",
    "       \n",
    "\n",
    "    def calculate_delete_rate(self, i):#i is the index of the proposed removed particle in the original particle list\n",
    "        bond_number=self.bond_number_array[i][0]\n",
    "        particle=self.particle_array[i]\n",
    "        neighbors=find_neighbor(particle)\n",
    "        free_bonds=0\n",
    "        self_bond_state=bond_corr(self.bond_array[i])\n",
    "        free_bonds+=self_bond_state.sum()\n",
    "        for j in range(0,6):\n",
    "            if np.where((self.particle_array == tuple(neighbors[j].tolist())).all(axis=1))[0].size==1:\n",
    "                index=np.where((self.particle_array == tuple(neighbors[j].tolist())).all(axis=1))[0][0]\n",
    "                neighbor_bond=self.bond_array[index].copy()\n",
    "                old_neighbor_bond_state=bond_corr(neighbor_bond)\n",
    "                new_neighbor_bond=neighbor_bond.copy()\n",
    "                new_neighbor_bond[j]=0\n",
    "                new_neighbor_bond_state=bond_corr(new_neighbor_bond)\n",
    "                bond_change=new_neighbor_bond_state.sum()-old_neighbor_bond_state.sum()\n",
    "                free_bonds-=bond_change\n",
    "\n",
    "\n",
    "            \n",
    "        g=self.g_0+self.bond_number_array[i][0]*self.g_1-free_bonds*self.free_bonds_energy\n",
    "        return np.exp(-g) / (4 ** self.bond_number_array[i][0])\n",
    "        \n",
    "    \n",
    "    def execute_event(self, event):\n",
    "        if event[0]=='insert':\n",
    "            self.add_particle(event[1])\n",
    "            print(\"insert\")\n",
    "        if event[0]=='delete':\n",
    "            self.remove_particle(event[1])\n",
    "            print(\"remove\")\n",
    "\n",
    "    def kmc_step(self):\n",
    "        self.events=[]\n",
    "        for i in range(0,self.neighbor_array.shape[0]):\n",
    "            self.insert_one_particle_event(i)\n",
    "        for i in range(0,self.particle_array.shape[0]):\n",
    "            self.delete_one_particle_event(i)\n",
    "        total_rate = sum(event[2] for event in self.events)\n",
    "        rand_number=random.random()\n",
    "        dt = -np.log(rand_number) / total_rate\n",
    "        self.time += dt\n",
    "        cumulative_rate = 0\n",
    "        r = rand_number * total_rate\n",
    "        for event in self.events:\n",
    "            cumulative_rate += event[2]\n",
    "            if r < cumulative_rate:\n",
    "                self.execute_event(event)\n",
    "                break\n",
    "\n",
    "    def run(self, steps):\n",
    "        for _ in range(steps):\n",
    "            self.kmc_step()\n",
    "\n",
    "# Create the simulation object\n",
    "sim = Simulation()\n",
    "\n",
    "# Add the initial particle\n",
    "sim.particle_array=np.array([0,0,0,1])\n",
    "sim.neighbor_array=find_neighbor(np.array([0,0,0,1]))\n",
    "sim.multiplicity_array=np.array([[1],[1],[1],[1],[1],[1]])\n",
    "sim.g_0=-5\n",
    "sim.g_1=10\n",
    "sim.free_bonds_energy=1\n",
    "# Run the simulation for a number of steps\n",
    "sim.run(100)\n"
   ]
  },
  {
   "cell_type": "code",
   "execution_count": 93,
   "id": "da5e91d6",
   "metadata": {},
   "outputs": [
    {
     "data": {
      "text/plain": [
       "array([0, 0, 0, 0, 0, 0])"
      ]
     },
     "execution_count": 93,
     "metadata": {},
     "output_type": "execute_result"
    }
   ],
   "source": [
    "bond_corr(sim.bond_array[0])"
   ]
  },
  {
   "cell_type": "code",
   "execution_count": 100,
   "id": "3d14439f",
   "metadata": {},
   "outputs": [
    {
     "data": {
      "text/plain": [
       "3"
      ]
     },
     "execution_count": 100,
     "metadata": {},
     "output_type": "execute_result"
    }
   ],
   "source": [
    "sim.particle_array.shape[0]"
   ]
  },
  {
   "cell_type": "code",
   "execution_count": 126,
   "id": "0f581be1",
   "metadata": {},
   "outputs": [
    {
     "data": {
      "text/plain": [
       "array([[3],\n",
       "       [5],\n",
       "       [4],\n",
       "       [3],\n",
       "       [2],\n",
       "       [3],\n",
       "       [3],\n",
       "       [1],\n",
       "       [2],\n",
       "       [4],\n",
       "       [1],\n",
       "       [2],\n",
       "       [4],\n",
       "       [5],\n",
       "       [3],\n",
       "       [5],\n",
       "       [3],\n",
       "       [5],\n",
       "       [4],\n",
       "       [3],\n",
       "       [2],\n",
       "       [2],\n",
       "       [1],\n",
       "       [2],\n",
       "       [4],\n",
       "       [1],\n",
       "       [3],\n",
       "       [1],\n",
       "       [1],\n",
       "       [2],\n",
       "       [3],\n",
       "       [2],\n",
       "       [1],\n",
       "       [1],\n",
       "       [1],\n",
       "       [4],\n",
       "       [3],\n",
       "       [3],\n",
       "       [4],\n",
       "       [3],\n",
       "       [2],\n",
       "       [2],\n",
       "       [2],\n",
       "       [3],\n",
       "       [1],\n",
       "       [4],\n",
       "       [2],\n",
       "       [1],\n",
       "       [2],\n",
       "       [1],\n",
       "       [1],\n",
       "       [2],\n",
       "       [1],\n",
       "       [2],\n",
       "       [2],\n",
       "       [2],\n",
       "       [1],\n",
       "       [1],\n",
       "       [1],\n",
       "       [1],\n",
       "       [1],\n",
       "       [1],\n",
       "       [1],\n",
       "       [2],\n",
       "       [1],\n",
       "       [1],\n",
       "       [1],\n",
       "       [1],\n",
       "       [1],\n",
       "       [1],\n",
       "       [2],\n",
       "       [3],\n",
       "       [1],\n",
       "       [1],\n",
       "       [1],\n",
       "       [1],\n",
       "       [2],\n",
       "       [3],\n",
       "       [1],\n",
       "       [1],\n",
       "       [2],\n",
       "       [2],\n",
       "       [2],\n",
       "       [1],\n",
       "       [1],\n",
       "       [2],\n",
       "       [2],\n",
       "       [1],\n",
       "       [1],\n",
       "       [1],\n",
       "       [2],\n",
       "       [2],\n",
       "       [1],\n",
       "       [2],\n",
       "       [1],\n",
       "       [3],\n",
       "       [3],\n",
       "       [1],\n",
       "       [1],\n",
       "       [2],\n",
       "       [1],\n",
       "       [2],\n",
       "       [1],\n",
       "       [1],\n",
       "       [2],\n",
       "       [1],\n",
       "       [1],\n",
       "       [1],\n",
       "       [1],\n",
       "       [1],\n",
       "       [1],\n",
       "       [1],\n",
       "       [3],\n",
       "       [1],\n",
       "       [1],\n",
       "       [2],\n",
       "       [1],\n",
       "       [2],\n",
       "       [1],\n",
       "       [1],\n",
       "       [1],\n",
       "       [1],\n",
       "       [1],\n",
       "       [1],\n",
       "       [1],\n",
       "       [1],\n",
       "       [1],\n",
       "       [1],\n",
       "       [1],\n",
       "       [1],\n",
       "       [1],\n",
       "       [1],\n",
       "       [1],\n",
       "       [1],\n",
       "       [1],\n",
       "       [1],\n",
       "       [1],\n",
       "       [1],\n",
       "       [1],\n",
       "       [1],\n",
       "       [1],\n",
       "       [1],\n",
       "       [1],\n",
       "       [1],\n",
       "       [1],\n",
       "       [1],\n",
       "       [1],\n",
       "       [1],\n",
       "       [1],\n",
       "       [1],\n",
       "       [1],\n",
       "       [1],\n",
       "       [1],\n",
       "       [1],\n",
       "       [1],\n",
       "       [1],\n",
       "       [1],\n",
       "       [1],\n",
       "       [1],\n",
       "       [2],\n",
       "       [1],\n",
       "       [1],\n",
       "       [1],\n",
       "       [1],\n",
       "       [1],\n",
       "       [1],\n",
       "       [1],\n",
       "       [1],\n",
       "       [1],\n",
       "       [1],\n",
       "       [1],\n",
       "       [1],\n",
       "       [1],\n",
       "       [1],\n",
       "       [1],\n",
       "       [1],\n",
       "       [1]])"
      ]
     },
     "execution_count": 126,
     "metadata": {},
     "output_type": "execute_result"
    }
   ],
   "source": [
    "sim.multiplicity_array"
   ]
  },
  {
   "cell_type": "code",
   "execution_count": 125,
   "id": "3984312c",
   "metadata": {},
   "outputs": [
    {
     "data": {
      "text/plain": [
       "array([[ 0,  0,  0,  2],\n",
       "       [-1,  0,  0,  2],\n",
       "       [-1,  0, -1,  2],\n",
       "       [ 0,  0,  0,  1],\n",
       "       [ 0, -1, -1,  1],\n",
       "       [ 1, -1,  0,  1],\n",
       "       [ 0, -1, -1,  2],\n",
       "       [ 0, -2, -1,  2],\n",
       "       [ 0,  1, -1,  2],\n",
       "       [-1,  1, -1,  2],\n",
       "       [ 0,  1,  1,  1],\n",
       "       [-1, -1,  0,  1],\n",
       "       [ 0, -1,  0,  1],\n",
       "       [ 0, -1,  1,  1],\n",
       "       [-1,  0,  1,  1],\n",
       "       [ 0,  0, -1,  2],\n",
       "       [-1,  1,  1,  2],\n",
       "       [-1,  1,  0,  2],\n",
       "       [-2,  1,  1,  2],\n",
       "       [ 0,  0,  1,  1],\n",
       "       [ 0,  0,  2,  1],\n",
       "       [-1,  1,  2,  1],\n",
       "       [-1,  0,  2,  2],\n",
       "       [-1,  0,  1,  2],\n",
       "       [-2,  0,  2,  2],\n",
       "       [-1, -1,  1,  2],\n",
       "       [-2,  0,  0,  2],\n",
       "       [-2,  0, -1,  2],\n",
       "       [ 0, -2,  0,  1],\n",
       "       [ 1, -2,  0,  1],\n",
       "       [ 1, -2,  1,  1],\n",
       "       [-1,  2,  0,  2],\n",
       "       [-1,  2, -1,  2],\n",
       "       [-1,  2,  1,  2],\n",
       "       [-1,  0,  2,  1],\n",
       "       [ 1, -1, -1,  2],\n",
       "       [ 1, -1, -2,  2],\n",
       "       [ 0, -1, -2,  2],\n",
       "       [-2,  2,  0,  1],\n",
       "       [-2,  2,  1,  1],\n",
       "       [-1,  2,  0,  1],\n",
       "       [-2,  3,  0,  1],\n",
       "       [-2,  3,  1,  1],\n",
       "       [ 1, -1,  0,  2],\n",
       "       [ 0, -1,  0,  2],\n",
       "       [-2,  0,  1,  2],\n",
       "       [-3,  0,  1,  2],\n",
       "       [-3,  0,  0,  2],\n",
       "       [-2, -1,  1,  2],\n",
       "       [-2, -1,  0,  2],\n",
       "       [ 1, -2, -2,  1],\n",
       "       [ 1, -2, -1,  1],\n",
       "       [ 2, -2, -2,  1],\n",
       "       [ 1, -1, -1,  1],\n",
       "       [-2,  1,  0,  1],\n",
       "       [-1,  1,  0,  1],\n",
       "       [-1, -1, -1,  1],\n",
       "       [-1,  0, -1,  1],\n",
       "       [-1,  0,  0,  1],\n",
       "       [ 0,  1,  0,  1],\n",
       "       [ 1, -1, -3,  2],\n",
       "       [ 0, -1, -3,  2],\n",
       "       [ 1, -2, -3,  2],\n",
       "       [ 1, -2, -2,  2],\n",
       "       [-1, -1,  0,  2],\n",
       "       [-1, -1,  2,  2],\n",
       "       [ 1, -2,  0,  2],\n",
       "       [ 2, -2, -2,  2],\n",
       "       [ 2, -3, -1,  2],\n",
       "       [ 2, -3, -2,  2],\n",
       "       [ 1,  0, -1,  2],\n",
       "       [ 0,  0, -2,  2],\n",
       "       [-3,  0,  2,  2],\n",
       "       [ 0, -2,  0,  2],\n",
       "       [-1, -2,  1,  2],\n",
       "       [-1, -2,  0,  2],\n",
       "       [ 0, -3,  0,  2],\n",
       "       [ 0, -3,  2,  1],\n",
       "       [ 1, -3,  1,  1],\n",
       "       [ 1, -3,  2,  1],\n",
       "       [ 0, -2,  1,  1],\n",
       "       [ 0, -2,  2,  1],\n",
       "       [-2,  2, -1,  1],\n",
       "       [-1,  2, -1,  1],\n",
       "       [-2,  3, -1,  1],\n",
       "       [ 2, -2, -1,  1],\n",
       "       [ 2, -2,  0,  1],\n",
       "       [ 3, -2, -1,  1],\n",
       "       [ 3, -2,  0,  1],\n",
       "       [ 2, -1, -1,  1],\n",
       "       [-2,  1,  0,  2],\n",
       "       [-3,  1,  1,  2],\n",
       "       [-3,  1,  0,  2],\n",
       "       [ 1, -2,  2,  1],\n",
       "       [ 2, -2,  1,  1],\n",
       "       [ 1, -1,  1,  1],\n",
       "       [ 1, -1,  2,  1],\n",
       "       [-2,  1, -1,  1],\n",
       "       [-1,  1, -1,  1],\n",
       "       [-3,  1,  2,  2],\n",
       "       [-1, -3,  0,  2],\n",
       "       [-1,  2,  1,  1],\n",
       "       [ 0, -3,  1,  2],\n",
       "       [-1,  1,  3,  1],\n",
       "       [-2,  2,  2,  1],\n",
       "       [-2,  2,  3,  1],\n",
       "       [ 2, -1,  0,  2],\n",
       "       [ 2, -1, -1,  2],\n",
       "       [ 2, -2,  0,  2],\n",
       "       [ 2, -2, -1,  2],\n",
       "       [-1, -3,  1,  1],\n",
       "       [-1, -3,  2,  1],\n",
       "       [ 0, -3,  1,  1],\n",
       "       [-1, -2,  1,  1],\n",
       "       [-1, -2,  2,  1],\n",
       "       [ 0, -4,  1,  1],\n",
       "       [ 1, -4,  2,  1],\n",
       "       [ 0, -1,  2,  1],\n",
       "       [ 2, -2,  2,  2],\n",
       "       [ 2, -2,  1,  2],\n",
       "       [ 1, -2,  2,  2],\n",
       "       [ 2, -3,  2,  2],\n",
       "       [ 2, -3,  1,  2],\n",
       "       [-1,  2,  2,  1],\n",
       "       [-1,  0, -2,  2],\n",
       "       [-2,  3,  2,  2],\n",
       "       [-2,  3,  1,  2],\n",
       "       [-3,  3,  2,  2],\n",
       "       [-3,  3,  1,  2],\n",
       "       [-2,  2,  2,  2],\n",
       "       [-2,  1,  2,  1],\n",
       "       [ 0,  1, -2,  2],\n",
       "       [-1,  1, -2,  2],\n",
       "       [ 2, -1,  1,  1],\n",
       "       [ 2, -1,  2,  1],\n",
       "       [ 1,  0,  1,  1],\n",
       "       [ 1,  0,  2,  1],\n",
       "       [-2,  2,  1,  2],\n",
       "       [ 1, -2,  1,  2],\n",
       "       [ 1,  0, -2,  1],\n",
       "       [ 1,  0, -1,  1],\n",
       "       [ 2,  0, -1,  1],\n",
       "       [ 1,  1, -2,  1],\n",
       "       [ 1,  1, -1,  1],\n",
       "       [ 1,  0,  0,  2],\n",
       "       [ 2,  0, -2,  2],\n",
       "       [ 2,  0, -3,  2],\n",
       "       [ 1,  0, -2,  2],\n",
       "       [ 1,  0, -3,  2],\n",
       "       [ 2, -1, -2,  2],\n",
       "       [ 2, -1, -3,  2],\n",
       "       [-2,  1,  3,  2],\n",
       "       [-2,  1,  2,  2],\n",
       "       [-3,  1,  3,  2],\n",
       "       [-2,  0,  3,  2],\n",
       "       [ 0, -4,  0,  1],\n",
       "       [ 1, -4,  0,  1],\n",
       "       [ 0, -3,  0,  1],\n",
       "       [ 0, -4,  2,  2],\n",
       "       [ 0, -4,  1,  2],\n",
       "       [-1, -4,  2,  2],\n",
       "       [-1, -4,  1,  2],\n",
       "       [ 0, -5,  2,  2],\n",
       "       [ 0, -5,  1,  2],\n",
       "       [-2, -1,  2,  1],\n",
       "       [-2, -1,  3,  1],\n",
       "       [-1, -1,  2,  1],\n",
       "       [-1, -1,  3,  1],\n",
       "       [-2,  0,  2,  1],\n",
       "       [-2,  0,  3,  1],\n",
       "       [ 0,  1,  0,  2],\n",
       "       [ 1, -4,  1,  2],\n",
       "       [ 1, -4,  0,  2],\n",
       "       [ 0, -4,  0,  2],\n",
       "       [ 1, -5,  1,  2],\n",
       "       [ 1, -5,  0,  2],\n",
       "       [-1, -1,  1,  1]])"
      ]
     },
     "execution_count": 125,
     "metadata": {},
     "output_type": "execute_result"
    }
   ],
   "source": [
    "sim.neighbor_array"
   ]
  },
  {
   "cell_type": "code",
   "execution_count": 123,
   "id": "d09a2460",
   "metadata": {},
   "outputs": [
    {
     "data": {
      "text/plain": [
       "array([[3],\n",
       "       [6],\n",
       "       [4],\n",
       "       [5],\n",
       "       [2],\n",
       "       [6],\n",
       "       [2],\n",
       "       [3],\n",
       "       [3],\n",
       "       [2],\n",
       "       [2],\n",
       "       [3],\n",
       "       [3],\n",
       "       [2],\n",
       "       [3],\n",
       "       [5],\n",
       "       [3],\n",
       "       [3],\n",
       "       [2],\n",
       "       [4],\n",
       "       [1],\n",
       "       [3],\n",
       "       [4],\n",
       "       [2],\n",
       "       [1],\n",
       "       [3],\n",
       "       [2],\n",
       "       [2],\n",
       "       [3],\n",
       "       [2],\n",
       "       [1],\n",
       "       [2],\n",
       "       [2],\n",
       "       [2],\n",
       "       [2],\n",
       "       [1],\n",
       "       [2],\n",
       "       [4],\n",
       "       [2],\n",
       "       [1],\n",
       "       [1],\n",
       "       [3],\n",
       "       [1],\n",
       "       [1],\n",
       "       [2],\n",
       "       [2],\n",
       "       [1],\n",
       "       [1],\n",
       "       [1],\n",
       "       [2],\n",
       "       [1],\n",
       "       [2],\n",
       "       [1],\n",
       "       [1],\n",
       "       [1],\n",
       "       [2],\n",
       "       [1],\n",
       "       [1],\n",
       "       [2]])"
      ]
     },
     "execution_count": 123,
     "metadata": {},
     "output_type": "execute_result"
    }
   ],
   "source": [
    "sim.bond_number_array"
   ]
  },
  {
   "cell_type": "code",
   "execution_count": 124,
   "id": "600d3e16",
   "metadata": {},
   "outputs": [
    {
     "data": {
      "text/plain": [
       "array([[0, 1, 0, 0, 1, 1],\n",
       "       [1, 1, 1, 1, 1, 1],\n",
       "       [0, 1, 1, 0, 1, 1],\n",
       "       [1, 1, 1, 1, 1, 0],\n",
       "       [0, 0, 1, 0, 0, 1],\n",
       "       [1, 2, 1, 0, 1, 1],\n",
       "       [0, 0, 1, 0, 1, 0],\n",
       "       [0, 1, 0, 1, 1, 0],\n",
       "       [0, 1, 0, 0, 2, 0],\n",
       "       [0, 1, 0, 1, 0, 0],\n",
       "       [0, 0, 0, 0, 1, 1],\n",
       "       [1, 0, 0, 1, 1, 0],\n",
       "       [1, 0, 1, 1, 0, 0],\n",
       "       [0, 1, 0, 0, 1, 0],\n",
       "       [0, 0, 1, 1, 1, 0],\n",
       "       [1, 1, 0, 1, 1, 1],\n",
       "       [0, 0, 1, 1, 0, 1],\n",
       "       [0, 0, 1, 0, 1, 1],\n",
       "       [0, 0, 1, 1, 0, 0],\n",
       "       [1, 0, 1, 1, 1, 0],\n",
       "       [1, 0, 0, 0, 0, 0],\n",
       "       [0, 0, 0, 1, 1, 1],\n",
       "       [0, 1, 1, 2, 0, 0],\n",
       "       [0, 0, 0, 1, 0, 1],\n",
       "       [0, 0, 0, 0, 1, 0],\n",
       "       [1, 0, 1, 1, 0, 0],\n",
       "       [0, 1, 1, 0, 0, 0],\n",
       "       [0, 1, 0, 0, 1, 0],\n",
       "       [1, 1, 0, 0, 1, 0],\n",
       "       [1, 0, 0, 0, 1, 0],\n",
       "       [0, 0, 0, 1, 0, 0],\n",
       "       [1, 0, 0, 0, 0, 1],\n",
       "       [0, 1, 0, 0, 1, 0],\n",
       "       [0, 0, 1, 0, 1, 0],\n",
       "       [0, 0, 0, 1, 1, 0],\n",
       "       [0, 0, 0, 1, 0, 0],\n",
       "       [1, 0, 0, 0, 0, 1],\n",
       "       [1, 0, 1, 0, 1, 1],\n",
       "       [1, 1, 0, 0, 0, 0],\n",
       "       [0, 0, 0, 0, 0, 1],\n",
       "       [0, 0, 1, 0, 0, 0],\n",
       "       [0, 1, 1, 0, 1, 0],\n",
       "       [1, 0, 0, 0, 0, 0],\n",
       "       [0, 0, 0, 1, 0, 0],\n",
       "       [0, 0, 1, 0, 0, 1],\n",
       "       [1, 0, 0, 0, 1, 0],\n",
       "       [0, 0, 0, 0, 0, 1],\n",
       "       [0, 0, 0, 0, 1, 0],\n",
       "       [1, 0, 0, 0, 0, 0],\n",
       "       [0, 1, 0, 1, 1, 0],\n",
       "       [0, 0, 1, 0, 0, 0],\n",
       "       [0, 1, 1, 0, 0, 0],\n",
       "       [0, 0, 0, 1, 0, 0],\n",
       "       [0, 0, 1, 0, 0, 0],\n",
       "       [0, 1, 0, 0, 0, 0],\n",
       "       [0, 0, 0, 1, 0, 1],\n",
       "       [0, 1, 0, 0, 0, 0],\n",
       "       [0, 0, 0, 0, 1, 0],\n",
       "       [0, 0, 1, 1, 0, 0]])"
      ]
     },
     "execution_count": 124,
     "metadata": {},
     "output_type": "execute_result"
    }
   ],
   "source": [
    "sim.bond_array"
   ]
  },
  {
   "cell_type": "code",
   "execution_count": 118,
   "id": "f65989ab",
   "metadata": {},
   "outputs": [
    {
     "data": {
      "text/plain": [
       "array([[ 1],\n",
       "       [ 1],\n",
       "       [-1]])"
      ]
     },
     "execution_count": 118,
     "metadata": {},
     "output_type": "execute_result"
    }
   ],
   "source": [
    "sim.multiplicity_array"
   ]
  },
  {
   "cell_type": "code",
   "execution_count": 49,
   "id": "d7bd4305",
   "metadata": {},
   "outputs": [
    {
     "data": {
      "text/plain": [
       "array([ True,  True,  True,  True,  True,  True])"
      ]
     },
     "execution_count": 49,
     "metadata": {},
     "output_type": "execute_result"
    }
   ],
   "source": [
    "bond_array_one=np.array([1,1,1,1,1,1])\n",
    "bond_array_one_logic=np.ones((6), dtype=bool)\n",
    "\n",
    "for i in range(0,6):\n",
    "    if bond_array_one[i]==-1:\n",
    "        bond_array_one_logic[i]=False\n",
    "    else:\n",
    "        bond_array_one_logic[i]=True\n",
    "np.array([bond_array_one_logic[0]|bond_array_one_logic[1],bond_array_one_logic[0]|bond_array_one_logic[1],bond_array_one_logic[2]|bond_array_one_logic[3],bond_array_one_logic[2]|bond_array_one_logic[3],bond_array_one_logic[4]|bond_array_one_logic[5],bond_array_one_logic[4]|bond_array_one_logic[5]])\n"
   ]
  },
  {
   "cell_type": "code",
   "execution_count": 47,
   "id": "979d3877",
   "metadata": {},
   "outputs": [
    {
     "data": {
      "text/plain": [
       "array([1., 1., 1., 1., 1., 1.])"
      ]
     },
     "execution_count": 47,
     "metadata": {},
     "output_type": "execute_result"
    }
   ],
   "source": [
    "bond_array_one_logic"
   ]
  },
  {
   "cell_type": "code",
   "execution_count": 121,
   "id": "7b1677c4",
   "metadata": {},
   "outputs": [],
   "source": [
    "position_array=np.zeros((sim.particle_array.shape[0],3))\n",
    "atom_array=np.array([[0,0,0],[1.73,1.73/np.sqrt(3),0.94]])\n",
    "lattice_array=np.array([[3.46,0,0],[3.46/2,3.46*np.sqrt(3)/2,0],[0,0,1.88]])\n",
    "for i in range(0,sim.particle_array.shape[0]):\n",
    "    position_array[i]=sim.particle_array[i][0]*lattice_array[0]+sim.particle_array[i][1]*lattice_array[1]+sim.particle_array[i][2]*lattice_array[2]+atom_array[sim.particle_array[i][3]-1]"
   ]
  },
  {
   "cell_type": "code",
   "execution_count": 122,
   "id": "14334905",
   "metadata": {},
   "outputs": [
    {
     "data": {
      "application/vnd.plotly.v1+json": {
       "config": {
        "plotlyServerURL": "https://plot.ly"
       },
       "data": [
        {
         "mode": "markers",
         "type": "scatter3d",
         "x": [
          0,
          1.73,
          0,
          -1.73,
          1.73,
          0,
          -3.4599999999999995,
          -1.73,
          -1.73,
          -3.46,
          -3.46,
          0,
          -1.73,
          -1.73,
          0,
          -5.1899999999999995,
          0,
          1.73,
          -1.73,
          1.73,
          -6.92,
          1.73,
          -3.4599999999999995,
          -3.4599999999999995,
          1.73,
          3.46,
          3.46,
          -6.92,
          -3.46,
          -3.4599999999999995,
          -1.73,
          5.1899999999999995,
          -5.1899999999999995,
          1.73,
          1.73,
          -3.4599999999999995,
          -5.1899999999999995,
          -5.1899999999999995,
          -3.4599999999999995,
          5.1899999999999995,
          -6.919999999999998,
          -5.1899999999999995,
          -1.73,
          3.46,
          -1.73,
          0,
          -1.7300000000000004,
          1.73,
          3.46,
          -1.73,
          0,
          5.1899999999999995,
          3.46,
          6.92,
          -5.1899999999999995,
          -5.1899999999999995,
          -6.92,
          -6.92,
          -3.46
         ],
         "y": [
          0,
          0.9988159656980526,
          -1.9976319313961048,
          -2.9964478970941575,
          2.9964478970941575,
          3.99526386279221,
          -1.9976319313961048,
          2.9964478970941575,
          0.9988159656980526,
          0,
          0,
          -1.9976319313961048,
          2.9964478970941575,
          -4.994079828490262,
          5.992895794188315,
          0.9988159656980526,
          5.992895794188315,
          -2.9964478970941575,
          6.991711759886368,
          -2.9964478970941575,
          0,
          -4.994079828490262,
          3.99526386279221,
          -1.9976319313961048,
          -2.9964478970941575,
          -5.992895794188315,
          0,
          0,
          -5.992895794188315,
          -7.99052772558442,
          6.991711759886368,
          -4.994079828490262,
          2.9964478970941575,
          -4.994079828490262,
          -4.994079828490262,
          3.99526386279221,
          2.9964478970941575,
          -8.989343691282473,
          3.99526386279221,
          -2.9964478970941575,
          -7.99052772558442,
          -10.986975622678578,
          -4.994079828490262,
          -5.992895794188315,
          6.991711759886368,
          0,
          8.989343691282473,
          2.9964478970941575,
          -1.9976319313961048,
          2.9964478970941575,
          -1.9976319313961048,
          0.9988159656980526,
          0,
          0,
          2.9964478970941575,
          -10.986975622678578,
          -11.98579158837663,
          -1.9976319313961048,
          -11.98579158837663
         ],
         "z": [
          0,
          -0.94,
          -0.94,
          0,
          0,
          0.94,
          0.94,
          1.88,
          2.82,
          3.76,
          0,
          0.94,
          0,
          0.94,
          0,
          2.82,
          1.88,
          -1.88,
          0.94,
          1.88,
          1.88,
          -2.82,
          0.94,
          -0.94,
          -3.76,
          -1.88,
          -1.88,
          3.76,
          1.88,
          2.82,
          -0.94,
          -0.94,
          1.88,
          -0.94,
          2.82,
          -0.94,
          3.76,
          1.88,
          4.699999999999999,
          0,
          2.82,
          2.82,
          2.82,
          3.76,
          2.82,
          -1.88,
          3.76,
          -1.88,
          2.82,
          1.88,
          2.82,
          -2.82,
          0,
          -3.76,
          5.64,
          0.94,
          3.76,
          4.699999999999999,
          1.88
         ]
        }
       ],
       "layout": {
        "template": {
         "data": {
          "bar": [
           {
            "error_x": {
             "color": "#2a3f5f"
            },
            "error_y": {
             "color": "#2a3f5f"
            },
            "marker": {
             "line": {
              "color": "#E5ECF6",
              "width": 0.5
             },
             "pattern": {
              "fillmode": "overlay",
              "size": 10,
              "solidity": 0.2
             }
            },
            "type": "bar"
           }
          ],
          "barpolar": [
           {
            "marker": {
             "line": {
              "color": "#E5ECF6",
              "width": 0.5
             },
             "pattern": {
              "fillmode": "overlay",
              "size": 10,
              "solidity": 0.2
             }
            },
            "type": "barpolar"
           }
          ],
          "carpet": [
           {
            "aaxis": {
             "endlinecolor": "#2a3f5f",
             "gridcolor": "white",
             "linecolor": "white",
             "minorgridcolor": "white",
             "startlinecolor": "#2a3f5f"
            },
            "baxis": {
             "endlinecolor": "#2a3f5f",
             "gridcolor": "white",
             "linecolor": "white",
             "minorgridcolor": "white",
             "startlinecolor": "#2a3f5f"
            },
            "type": "carpet"
           }
          ],
          "choropleth": [
           {
            "colorbar": {
             "outlinewidth": 0,
             "ticks": ""
            },
            "type": "choropleth"
           }
          ],
          "contour": [
           {
            "colorbar": {
             "outlinewidth": 0,
             "ticks": ""
            },
            "colorscale": [
             [
              0,
              "#0d0887"
             ],
             [
              0.1111111111111111,
              "#46039f"
             ],
             [
              0.2222222222222222,
              "#7201a8"
             ],
             [
              0.3333333333333333,
              "#9c179e"
             ],
             [
              0.4444444444444444,
              "#bd3786"
             ],
             [
              0.5555555555555556,
              "#d8576b"
             ],
             [
              0.6666666666666666,
              "#ed7953"
             ],
             [
              0.7777777777777778,
              "#fb9f3a"
             ],
             [
              0.8888888888888888,
              "#fdca26"
             ],
             [
              1,
              "#f0f921"
             ]
            ],
            "type": "contour"
           }
          ],
          "contourcarpet": [
           {
            "colorbar": {
             "outlinewidth": 0,
             "ticks": ""
            },
            "type": "contourcarpet"
           }
          ],
          "heatmap": [
           {
            "colorbar": {
             "outlinewidth": 0,
             "ticks": ""
            },
            "colorscale": [
             [
              0,
              "#0d0887"
             ],
             [
              0.1111111111111111,
              "#46039f"
             ],
             [
              0.2222222222222222,
              "#7201a8"
             ],
             [
              0.3333333333333333,
              "#9c179e"
             ],
             [
              0.4444444444444444,
              "#bd3786"
             ],
             [
              0.5555555555555556,
              "#d8576b"
             ],
             [
              0.6666666666666666,
              "#ed7953"
             ],
             [
              0.7777777777777778,
              "#fb9f3a"
             ],
             [
              0.8888888888888888,
              "#fdca26"
             ],
             [
              1,
              "#f0f921"
             ]
            ],
            "type": "heatmap"
           }
          ],
          "heatmapgl": [
           {
            "colorbar": {
             "outlinewidth": 0,
             "ticks": ""
            },
            "colorscale": [
             [
              0,
              "#0d0887"
             ],
             [
              0.1111111111111111,
              "#46039f"
             ],
             [
              0.2222222222222222,
              "#7201a8"
             ],
             [
              0.3333333333333333,
              "#9c179e"
             ],
             [
              0.4444444444444444,
              "#bd3786"
             ],
             [
              0.5555555555555556,
              "#d8576b"
             ],
             [
              0.6666666666666666,
              "#ed7953"
             ],
             [
              0.7777777777777778,
              "#fb9f3a"
             ],
             [
              0.8888888888888888,
              "#fdca26"
             ],
             [
              1,
              "#f0f921"
             ]
            ],
            "type": "heatmapgl"
           }
          ],
          "histogram": [
           {
            "marker": {
             "pattern": {
              "fillmode": "overlay",
              "size": 10,
              "solidity": 0.2
             }
            },
            "type": "histogram"
           }
          ],
          "histogram2d": [
           {
            "colorbar": {
             "outlinewidth": 0,
             "ticks": ""
            },
            "colorscale": [
             [
              0,
              "#0d0887"
             ],
             [
              0.1111111111111111,
              "#46039f"
             ],
             [
              0.2222222222222222,
              "#7201a8"
             ],
             [
              0.3333333333333333,
              "#9c179e"
             ],
             [
              0.4444444444444444,
              "#bd3786"
             ],
             [
              0.5555555555555556,
              "#d8576b"
             ],
             [
              0.6666666666666666,
              "#ed7953"
             ],
             [
              0.7777777777777778,
              "#fb9f3a"
             ],
             [
              0.8888888888888888,
              "#fdca26"
             ],
             [
              1,
              "#f0f921"
             ]
            ],
            "type": "histogram2d"
           }
          ],
          "histogram2dcontour": [
           {
            "colorbar": {
             "outlinewidth": 0,
             "ticks": ""
            },
            "colorscale": [
             [
              0,
              "#0d0887"
             ],
             [
              0.1111111111111111,
              "#46039f"
             ],
             [
              0.2222222222222222,
              "#7201a8"
             ],
             [
              0.3333333333333333,
              "#9c179e"
             ],
             [
              0.4444444444444444,
              "#bd3786"
             ],
             [
              0.5555555555555556,
              "#d8576b"
             ],
             [
              0.6666666666666666,
              "#ed7953"
             ],
             [
              0.7777777777777778,
              "#fb9f3a"
             ],
             [
              0.8888888888888888,
              "#fdca26"
             ],
             [
              1,
              "#f0f921"
             ]
            ],
            "type": "histogram2dcontour"
           }
          ],
          "mesh3d": [
           {
            "colorbar": {
             "outlinewidth": 0,
             "ticks": ""
            },
            "type": "mesh3d"
           }
          ],
          "parcoords": [
           {
            "line": {
             "colorbar": {
              "outlinewidth": 0,
              "ticks": ""
             }
            },
            "type": "parcoords"
           }
          ],
          "pie": [
           {
            "automargin": true,
            "type": "pie"
           }
          ],
          "scatter": [
           {
            "fillpattern": {
             "fillmode": "overlay",
             "size": 10,
             "solidity": 0.2
            },
            "type": "scatter"
           }
          ],
          "scatter3d": [
           {
            "line": {
             "colorbar": {
              "outlinewidth": 0,
              "ticks": ""
             }
            },
            "marker": {
             "colorbar": {
              "outlinewidth": 0,
              "ticks": ""
             }
            },
            "type": "scatter3d"
           }
          ],
          "scattercarpet": [
           {
            "marker": {
             "colorbar": {
              "outlinewidth": 0,
              "ticks": ""
             }
            },
            "type": "scattercarpet"
           }
          ],
          "scattergeo": [
           {
            "marker": {
             "colorbar": {
              "outlinewidth": 0,
              "ticks": ""
             }
            },
            "type": "scattergeo"
           }
          ],
          "scattergl": [
           {
            "marker": {
             "colorbar": {
              "outlinewidth": 0,
              "ticks": ""
             }
            },
            "type": "scattergl"
           }
          ],
          "scattermapbox": [
           {
            "marker": {
             "colorbar": {
              "outlinewidth": 0,
              "ticks": ""
             }
            },
            "type": "scattermapbox"
           }
          ],
          "scatterpolar": [
           {
            "marker": {
             "colorbar": {
              "outlinewidth": 0,
              "ticks": ""
             }
            },
            "type": "scatterpolar"
           }
          ],
          "scatterpolargl": [
           {
            "marker": {
             "colorbar": {
              "outlinewidth": 0,
              "ticks": ""
             }
            },
            "type": "scatterpolargl"
           }
          ],
          "scatterternary": [
           {
            "marker": {
             "colorbar": {
              "outlinewidth": 0,
              "ticks": ""
             }
            },
            "type": "scatterternary"
           }
          ],
          "surface": [
           {
            "colorbar": {
             "outlinewidth": 0,
             "ticks": ""
            },
            "colorscale": [
             [
              0,
              "#0d0887"
             ],
             [
              0.1111111111111111,
              "#46039f"
             ],
             [
              0.2222222222222222,
              "#7201a8"
             ],
             [
              0.3333333333333333,
              "#9c179e"
             ],
             [
              0.4444444444444444,
              "#bd3786"
             ],
             [
              0.5555555555555556,
              "#d8576b"
             ],
             [
              0.6666666666666666,
              "#ed7953"
             ],
             [
              0.7777777777777778,
              "#fb9f3a"
             ],
             [
              0.8888888888888888,
              "#fdca26"
             ],
             [
              1,
              "#f0f921"
             ]
            ],
            "type": "surface"
           }
          ],
          "table": [
           {
            "cells": {
             "fill": {
              "color": "#EBF0F8"
             },
             "line": {
              "color": "white"
             }
            },
            "header": {
             "fill": {
              "color": "#C8D4E3"
             },
             "line": {
              "color": "white"
             }
            },
            "type": "table"
           }
          ]
         },
         "layout": {
          "annotationdefaults": {
           "arrowcolor": "#2a3f5f",
           "arrowhead": 0,
           "arrowwidth": 1
          },
          "autotypenumbers": "strict",
          "coloraxis": {
           "colorbar": {
            "outlinewidth": 0,
            "ticks": ""
           }
          },
          "colorscale": {
           "diverging": [
            [
             0,
             "#8e0152"
            ],
            [
             0.1,
             "#c51b7d"
            ],
            [
             0.2,
             "#de77ae"
            ],
            [
             0.3,
             "#f1b6da"
            ],
            [
             0.4,
             "#fde0ef"
            ],
            [
             0.5,
             "#f7f7f7"
            ],
            [
             0.6,
             "#e6f5d0"
            ],
            [
             0.7,
             "#b8e186"
            ],
            [
             0.8,
             "#7fbc41"
            ],
            [
             0.9,
             "#4d9221"
            ],
            [
             1,
             "#276419"
            ]
           ],
           "sequential": [
            [
             0,
             "#0d0887"
            ],
            [
             0.1111111111111111,
             "#46039f"
            ],
            [
             0.2222222222222222,
             "#7201a8"
            ],
            [
             0.3333333333333333,
             "#9c179e"
            ],
            [
             0.4444444444444444,
             "#bd3786"
            ],
            [
             0.5555555555555556,
             "#d8576b"
            ],
            [
             0.6666666666666666,
             "#ed7953"
            ],
            [
             0.7777777777777778,
             "#fb9f3a"
            ],
            [
             0.8888888888888888,
             "#fdca26"
            ],
            [
             1,
             "#f0f921"
            ]
           ],
           "sequentialminus": [
            [
             0,
             "#0d0887"
            ],
            [
             0.1111111111111111,
             "#46039f"
            ],
            [
             0.2222222222222222,
             "#7201a8"
            ],
            [
             0.3333333333333333,
             "#9c179e"
            ],
            [
             0.4444444444444444,
             "#bd3786"
            ],
            [
             0.5555555555555556,
             "#d8576b"
            ],
            [
             0.6666666666666666,
             "#ed7953"
            ],
            [
             0.7777777777777778,
             "#fb9f3a"
            ],
            [
             0.8888888888888888,
             "#fdca26"
            ],
            [
             1,
             "#f0f921"
            ]
           ]
          },
          "colorway": [
           "#636efa",
           "#EF553B",
           "#00cc96",
           "#ab63fa",
           "#FFA15A",
           "#19d3f3",
           "#FF6692",
           "#B6E880",
           "#FF97FF",
           "#FECB52"
          ],
          "font": {
           "color": "#2a3f5f"
          },
          "geo": {
           "bgcolor": "white",
           "lakecolor": "white",
           "landcolor": "#E5ECF6",
           "showlakes": true,
           "showland": true,
           "subunitcolor": "white"
          },
          "hoverlabel": {
           "align": "left"
          },
          "hovermode": "closest",
          "mapbox": {
           "style": "light"
          },
          "paper_bgcolor": "white",
          "plot_bgcolor": "#E5ECF6",
          "polar": {
           "angularaxis": {
            "gridcolor": "white",
            "linecolor": "white",
            "ticks": ""
           },
           "bgcolor": "#E5ECF6",
           "radialaxis": {
            "gridcolor": "white",
            "linecolor": "white",
            "ticks": ""
           }
          },
          "scene": {
           "xaxis": {
            "backgroundcolor": "#E5ECF6",
            "gridcolor": "white",
            "gridwidth": 2,
            "linecolor": "white",
            "showbackground": true,
            "ticks": "",
            "zerolinecolor": "white"
           },
           "yaxis": {
            "backgroundcolor": "#E5ECF6",
            "gridcolor": "white",
            "gridwidth": 2,
            "linecolor": "white",
            "showbackground": true,
            "ticks": "",
            "zerolinecolor": "white"
           },
           "zaxis": {
            "backgroundcolor": "#E5ECF6",
            "gridcolor": "white",
            "gridwidth": 2,
            "linecolor": "white",
            "showbackground": true,
            "ticks": "",
            "zerolinecolor": "white"
           }
          },
          "shapedefaults": {
           "line": {
            "color": "#2a3f5f"
           }
          },
          "ternary": {
           "aaxis": {
            "gridcolor": "white",
            "linecolor": "white",
            "ticks": ""
           },
           "baxis": {
            "gridcolor": "white",
            "linecolor": "white",
            "ticks": ""
           },
           "bgcolor": "#E5ECF6",
           "caxis": {
            "gridcolor": "white",
            "linecolor": "white",
            "ticks": ""
           }
          },
          "title": {
           "x": 0.05
          },
          "xaxis": {
           "automargin": true,
           "gridcolor": "white",
           "linecolor": "white",
           "ticks": "",
           "title": {
            "standoff": 15
           },
           "zerolinecolor": "white",
           "zerolinewidth": 2
          },
          "yaxis": {
           "automargin": true,
           "gridcolor": "white",
           "linecolor": "white",
           "ticks": "",
           "title": {
            "standoff": 15
           },
           "zerolinecolor": "white",
           "zerolinewidth": 2
          }
         }
        }
       }
      },
      "text/html": [
       "<div>                            <div id=\"2d027449-5182-44bd-aa38-89fe77f94ef3\" class=\"plotly-graph-div\" style=\"height:525px; width:100%;\"></div>            <script type=\"text/javascript\">                require([\"plotly\"], function(Plotly) {                    window.PLOTLYENV=window.PLOTLYENV || {};                                    if (document.getElementById(\"2d027449-5182-44bd-aa38-89fe77f94ef3\")) {                    Plotly.newPlot(                        \"2d027449-5182-44bd-aa38-89fe77f94ef3\",                        [{\"mode\":\"markers\",\"x\":[0.0,1.73,0.0,-1.73,1.73,0.0,-3.4599999999999995,-1.73,-1.73,-3.46,-3.46,0.0,-1.73,-1.73,0.0,-5.1899999999999995,0.0,1.73,-1.73,1.73,-6.92,1.73,-3.4599999999999995,-3.4599999999999995,1.73,3.46,3.46,-6.92,-3.46,-3.4599999999999995,-1.73,5.1899999999999995,-5.1899999999999995,1.73,1.73,-3.4599999999999995,-5.1899999999999995,-5.1899999999999995,-3.4599999999999995,5.1899999999999995,-6.919999999999998,-5.1899999999999995,-1.73,3.46,-1.73,0.0,-1.7300000000000004,1.73,3.46,-1.73,0.0,5.1899999999999995,3.46,6.92,-5.1899999999999995,-5.1899999999999995,-6.92,-6.92,-3.46],\"y\":[0.0,0.9988159656980526,-1.9976319313961048,-2.9964478970941575,2.9964478970941575,3.99526386279221,-1.9976319313961048,2.9964478970941575,0.9988159656980526,0.0,0.0,-1.9976319313961048,2.9964478970941575,-4.994079828490262,5.992895794188315,0.9988159656980526,5.992895794188315,-2.9964478970941575,6.991711759886368,-2.9964478970941575,0.0,-4.994079828490262,3.99526386279221,-1.9976319313961048,-2.9964478970941575,-5.992895794188315,0.0,0.0,-5.992895794188315,-7.99052772558442,6.991711759886368,-4.994079828490262,2.9964478970941575,-4.994079828490262,-4.994079828490262,3.99526386279221,2.9964478970941575,-8.989343691282473,3.99526386279221,-2.9964478970941575,-7.99052772558442,-10.986975622678578,-4.994079828490262,-5.992895794188315,6.991711759886368,0.0,8.989343691282473,2.9964478970941575,-1.9976319313961048,2.9964478970941575,-1.9976319313961048,0.9988159656980526,0.0,0.0,2.9964478970941575,-10.986975622678578,-11.98579158837663,-1.9976319313961048,-11.98579158837663],\"z\":[0.0,-0.94,-0.94,0.0,0.0,0.94,0.94,1.88,2.82,3.76,0.0,0.94,0.0,0.94,0.0,2.82,1.88,-1.88,0.94,1.88,1.88,-2.82,0.94,-0.94,-3.76,-1.88,-1.88,3.76,1.88,2.82,-0.94,-0.94,1.88,-0.94,2.82,-0.94,3.76,1.88,4.699999999999999,0.0,2.82,2.82,2.82,3.76,2.82,-1.88,3.76,-1.88,2.82,1.88,2.82,-2.82,0.0,-3.76,5.64,0.94,3.76,4.699999999999999,1.88],\"type\":\"scatter3d\"}],                        {\"template\":{\"data\":{\"histogram2dcontour\":[{\"type\":\"histogram2dcontour\",\"colorbar\":{\"outlinewidth\":0,\"ticks\":\"\"},\"colorscale\":[[0.0,\"#0d0887\"],[0.1111111111111111,\"#46039f\"],[0.2222222222222222,\"#7201a8\"],[0.3333333333333333,\"#9c179e\"],[0.4444444444444444,\"#bd3786\"],[0.5555555555555556,\"#d8576b\"],[0.6666666666666666,\"#ed7953\"],[0.7777777777777778,\"#fb9f3a\"],[0.8888888888888888,\"#fdca26\"],[1.0,\"#f0f921\"]]}],\"choropleth\":[{\"type\":\"choropleth\",\"colorbar\":{\"outlinewidth\":0,\"ticks\":\"\"}}],\"histogram2d\":[{\"type\":\"histogram2d\",\"colorbar\":{\"outlinewidth\":0,\"ticks\":\"\"},\"colorscale\":[[0.0,\"#0d0887\"],[0.1111111111111111,\"#46039f\"],[0.2222222222222222,\"#7201a8\"],[0.3333333333333333,\"#9c179e\"],[0.4444444444444444,\"#bd3786\"],[0.5555555555555556,\"#d8576b\"],[0.6666666666666666,\"#ed7953\"],[0.7777777777777778,\"#fb9f3a\"],[0.8888888888888888,\"#fdca26\"],[1.0,\"#f0f921\"]]}],\"heatmap\":[{\"type\":\"heatmap\",\"colorbar\":{\"outlinewidth\":0,\"ticks\":\"\"},\"colorscale\":[[0.0,\"#0d0887\"],[0.1111111111111111,\"#46039f\"],[0.2222222222222222,\"#7201a8\"],[0.3333333333333333,\"#9c179e\"],[0.4444444444444444,\"#bd3786\"],[0.5555555555555556,\"#d8576b\"],[0.6666666666666666,\"#ed7953\"],[0.7777777777777778,\"#fb9f3a\"],[0.8888888888888888,\"#fdca26\"],[1.0,\"#f0f921\"]]}],\"heatmapgl\":[{\"type\":\"heatmapgl\",\"colorbar\":{\"outlinewidth\":0,\"ticks\":\"\"},\"colorscale\":[[0.0,\"#0d0887\"],[0.1111111111111111,\"#46039f\"],[0.2222222222222222,\"#7201a8\"],[0.3333333333333333,\"#9c179e\"],[0.4444444444444444,\"#bd3786\"],[0.5555555555555556,\"#d8576b\"],[0.6666666666666666,\"#ed7953\"],[0.7777777777777778,\"#fb9f3a\"],[0.8888888888888888,\"#fdca26\"],[1.0,\"#f0f921\"]]}],\"contourcarpet\":[{\"type\":\"contourcarpet\",\"colorbar\":{\"outlinewidth\":0,\"ticks\":\"\"}}],\"contour\":[{\"type\":\"contour\",\"colorbar\":{\"outlinewidth\":0,\"ticks\":\"\"},\"colorscale\":[[0.0,\"#0d0887\"],[0.1111111111111111,\"#46039f\"],[0.2222222222222222,\"#7201a8\"],[0.3333333333333333,\"#9c179e\"],[0.4444444444444444,\"#bd3786\"],[0.5555555555555556,\"#d8576b\"],[0.6666666666666666,\"#ed7953\"],[0.7777777777777778,\"#fb9f3a\"],[0.8888888888888888,\"#fdca26\"],[1.0,\"#f0f921\"]]}],\"surface\":[{\"type\":\"surface\",\"colorbar\":{\"outlinewidth\":0,\"ticks\":\"\"},\"colorscale\":[[0.0,\"#0d0887\"],[0.1111111111111111,\"#46039f\"],[0.2222222222222222,\"#7201a8\"],[0.3333333333333333,\"#9c179e\"],[0.4444444444444444,\"#bd3786\"],[0.5555555555555556,\"#d8576b\"],[0.6666666666666666,\"#ed7953\"],[0.7777777777777778,\"#fb9f3a\"],[0.8888888888888888,\"#fdca26\"],[1.0,\"#f0f921\"]]}],\"mesh3d\":[{\"type\":\"mesh3d\",\"colorbar\":{\"outlinewidth\":0,\"ticks\":\"\"}}],\"scatter\":[{\"fillpattern\":{\"fillmode\":\"overlay\",\"size\":10,\"solidity\":0.2},\"type\":\"scatter\"}],\"parcoords\":[{\"type\":\"parcoords\",\"line\":{\"colorbar\":{\"outlinewidth\":0,\"ticks\":\"\"}}}],\"scatterpolargl\":[{\"type\":\"scatterpolargl\",\"marker\":{\"colorbar\":{\"outlinewidth\":0,\"ticks\":\"\"}}}],\"bar\":[{\"error_x\":{\"color\":\"#2a3f5f\"},\"error_y\":{\"color\":\"#2a3f5f\"},\"marker\":{\"line\":{\"color\":\"#E5ECF6\",\"width\":0.5},\"pattern\":{\"fillmode\":\"overlay\",\"size\":10,\"solidity\":0.2}},\"type\":\"bar\"}],\"scattergeo\":[{\"type\":\"scattergeo\",\"marker\":{\"colorbar\":{\"outlinewidth\":0,\"ticks\":\"\"}}}],\"scatterpolar\":[{\"type\":\"scatterpolar\",\"marker\":{\"colorbar\":{\"outlinewidth\":0,\"ticks\":\"\"}}}],\"histogram\":[{\"marker\":{\"pattern\":{\"fillmode\":\"overlay\",\"size\":10,\"solidity\":0.2}},\"type\":\"histogram\"}],\"scattergl\":[{\"type\":\"scattergl\",\"marker\":{\"colorbar\":{\"outlinewidth\":0,\"ticks\":\"\"}}}],\"scatter3d\":[{\"type\":\"scatter3d\",\"line\":{\"colorbar\":{\"outlinewidth\":0,\"ticks\":\"\"}},\"marker\":{\"colorbar\":{\"outlinewidth\":0,\"ticks\":\"\"}}}],\"scattermapbox\":[{\"type\":\"scattermapbox\",\"marker\":{\"colorbar\":{\"outlinewidth\":0,\"ticks\":\"\"}}}],\"scatterternary\":[{\"type\":\"scatterternary\",\"marker\":{\"colorbar\":{\"outlinewidth\":0,\"ticks\":\"\"}}}],\"scattercarpet\":[{\"type\":\"scattercarpet\",\"marker\":{\"colorbar\":{\"outlinewidth\":0,\"ticks\":\"\"}}}],\"carpet\":[{\"aaxis\":{\"endlinecolor\":\"#2a3f5f\",\"gridcolor\":\"white\",\"linecolor\":\"white\",\"minorgridcolor\":\"white\",\"startlinecolor\":\"#2a3f5f\"},\"baxis\":{\"endlinecolor\":\"#2a3f5f\",\"gridcolor\":\"white\",\"linecolor\":\"white\",\"minorgridcolor\":\"white\",\"startlinecolor\":\"#2a3f5f\"},\"type\":\"carpet\"}],\"table\":[{\"cells\":{\"fill\":{\"color\":\"#EBF0F8\"},\"line\":{\"color\":\"white\"}},\"header\":{\"fill\":{\"color\":\"#C8D4E3\"},\"line\":{\"color\":\"white\"}},\"type\":\"table\"}],\"barpolar\":[{\"marker\":{\"line\":{\"color\":\"#E5ECF6\",\"width\":0.5},\"pattern\":{\"fillmode\":\"overlay\",\"size\":10,\"solidity\":0.2}},\"type\":\"barpolar\"}],\"pie\":[{\"automargin\":true,\"type\":\"pie\"}]},\"layout\":{\"autotypenumbers\":\"strict\",\"colorway\":[\"#636efa\",\"#EF553B\",\"#00cc96\",\"#ab63fa\",\"#FFA15A\",\"#19d3f3\",\"#FF6692\",\"#B6E880\",\"#FF97FF\",\"#FECB52\"],\"font\":{\"color\":\"#2a3f5f\"},\"hovermode\":\"closest\",\"hoverlabel\":{\"align\":\"left\"},\"paper_bgcolor\":\"white\",\"plot_bgcolor\":\"#E5ECF6\",\"polar\":{\"bgcolor\":\"#E5ECF6\",\"angularaxis\":{\"gridcolor\":\"white\",\"linecolor\":\"white\",\"ticks\":\"\"},\"radialaxis\":{\"gridcolor\":\"white\",\"linecolor\":\"white\",\"ticks\":\"\"}},\"ternary\":{\"bgcolor\":\"#E5ECF6\",\"aaxis\":{\"gridcolor\":\"white\",\"linecolor\":\"white\",\"ticks\":\"\"},\"baxis\":{\"gridcolor\":\"white\",\"linecolor\":\"white\",\"ticks\":\"\"},\"caxis\":{\"gridcolor\":\"white\",\"linecolor\":\"white\",\"ticks\":\"\"}},\"coloraxis\":{\"colorbar\":{\"outlinewidth\":0,\"ticks\":\"\"}},\"colorscale\":{\"sequential\":[[0.0,\"#0d0887\"],[0.1111111111111111,\"#46039f\"],[0.2222222222222222,\"#7201a8\"],[0.3333333333333333,\"#9c179e\"],[0.4444444444444444,\"#bd3786\"],[0.5555555555555556,\"#d8576b\"],[0.6666666666666666,\"#ed7953\"],[0.7777777777777778,\"#fb9f3a\"],[0.8888888888888888,\"#fdca26\"],[1.0,\"#f0f921\"]],\"sequentialminus\":[[0.0,\"#0d0887\"],[0.1111111111111111,\"#46039f\"],[0.2222222222222222,\"#7201a8\"],[0.3333333333333333,\"#9c179e\"],[0.4444444444444444,\"#bd3786\"],[0.5555555555555556,\"#d8576b\"],[0.6666666666666666,\"#ed7953\"],[0.7777777777777778,\"#fb9f3a\"],[0.8888888888888888,\"#fdca26\"],[1.0,\"#f0f921\"]],\"diverging\":[[0,\"#8e0152\"],[0.1,\"#c51b7d\"],[0.2,\"#de77ae\"],[0.3,\"#f1b6da\"],[0.4,\"#fde0ef\"],[0.5,\"#f7f7f7\"],[0.6,\"#e6f5d0\"],[0.7,\"#b8e186\"],[0.8,\"#7fbc41\"],[0.9,\"#4d9221\"],[1,\"#276419\"]]},\"xaxis\":{\"gridcolor\":\"white\",\"linecolor\":\"white\",\"ticks\":\"\",\"title\":{\"standoff\":15},\"zerolinecolor\":\"white\",\"automargin\":true,\"zerolinewidth\":2},\"yaxis\":{\"gridcolor\":\"white\",\"linecolor\":\"white\",\"ticks\":\"\",\"title\":{\"standoff\":15},\"zerolinecolor\":\"white\",\"automargin\":true,\"zerolinewidth\":2},\"scene\":{\"xaxis\":{\"backgroundcolor\":\"#E5ECF6\",\"gridcolor\":\"white\",\"linecolor\":\"white\",\"showbackground\":true,\"ticks\":\"\",\"zerolinecolor\":\"white\",\"gridwidth\":2},\"yaxis\":{\"backgroundcolor\":\"#E5ECF6\",\"gridcolor\":\"white\",\"linecolor\":\"white\",\"showbackground\":true,\"ticks\":\"\",\"zerolinecolor\":\"white\",\"gridwidth\":2},\"zaxis\":{\"backgroundcolor\":\"#E5ECF6\",\"gridcolor\":\"white\",\"linecolor\":\"white\",\"showbackground\":true,\"ticks\":\"\",\"zerolinecolor\":\"white\",\"gridwidth\":2}},\"shapedefaults\":{\"line\":{\"color\":\"#2a3f5f\"}},\"annotationdefaults\":{\"arrowcolor\":\"#2a3f5f\",\"arrowhead\":0,\"arrowwidth\":1},\"geo\":{\"bgcolor\":\"white\",\"landcolor\":\"#E5ECF6\",\"subunitcolor\":\"white\",\"showland\":true,\"showlakes\":true,\"lakecolor\":\"white\"},\"title\":{\"x\":0.05},\"mapbox\":{\"style\":\"light\"}}}},                        {\"responsive\": true}                    ).then(function(){\n",
       "                            \n",
       "var gd = document.getElementById('2d027449-5182-44bd-aa38-89fe77f94ef3');\n",
       "var x = new MutationObserver(function (mutations, observer) {{\n",
       "        var display = window.getComputedStyle(gd).display;\n",
       "        if (!display || display === 'none') {{\n",
       "            console.log([gd, 'removed!']);\n",
       "            Plotly.purge(gd);\n",
       "            observer.disconnect();\n",
       "        }}\n",
       "}});\n",
       "\n",
       "// Listen for the removal of the full notebook cells\n",
       "var notebookContainer = gd.closest('#notebook-container');\n",
       "if (notebookContainer) {{\n",
       "    x.observe(notebookContainer, {childList: true});\n",
       "}}\n",
       "\n",
       "// Listen for the clearing of the current output cell\n",
       "var outputEl = gd.closest('.output');\n",
       "if (outputEl) {{\n",
       "    x.observe(outputEl, {childList: true});\n",
       "}}\n",
       "\n",
       "                        })                };                });            </script>        </div>"
      ]
     },
     "metadata": {},
     "output_type": "display_data"
    }
   ],
   "source": [
    "import plotly.graph_objects as go\n",
    "import numpy as np\n",
    "\n",
    "# Helix equation\n",
    "\n",
    "x, y, z = position_array[0:300,0],position_array[0:300,1],position_array[0:300,2]\n",
    "\n",
    "fig = go.Figure(data=[go.Scatter3d(x=x, y=y, z=z,\n",
    "                                   mode='markers')])\n",
    "fig.show()"
   ]
  },
  {
   "cell_type": "code",
   "execution_count": 112,
   "id": "5fcee117",
   "metadata": {},
   "outputs": [
    {
     "data": {
      "text/plain": [
       "array([[  0,   0,   0,   1],\n",
       "       [  0,   0,   0,   3],\n",
       "       [  0,   0,   0,   2],\n",
       "       ...,\n",
       "       [ -1,  17,  -7,   3],\n",
       "       [-14,   9,  -4,   4],\n",
       "       [  0,   4,   0,   2]])"
      ]
     },
     "execution_count": 112,
     "metadata": {},
     "output_type": "execute_result"
    }
   ],
   "source": [
    "sim.particle_array"
   ]
  },
  {
   "cell_type": "code",
   "execution_count": 22,
   "id": "8d8bd512",
   "metadata": {},
   "outputs": [
    {
     "data": {
      "text/plain": [
       "(1, 4)"
      ]
     },
     "execution_count": 22,
     "metadata": {},
     "output_type": "execute_result"
    }
   ],
   "source": [
    "neighbor_array.shape"
   ]
  },
  {
   "cell_type": "code",
   "execution_count": 21,
   "id": "14148feb",
   "metadata": {},
   "outputs": [
    {
     "name": "stdout",
     "output_type": "stream",
     "text": [
      "[4 0 0 0]\n"
     ]
    }
   ],
   "source": [
    "for i in neighbor_array:\n",
    "    print(i)"
   ]
  },
  {
   "cell_type": "code",
   "execution_count": 23,
   "id": "967f7ed8",
   "metadata": {},
   "outputs": [
    {
     "data": {
      "text/plain": [
       "array([4, 0, 0, 0])"
      ]
     },
     "execution_count": 23,
     "metadata": {},
     "output_type": "execute_result"
    }
   ],
   "source": [
    "neighbor_array[-1]"
   ]
  },
  {
   "cell_type": "code",
   "execution_count": 26,
   "id": "fe2c7512",
   "metadata": {},
   "outputs": [
    {
     "data": {
      "text/plain": [
       "array([], shape=(0, 1), dtype=int64)"
      ]
     },
     "execution_count": 26,
     "metadata": {},
     "output_type": "execute_result"
    }
   ],
   "source": [
    "np.empty((0, 1), dtype=int)"
   ]
  },
  {
   "cell_type": "code",
   "execution_count": 27,
   "id": "0c6cb842",
   "metadata": {},
   "outputs": [
    {
     "data": {
      "text/plain": [
       "(6,)"
      ]
     },
     "execution_count": 27,
     "metadata": {},
     "output_type": "execute_result"
    }
   ],
   "source": [
    "np.full(\n",
    "  shape=6,\n",
    "  fill_value=1).shape"
   ]
  },
  {
   "cell_type": "code",
   "execution_count": 31,
   "id": "690f74ab",
   "metadata": {},
   "outputs": [],
   "source": [
    "a=np.array([[1],[1],[1],[1],[1],[1]])"
   ]
  },
  {
   "cell_type": "code",
   "execution_count": 51,
   "id": "3cc3b8ec",
   "metadata": {},
   "outputs": [
    {
     "data": {
      "text/plain": [
       "array([[1],\n",
       "       [1],\n",
       "       [1],\n",
       "       [1],\n",
       "       [1],\n",
       "       [1],\n",
       "       [1]])"
      ]
     },
     "execution_count": 51,
     "metadata": {},
     "output_type": "execute_result"
    }
   ],
   "source": [
    "np.vstack((a,np.array([1])))"
   ]
  },
  {
   "cell_type": "code",
   "execution_count": 48,
   "id": "5be40873",
   "metadata": {},
   "outputs": [
    {
     "data": {
      "text/plain": [
       "array([[1],\n",
       "       [1],\n",
       "       [1],\n",
       "       [1],\n",
       "       [1],\n",
       "       [1]])"
      ]
     },
     "execution_count": 48,
     "metadata": {},
     "output_type": "execute_result"
    }
   ],
   "source": [
    "a"
   ]
  },
  {
   "cell_type": "code",
   "execution_count": null,
   "id": "21b0dfd6",
   "metadata": {},
   "outputs": [],
   "source": []
  }
 ],
 "metadata": {
  "kernelspec": {
   "display_name": "Python 3 (ipykernel)",
   "language": "python",
   "name": "python3"
  },
  "language_info": {
   "codemirror_mode": {
    "name": "ipython",
    "version": 3
   },
   "file_extension": ".py",
   "mimetype": "text/x-python",
   "name": "python",
   "nbconvert_exporter": "python",
   "pygments_lexer": "ipython3",
   "version": "3.10.9"
  }
 },
 "nbformat": 4,
 "nbformat_minor": 5
}
