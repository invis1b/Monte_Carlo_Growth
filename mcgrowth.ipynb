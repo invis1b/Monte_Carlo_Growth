{
 "cells": [
  {
   "cell_type": "code",
   "execution_count": 9,
   "id": "d2736094",
   "metadata": {},
   "outputs": [],
   "source": [
    "np.savetxt('growth.txt', Particle_list, fmt='%d', delimiter=' ', newline='\\n', header='', footer='', comments='# ', encoding=None)\n"
   ]
  },
  {
   "cell_type": "code",
   "execution_count": 3,
   "id": "befb2f33",
   "metadata": {},
   "outputs": [
    {
     "ename": "NameError",
     "evalue": "name 'Particle' is not defined",
     "output_type": "error",
     "traceback": [
      "\u001b[0;31m---------------------------------------------------------------------------\u001b[0m",
      "\u001b[0;31mNameError\u001b[0m                                 Traceback (most recent call last)",
      "Cell \u001b[0;32mIn[3], line 75\u001b[0m\n\u001b[1;32m     72\u001b[0m sim \u001b[38;5;241m=\u001b[39m Simulation()\n\u001b[1;32m     74\u001b[0m \u001b[38;5;66;03m# Add the initial particle\u001b[39;00m\n\u001b[0;32m---> 75\u001b[0m sim\u001b[38;5;241m.\u001b[39madd_particle(\u001b[43mParticle\u001b[49m(\u001b[38;5;241m0\u001b[39m, \u001b[38;5;241m0\u001b[39m, \u001b[38;5;241m0\u001b[39m, \u001b[38;5;241m1\u001b[39m))\n\u001b[1;32m     77\u001b[0m \u001b[38;5;66;03m# Run the simulation for a number of steps\u001b[39;00m\n\u001b[1;32m     78\u001b[0m sim\u001b[38;5;241m.\u001b[39mrun(\u001b[38;5;241m1000\u001b[39m)\n",
      "\u001b[0;31mNameError\u001b[0m: name 'Particle' is not defined"
     ]
    }
   ],
   "source": [
    "import numpy as np\n",
    "import random\n",
    "\n",
    "\n",
    "neighborlista=np.array([[0,0,0,2],[0,0,-1,3],[0,-1,0,2],[0,-1,-1,3],[-1,0,0,2],[-1,0,-1,3]])\n",
    "neighborlistb=np.array([[0,0,0,1],[0,0,0,2],[0,-1,0,1],[0,-1,0,2],[-1,0,0,1],[-1,0,0,2]])\n",
    "neighborlistc=np.array([[0,0,0,-2],[0,0,0,-1],[0,1,0,-2],[1,0,0,-2],[0,1,0,-1],[1,0,0,-1]])\n",
    "neighborlistd=np.array([[0,0,0,-2],[0,0,1,-3],[0,1,1,-3],[1,0,1,-3],[0,1,0,-2],[1,0,0,-2]])\n",
    "def find_neighbor(particle):\n",
    "    if particle[3]==1:\n",
    "        return neighborlista+np.tile(particle,(6,1))\n",
    "    if particle[3]==2:\n",
    "        return neighborlistb+np.tile(particle,(6,1))\n",
    "    if particle[3]==3:\n",
    "        return neighborlistc+np.tile(particle,(6,1))\n",
    "    if particle[3]==4:\n",
    "        return neighborlistd+np.tile(particle,(6,1))\n",
    "class Simulation:\n",
    "    def __init__(self):\n",
    "        self.particle_list = []\n",
    "        self.neighbor_list = []\n",
    "        self.bond_list = []\n",
    "        self.events = []\n",
    "        self.time = 0\n",
    "    def add_particle(self, particle):\n",
    "        self.particle_list.append(particle)\n",
    "        neighbors=find_neighbor(particle)\n",
    "        \n",
    "        # ... Update neighbor_list and bond_list\n",
    "\n",
    "    def insert_one_particle_event(self, particle):\n",
    "        # ... Define the event, with a rate based on the multiplicity\n",
    "        rate = 1 / (4 ** self.get_multiplicity(particle))\n",
    "        self.events.append(('insert', particle, rate))\n",
    "\n",
    "    def delete_one_particle_event(self, particle):\n",
    "        # ... Define the event, with a rate based on the system properties\n",
    "        rate = self.calculate_delete_rate(particle)\n",
    "        self.events.append(('delete', particle, rate))\n",
    "\n",
    "    def get_multiplicity(self, particle):\n",
    "        # ... Implement your logic for getting the multiplicity\n",
    "        pass\n",
    "\n",
    "    def calculate_delete_rate(self, particle):\n",
    "        # ... Implement your logic for calculating the delete rate\n",
    "        pass\n",
    "\n",
    "    def execute_event(self, event):\n",
    "        # ... Implement logic to execute the event, updating the system state accordingly\n",
    "        pass\n",
    "\n",
    "    def kmc_step(self):\n",
    "        total_rate = sum(event[2] for event in self.events)\n",
    "        dt = -np.log(random.random()) / total_rate\n",
    "        self.time += dt\n",
    "        cumulative_rate = 0\n",
    "        r = random.random() * total_rate\n",
    "        for event in self.events:\n",
    "            cumulative_rate += event[2]\n",
    "            if r < cumulative_rate:\n",
    "                self.execute_event(event)\n",
    "                break\n",
    "\n",
    "    def run(self, steps):\n",
    "        for _ in range(steps):\n",
    "            self.kmc_step()\n",
    "            if steps%10==0:\n",
    "                np.savetxt('growth%d.txt'%(steps/10), self.particle_list, fmt='%d', delimiter=' ', newline='\\n', header='', footer='', comments='# ', encoding=None)\n",
    "\n",
    "# Create the simulation object\n",
    "sim = Simulation()\n",
    "\n",
    "# Add the initial particle\n",
    "sim.add_particle(np.array([0,0,0,1]))\n",
    "\n",
    "# Run the simulation for a number of steps\n",
    "sim.run(1000)\n"
   ]
  },
  {
   "cell_type": "code",
   "execution_count": 5,
   "id": "de0f126a",
   "metadata": {},
   "outputs": [
    {
     "ename": "IndexError",
     "evalue": "index 0 is out of bounds for axis 0 with size 0",
     "output_type": "error",
     "traceback": [
      "\u001b[0;31m---------------------------------------------------------------------------\u001b[0m",
      "\u001b[0;31mIndexError\u001b[0m                                Traceback (most recent call last)",
      "Cell \u001b[0;32mIn[5], line 124\u001b[0m\n\u001b[1;32m    122\u001b[0m sim\u001b[38;5;241m.\u001b[39mbond_array\u001b[38;5;241m=\u001b[39mnp\u001b[38;5;241m.\u001b[39mempty((\u001b[38;5;241m0\u001b[39m, \u001b[38;5;241m1\u001b[39m), dtype\u001b[38;5;241m=\u001b[39m\u001b[38;5;28mint\u001b[39m)\n\u001b[1;32m    123\u001b[0m \u001b[38;5;66;03m# Run the simulation for a number of steps\u001b[39;00m\n\u001b[0;32m--> 124\u001b[0m \u001b[43msim\u001b[49m\u001b[38;5;241;43m.\u001b[39;49m\u001b[43mrun\u001b[49m\u001b[43m(\u001b[49m\u001b[38;5;241;43m1000\u001b[39;49m\u001b[43m)\u001b[49m\n",
      "Cell \u001b[0;32mIn[5], line 110\u001b[0m, in \u001b[0;36mSimulation.run\u001b[0;34m(self, steps)\u001b[0m\n\u001b[1;32m    108\u001b[0m \u001b[38;5;28;01mdef\u001b[39;00m \u001b[38;5;21mrun\u001b[39m(\u001b[38;5;28mself\u001b[39m, steps):\n\u001b[1;32m    109\u001b[0m     \u001b[38;5;28;01mfor\u001b[39;00m _ \u001b[38;5;129;01min\u001b[39;00m \u001b[38;5;28mrange\u001b[39m(steps):\n\u001b[0;32m--> 110\u001b[0m         \u001b[38;5;28;43mself\u001b[39;49m\u001b[38;5;241;43m.\u001b[39;49m\u001b[43mkmc_step\u001b[49m\u001b[43m(\u001b[49m\u001b[43m)\u001b[49m\n\u001b[1;32m    111\u001b[0m         \u001b[38;5;28;01mif\u001b[39;00m steps\u001b[38;5;241m%\u001b[39m\u001b[38;5;241m10\u001b[39m\u001b[38;5;241m==\u001b[39m\u001b[38;5;241m0\u001b[39m:\n\u001b[1;32m    112\u001b[0m             np\u001b[38;5;241m.\u001b[39msavetxt(\u001b[38;5;124m'\u001b[39m\u001b[38;5;124mgrowth\u001b[39m\u001b[38;5;132;01m%d\u001b[39;00m\u001b[38;5;124m.txt\u001b[39m\u001b[38;5;124m'\u001b[39m\u001b[38;5;241m%\u001b[39m(steps\u001b[38;5;241m/\u001b[39m\u001b[38;5;241m10\u001b[39m), \u001b[38;5;28mself\u001b[39m\u001b[38;5;241m.\u001b[39mparticle_array, fmt\u001b[38;5;241m=\u001b[39m\u001b[38;5;124m'\u001b[39m\u001b[38;5;132;01m%d\u001b[39;00m\u001b[38;5;124m'\u001b[39m, delimiter\u001b[38;5;241m=\u001b[39m\u001b[38;5;124m'\u001b[39m\u001b[38;5;124m \u001b[39m\u001b[38;5;124m'\u001b[39m, newline\u001b[38;5;241m=\u001b[39m\u001b[38;5;124m'\u001b[39m\u001b[38;5;130;01m\\n\u001b[39;00m\u001b[38;5;124m'\u001b[39m, header\u001b[38;5;241m=\u001b[39m\u001b[38;5;124m'\u001b[39m\u001b[38;5;124m'\u001b[39m, footer\u001b[38;5;241m=\u001b[39m\u001b[38;5;124m'\u001b[39m\u001b[38;5;124m'\u001b[39m, comments\u001b[38;5;241m=\u001b[39m\u001b[38;5;124m'\u001b[39m\u001b[38;5;124m# \u001b[39m\u001b[38;5;124m'\u001b[39m, encoding\u001b[38;5;241m=\u001b[39m\u001b[38;5;28;01mNone\u001b[39;00m)\n",
      "Cell \u001b[0;32mIn[5], line 105\u001b[0m, in \u001b[0;36mSimulation.kmc_step\u001b[0;34m(self)\u001b[0m\n\u001b[1;32m    103\u001b[0m cumulative_rate \u001b[38;5;241m+\u001b[39m\u001b[38;5;241m=\u001b[39m event[\u001b[38;5;241m2\u001b[39m]\n\u001b[1;32m    104\u001b[0m \u001b[38;5;28;01mif\u001b[39;00m r \u001b[38;5;241m<\u001b[39m cumulative_rate:\n\u001b[0;32m--> 105\u001b[0m     \u001b[38;5;28;43mself\u001b[39;49m\u001b[38;5;241;43m.\u001b[39;49m\u001b[43mexecute_event\u001b[49m\u001b[43m(\u001b[49m\u001b[43mevent\u001b[49m\u001b[43m)\u001b[49m\n\u001b[1;32m    106\u001b[0m     \u001b[38;5;28;01mbreak\u001b[39;00m\n",
      "Cell \u001b[0;32mIn[5], line 88\u001b[0m, in \u001b[0;36mSimulation.execute_event\u001b[0;34m(self, event)\u001b[0m\n\u001b[1;32m     86\u001b[0m     \u001b[38;5;28mself\u001b[39m\u001b[38;5;241m.\u001b[39madd_particle(event[\u001b[38;5;241m1\u001b[39m])\n\u001b[1;32m     87\u001b[0m \u001b[38;5;28;01mif\u001b[39;00m event[\u001b[38;5;241m0\u001b[39m]\u001b[38;5;241m==\u001b[39m\u001b[38;5;124m'\u001b[39m\u001b[38;5;124mdelete\u001b[39m\u001b[38;5;124m'\u001b[39m:\n\u001b[0;32m---> 88\u001b[0m     \u001b[38;5;28;43mself\u001b[39;49m\u001b[38;5;241;43m.\u001b[39;49m\u001b[43mremove_particle\u001b[49m\u001b[43m(\u001b[49m\u001b[43mevent\u001b[49m\u001b[43m[\u001b[49m\u001b[38;5;241;43m1\u001b[39;49m\u001b[43m]\u001b[49m\u001b[43m)\u001b[49m\n",
      "Cell \u001b[0;32mIn[5], line 64\u001b[0m, in \u001b[0;36mSimulation.remove_particle\u001b[0;34m(self, i)\u001b[0m\n\u001b[1;32m     62\u001b[0m         \u001b[38;5;28;01mif\u001b[39;00m \u001b[38;5;28mself\u001b[39m\u001b[38;5;241m.\u001b[39mmultiplicity_array[np\u001b[38;5;241m.\u001b[39mwhere((\u001b[38;5;28mself\u001b[39m\u001b[38;5;241m.\u001b[39mneighbor_array \u001b[38;5;241m==\u001b[39m \u001b[38;5;28mtuple\u001b[39m(neighbors[i]\u001b[38;5;241m.\u001b[39mtolist()))\u001b[38;5;241m.\u001b[39mall(axis\u001b[38;5;241m=\u001b[39m\u001b[38;5;241m1\u001b[39m))[\u001b[38;5;241m0\u001b[39m][\u001b[38;5;241m0\u001b[39m]][\u001b[38;5;241m0\u001b[39m]\u001b[38;5;241m==\u001b[39m\u001b[38;5;241m0\u001b[39m:\n\u001b[1;32m     63\u001b[0m             \u001b[38;5;28mself\u001b[39m\u001b[38;5;241m.\u001b[39mneighbor_array\u001b[38;5;241m=\u001b[39mnp\u001b[38;5;241m.\u001b[39mdelete(\u001b[38;5;28mself\u001b[39m\u001b[38;5;241m.\u001b[39mneighbor_array,np\u001b[38;5;241m.\u001b[39mwhere((\u001b[38;5;28mself\u001b[39m\u001b[38;5;241m.\u001b[39mneighbor_array \u001b[38;5;241m==\u001b[39m \u001b[38;5;28mtuple\u001b[39m(neighbors[i]\u001b[38;5;241m.\u001b[39mtolist()))\u001b[38;5;241m.\u001b[39mall(axis\u001b[38;5;241m=\u001b[39m\u001b[38;5;241m1\u001b[39m))[\u001b[38;5;241m0\u001b[39m][\u001b[38;5;241m0\u001b[39m],axis\u001b[38;5;241m=\u001b[39m\u001b[38;5;241m0\u001b[39m)\n\u001b[0;32m---> 64\u001b[0m             \u001b[38;5;28mself\u001b[39m\u001b[38;5;241m.\u001b[39mmultiplicity_array\u001b[38;5;241m=\u001b[39mnp\u001b[38;5;241m.\u001b[39mdelete(\u001b[38;5;28mself\u001b[39m\u001b[38;5;241m.\u001b[39mmultiplicity_array,\u001b[43mnp\u001b[49m\u001b[38;5;241;43m.\u001b[39;49m\u001b[43mwhere\u001b[49m\u001b[43m(\u001b[49m\u001b[43m(\u001b[49m\u001b[38;5;28;43mself\u001b[39;49m\u001b[38;5;241;43m.\u001b[39;49m\u001b[43mneighbor_array\u001b[49m\u001b[43m \u001b[49m\u001b[38;5;241;43m==\u001b[39;49m\u001b[43m \u001b[49m\u001b[38;5;28;43mtuple\u001b[39;49m\u001b[43m(\u001b[49m\u001b[43mneighbors\u001b[49m\u001b[43m[\u001b[49m\u001b[43mi\u001b[49m\u001b[43m]\u001b[49m\u001b[38;5;241;43m.\u001b[39;49m\u001b[43mtolist\u001b[49m\u001b[43m(\u001b[49m\u001b[43m)\u001b[49m\u001b[43m)\u001b[49m\u001b[43m)\u001b[49m\u001b[38;5;241;43m.\u001b[39;49m\u001b[43mall\u001b[49m\u001b[43m(\u001b[49m\u001b[43maxis\u001b[49m\u001b[38;5;241;43m=\u001b[39;49m\u001b[38;5;241;43m1\u001b[39;49m\u001b[43m)\u001b[49m\u001b[43m)\u001b[49m\u001b[43m[\u001b[49m\u001b[38;5;241;43m0\u001b[39;49m\u001b[43m]\u001b[49m\u001b[43m[\u001b[49m\u001b[38;5;241;43m0\u001b[39;49m\u001b[43m]\u001b[49m,axis\u001b[38;5;241m=\u001b[39m\u001b[38;5;241m0\u001b[39m) \n\u001b[1;32m     65\u001b[0m \u001b[38;5;28mself\u001b[39m\u001b[38;5;241m.\u001b[39mparticle_array\u001b[38;5;241m=\u001b[39mnp\u001b[38;5;241m.\u001b[39mdelete(\u001b[38;5;28mself\u001b[39m\u001b[38;5;241m.\u001b[39mparticle_array,i,axis\u001b[38;5;241m=\u001b[39m\u001b[38;5;241m0\u001b[39m)\n\u001b[1;32m     66\u001b[0m \u001b[38;5;28mself\u001b[39m\u001b[38;5;241m.\u001b[39mbond_array\u001b[38;5;241m=\u001b[39mnp\u001b[38;5;241m.\u001b[39mdelete(\u001b[38;5;28mself\u001b[39m\u001b[38;5;241m.\u001b[39mbond_array,i,axis\u001b[38;5;241m=\u001b[39m\u001b[38;5;241m0\u001b[39m)\n",
      "\u001b[0;31mIndexError\u001b[0m: index 0 is out of bounds for axis 0 with size 0"
     ]
    }
   ],
   "source": [
    "import numpy as np\n",
    "import random\n",
    "neighborlista=np.array([[0,0,0,2],[0,0,-1,3],[0,-1,0,2],[0,-1,-1,3],[-1,0,0,2],[-1,0,-1,3]])\n",
    "neighborlistb=np.array([[0,0,0,1],[0,0,0,2],[0,-1,0,1],[0,-1,0,2],[-1,0,0,1],[-1,0,0,2]])\n",
    "neighborlistc=np.array([[0,0,0,-2],[0,0,0,-1],[0,1,0,-2],[1,0,0,-2],[0,1,0,-1],[1,0,0,-1]])\n",
    "neighborlistd=np.array([[0,0,0,-2],[0,0,1,-3],[0,1,1,-3],[1,0,1,-3],[0,1,0,-2],[1,0,0,-2]])\n",
    "def find_neighbor(particle):\n",
    "    if particle[3]==1:\n",
    "        return neighborlista+np.tile(particle,(6,1))\n",
    "    if particle[3]==2:\n",
    "        return neighborlistb+np.tile(particle,(6,1))\n",
    "    if particle[3]==3:\n",
    "        return neighborlistc+np.tile(particle,(6,1))\n",
    "    if particle[3]==4:\n",
    "        return neighborlistd+np.tile(particle,(6,1))\n",
    "\n",
    "\n",
    "class Simulation:\n",
    "    def __init__(self):\n",
    "        self.particle_array = np.empty((0, 4), dtype=int)\n",
    "        self.neighbor_array = np.empty((0, 4), dtype=int)\n",
    "        self.multiplicity_array = np.empty((0, 1), dtype=int)\n",
    "        self.bond_array = np.array([[0]], dtype=int)\n",
    "        self.events = []\n",
    "        self.time = 0\n",
    "        self.g_0=0\n",
    "        self.g_1=0\n",
    "    def add_particle(self, i):\n",
    "        particle=self.neighbor_array[i]\n",
    "        self.bond_array=np.vstack((self.bond_array,self.multiplicity_array[i]))   \n",
    "        self.neighbor_array=np.delete(self.neighbor_array,i,axis=0)\n",
    "        self.multiplicity_array=np.delete(self.multiplicity_array,i,axis=0)\n",
    "        self.particle_array = np.vstack((self.particle_array, particle))\n",
    "        neighbors=find_neighbor(particle)\n",
    "        for i in range(0,6):\n",
    "            if np.where((self.particle_array == tuple(neighbors[i].tolist())).all(axis=1))[0].size==1:\n",
    "                self.bond_array[np.where((self.particle_array == tuple(neighbors[i].tolist())).all(axis=1))[0][0]][0]+=1\n",
    "                \n",
    "            if np.where((self.neighbor_array == tuple(neighbors[i].tolist())).all(axis=1))[0].size==1:\n",
    "                self.multiplicity_array[np.where((self.neighbor_array == tuple(neighbors[i].tolist())).all(axis=1))[0][0]][0]+=1\n",
    "            else:\n",
    "                self.neighbor_array=np.vstack((self.neighbor_array,neighbors[i]))\n",
    "                self.multiplicity_array=np.vstack((self.multiplicity_array,np.array([1])))\n",
    "        # ... Update neighbor_array and bond_array\n",
    "    def remove_particle(self,i):\n",
    "        self.neighbor_array=np.vstack((self.neighbor_array,self.particle_array[i]))\n",
    "        self.multiplicity_array=np.vstack((self.multiplicity_array,self.bond_array[i]))\n",
    "        vacancy=self.particle_array[i]\n",
    "        neighbors=find_neighbor(vacancy)\n",
    "        self.particle_array=np.delete(self.particle_array,i,axis=0)\n",
    "        self.bond_array=np.delete(self.bond_array,i,axis=0)\n",
    "        for i in range(0,6):\n",
    "            if np.where((self.particle_array == tuple(neighbors[i].tolist())).all(axis=1))[0].size==1:\n",
    "                self.bond_array[np.where((self.particle_array == tuple(neighbors[i].tolist())).all(axis=1))[0][0]][0]-=1\n",
    "    \n",
    "            if np.where((self.neighbor_array == tuple(neighbors[i].tolist())).all(axis=1))[0].size==1:\n",
    "                self.multiplicity_array[np.where((self.neighbor_array == tuple(neighbors[i].tolist())).all(axis=1))[0][0]][0]-=1\n",
    "                if self.multiplicity_array[np.where((self.neighbor_array == tuple(neighbors[i].tolist())).all(axis=1))[0][0]][0]==0:\n",
    "                    self.neighbor_array=np.delete(self.neighbor_array,np.where((self.neighbor_array == tuple(neighbors[i].tolist())).all(axis=1))[0][0],axis=0)\n",
    "                    self.multiplicity_array=np.delete(self.multiplicity_array,np.where((self.neighbor_array == tuple(neighbors[i].tolist())).all(axis=1))[0][0],axis=0) \n",
    "        self.particle_array=np.delete(self.particle_array,i,axis=0)\n",
    "        self.bond_array=np.delete(self.bond_array,i,axis=0)\n",
    "        \n",
    "    def insert_one_particle_event(self, i):\n",
    "        # ... Define the event, with a rate based on the multiplicity\n",
    "        rate = 1 / (4 ** self.multiplicity_array[i][0])\n",
    "        self.events.append(('insert', i, rate))\n",
    "\n",
    "    def delete_one_particle_event(self, i):\n",
    "        if self.bond_array.shape[0]!=0:\n",
    "            rate = self.calculate_delete_rate(i)\n",
    "            self.events.append(('delete', i, rate))\n",
    "       \n",
    "\n",
    "    def calculate_delete_rate(self, i):\n",
    "        g=self.g_0+self.bond_array[i][0]*self.g_1\n",
    "        return np.exp(-g) / (4 ** self.bond_array[i][0])\n",
    "        \n",
    "    \n",
    "    def execute_event(self, event):\n",
    "        if event[0]=='insert':\n",
    "            self.add_particle(event[1])\n",
    "        if event[0]=='delete':\n",
    "            self.remove_particle(event[1])\n",
    "\n",
    "    def kmc_step(self):\n",
    "        self.events=[]\n",
    "        for i in range(0,self.neighbor_array.shape[0]):\n",
    "            self.insert_one_particle_event(i)\n",
    "        for i in range(0,self.particle_array.shape[0]):\n",
    "            self.delete_one_particle_event(i)\n",
    "        total_rate = sum(event[2] for event in self.events)\n",
    "        rand_number=random.random()\n",
    "        dt = -np.log(rand_number) / total_rate\n",
    "        self.time += dt\n",
    "        cumulative_rate = 0\n",
    "        r = rand_number * total_rate\n",
    "        for event in self.events:\n",
    "            cumulative_rate += event[2]\n",
    "            if r < cumulative_rate:\n",
    "                self.execute_event(event)\n",
    "                break\n",
    "\n",
    "    def run(self, steps):\n",
    "        for _ in range(steps):\n",
    "            self.kmc_step()\n",
    "            if steps%10==0:\n",
    "                np.savetxt('growth%d.txt'%(steps/10), self.particle_array, fmt='%d', delimiter=' ', newline='\\n', header='', footer='', comments='# ', encoding=None)\n",
    "# Create the simulation object\n",
    "sim = Simulation()\n",
    "\n",
    "# Add the initial particle\n",
    "sim.particle_array=np.array([0,0,0,1])\n",
    "sim.neighbor_array=find_neighbor(np.array([0,0,0,1]))\n",
    "sim.multiplicity_array=np.array([[1],[1],[1],[1],[1],[1]])\n",
    "sim.g_0=-5\n",
    "sim.g_1=7\n",
    "sim.bond_array=np.empty((0, 1), dtype=int)\n",
    "# Run the simulation for a number of steps\n",
    "sim.run(1000)\n"
   ]
  },
  {
   "cell_type": "code",
   "execution_count": 41,
   "id": "640ee58f",
   "metadata": {},
   "outputs": [],
   "source": [
    "import numpy as np\n",
    "import random\n",
    "neighborlista=np.array([[0,0,0,1],[0,0,-1,1],[-1,0,0,1],[-1,0,-1,1],[0,-1,0,1],[0,-1,-1,1]])\n",
    "neighborlistb=-neighborlista\n",
    "def find_neighbor(particle):\n",
    "    if particle[3]==1:\n",
    "        return neighborlista+np.tile(particle,(6,1))\n",
    "    if particle[3]==2:\n",
    "        return neighborlistb+np.tile(particle,(6,1))\n",
    "\n",
    "\n",
    "\n",
    "class Simulation:\n",
    "    def __init__(self):\n",
    "        self.particle_array = np.empty((0, 4), dtype=int)\n",
    "        self.neighbor_array = np.empty((0, 4), dtype=int)\n",
    "        self.multiplicity_array = np.empty((0, 1), dtype=int)\n",
    "        self.bond_array = np.empty((0, 1), dtype=int)\n",
    "        self.events = []\n",
    "        self.time = 0\n",
    "        self.g_0=0\n",
    "        self.g_1=0\n",
    "    def add_particle(self, i):\n",
    "        #add the particle from neighbor array to particle array, update the neighbor array, multiplicity array and bond array accordingly\n",
    "        particle=self.neighbor_array[i]\n",
    "        if self.bond_array.shape[0]!=0:\n",
    "            self.bond_array=np.vstack((self.bond_array,self.multiplicity_array[i]))   \n",
    "        else:\n",
    "            self.bond_array=np.vstack((self.bond_array,np.array([0])))\n",
    "            self.bond_array=np.vstack((self.bond_array,self.multiplicity_array[i]))  \n",
    "        self.neighbor_array=np.delete(self.neighbor_array,i,axis=0)\n",
    "        self.multiplicity_array=np.delete(self.multiplicity_array,i,axis=0)\n",
    "        self.particle_array = np.vstack((self.particle_array, particle))\n",
    "        neighbors=find_neighbor(particle)\n",
    "        for i in range(0,6):\n",
    "            if np.where((self.particle_array == tuple(neighbors[i].tolist())).all(axis=1))[0].size==1:\n",
    "                self.bond_array[np.where((self.particle_array == tuple(neighbors[i].tolist())).all(axis=1))[0][0]][0]+=1\n",
    "                \n",
    "            if np.where((self.neighbor_array == tuple(neighbors[i].tolist())).all(axis=1))[0].size==1:\n",
    "                self.multiplicity_array[np.where((self.neighbor_array == tuple(neighbors[i].tolist())).all(axis=1))[0][0]][0]+=1\n",
    "            else:\n",
    "                self.neighbor_array=np.vstack((self.neighbor_array,neighbors[i]))\n",
    "                self.multiplicity_array=np.vstack((self.multiplicity_array,np.array([1])))\n",
    "    def remove_particle(self,i):\n",
    "        #remove the particle from particle array, update the neighbor array, multiplicity array and bond array accordingly\n",
    "        if self.bond_array[i][0]!=0:\n",
    "            self.neighbor_array=np.vstack((self.neighbor_array,self.particle_array[i]))\n",
    "            self.multiplicity_array=np.vstack((self.multiplicity_array,self.bond_array[i]))\n",
    "            vacancy=self.particle_array[i]\n",
    "            neighbors=find_neighbor(vacancy)\n",
    "            self.particle_array=np.delete(self.particle_array,i,axis=0)\n",
    "            self.bond_array=np.delete(self.bond_array,i,axis=0)\n",
    "            for i in range(0,6):\n",
    "                if np.where((self.particle_array == tuple(neighbors[i].tolist())).all(axis=1))[0].size==1:\n",
    "                    self.bond_array[np.where((self.particle_array == tuple(neighbors[i].tolist())).all(axis=1))[0][0]][0]-=1\n",
    "                    index=np.where((self.particle_array == tuple(neighbors[i].tolist())).all(axis=1))[0][0]\n",
    "                    if self.bond_array[index][0]==0:\n",
    "                        self.remove_particle(index)\n",
    "                if np.where((self.neighbor_array == tuple(neighbors[i].tolist())).all(axis=1))[0].size==1:\n",
    "                    index=np.where((self.neighbor_array == tuple(neighbors[i].tolist())).all(axis=1))[0][0]\n",
    "                    self.multiplicity_array[index][0]-=1\n",
    "                    if self.multiplicity_array[index][0]==0:\n",
    "                        self.neighbor_array=np.delete(self.neighbor_array,index,axis=0)\n",
    "                        self.multiplicity_array=np.delete(self.multiplicity_array,index,axis=0) \n",
    "            self.particle_array=np.delete(self.particle_array,i,axis=0)\n",
    "            self.bond_array=np.delete(self.bond_array,i,axis=0)\n",
    "        else:\n",
    "            self.particle_array=np.delete(self.particle_array,i,axis=0)\n",
    "            self.bond_array=np.delete(self.bond_array,i,axis=0)\n",
    "    def insert_one_particle_event(self, i):\n",
    "        # ... Define the event, with a rate based on the multiplicity\n",
    "        rate = 1 / (4 ** self.multiplicity_array[i][0])\n",
    "        self.events.append(('insert', i, rate))\n",
    "\n",
    "    def delete_one_particle_event(self, i):\n",
    "        if self.bond_array.shape[0]!=0:\n",
    "            rate = self.calculate_delete_rate(i)\n",
    "            self.events.append(('delete', i, rate))\n",
    "       \n",
    "\n",
    "    def calculate_delete_rate(self, i):\n",
    "        g=self.g_0+self.bond_array[i][0]*self.g_1\n",
    "        return np.exp(-g) / (4 ** self.bond_array[i][0])\n",
    "        \n",
    "    \n",
    "    def execute_event(self, event):\n",
    "        if event[0]=='insert':\n",
    "            self.add_particle(event[1])\n",
    "        if event[0]=='delete':\n",
    "            self.remove_particle(event[1])\n",
    "\n",
    "    def kmc_step(self):\n",
    "        self.events=[]\n",
    "        for i in range(0,self.neighbor_array.shape[0]):\n",
    "            self.insert_one_particle_event(i)\n",
    "        for i in range(0,self.particle_array.shape[0]):\n",
    "            self.delete_one_particle_event(i)\n",
    "        total_rate = sum(event[2] for event in self.events)\n",
    "        rand_number=random.random()\n",
    "        dt = -np.log(rand_number) / total_rate\n",
    "        self.time += dt\n",
    "        cumulative_rate = 0\n",
    "        r = rand_number * total_rate\n",
    "        for event in self.events:\n",
    "            cumulative_rate += event[2]\n",
    "            if r < cumulative_rate:\n",
    "                self.execute_event(event)\n",
    "                break\n",
    "\n",
    "    def run(self, steps):\n",
    "        for _ in range(steps):\n",
    "            self.kmc_step()\n",
    "\n",
    "# Create the simulation object\n",
    "sim = Simulation()\n",
    "\n",
    "# Add the initial particle\n",
    "sim.particle_array=np.array([0,0,0,1])\n",
    "sim.neighbor_array=find_neighbor(np.array([0,0,0,1]))\n",
    "sim.multiplicity_array=np.array([[1],[1],[1],[1],[1],[1]])\n",
    "sim.g_0=-5\n",
    "sim.g_1=15\n",
    "# Run the simulation for a number of steps\n",
    "sim.run(100)\n"
   ]
  },
  {
   "cell_type": "code",
   "execution_count": 34,
   "id": "7e4edbae",
   "metadata": {},
   "outputs": [
    {
     "data": {
      "text/plain": [
       "array([[4],\n",
       "       [7],\n",
       "       [4],\n",
       "       [2],\n",
       "       [2],\n",
       "       [3],\n",
       "       [3],\n",
       "       [2],\n",
       "       [1],\n",
       "       [3],\n",
       "       [2],\n",
       "       [1],\n",
       "       [1],\n",
       "       [1],\n",
       "       [3],\n",
       "       [2],\n",
       "       [1],\n",
       "       [3],\n",
       "       [2],\n",
       "       [2],\n",
       "       [1],\n",
       "       [2],\n",
       "       [1],\n",
       "       [2],\n",
       "       [2],\n",
       "       [3],\n",
       "       [1],\n",
       "       [2],\n",
       "       [1],\n",
       "       [1],\n",
       "       [2],\n",
       "       [1],\n",
       "       [1],\n",
       "       [1],\n",
       "       [2],\n",
       "       [1],\n",
       "       [2],\n",
       "       [1],\n",
       "       [1],\n",
       "       [1],\n",
       "       [1],\n",
       "       [1],\n",
       "       [1],\n",
       "       [1]])"
      ]
     },
     "execution_count": 34,
     "metadata": {},
     "output_type": "execute_result"
    }
   ],
   "source": [
    "sim.bond_array"
   ]
  },
  {
   "cell_type": "code",
   "execution_count": 26,
   "id": "c0bc5546",
   "metadata": {},
   "outputs": [
    {
     "data": {
      "text/plain": [
       "array([], shape=(0, 4), dtype=int64)"
      ]
     },
     "execution_count": 26,
     "metadata": {},
     "output_type": "execute_result"
    }
   ],
   "source": [
    "sim.particle_array"
   ]
  },
  {
   "cell_type": "code",
   "execution_count": 42,
   "id": "7b1677c4",
   "metadata": {},
   "outputs": [],
   "source": [
    "position_array=np.zeros((sim.particle_array.shape[0],3))\n",
    "atom_array=np.array([[0,0,0],[1.73,1.73/np.sqrt(3),0.94]])\n",
    "lattice_array=np.array([[3.46,0,0],[3.46/2,3.46*np.sqrt(3)/2,0],[0,0,1.88]])\n",
    "for i in range(0,sim.particle_array.shape[0]):\n",
    "    position_array[i]=sim.particle_array[i][0]*lattice_array[0]+sim.particle_array[i][1]*lattice_array[1]+sim.particle_array[i][2]*lattice_array[2]+atom_array[sim.particle_array[i][3]-1]"
   ]
  },
  {
   "cell_type": "code",
   "execution_count": 43,
   "id": "14334905",
   "metadata": {},
   "outputs": [
    {
     "data": {
      "application/vnd.plotly.v1+json": {
       "config": {
        "plotlyServerURL": "https://plot.ly"
       },
       "data": [
        {
         "mode": "markers",
         "type": "scatter3d",
         "x": [
          0,
          0,
          1.73,
          1.73,
          1.73,
          3.46,
          1.73,
          0,
          0,
          1.73,
          1.73,
          0,
          3.46,
          3.46,
          3.46,
          -1.73,
          5.1899999999999995,
          5.1899999999999995,
          1.73,
          -1.73,
          0,
          -1.73,
          -3.46,
          5.1899999999999995,
          0,
          -1.73,
          -3.4599999999999995,
          3.46,
          4.440892098500626e-16,
          1.73,
          3.46,
          3.4600000000000004,
          3.4600000000000004,
          -1.73,
          6.92,
          6.92,
          8.65,
          0,
          6.92,
          -1.7299999999999995,
          -1.7299999999999995,
          10.379999999999999,
          5.1899999999999995,
          -3.46,
          6.92,
          6.919999999999999,
          8.649999999999999,
          8.649999999999999,
          5.1899999999999995,
          6.919999999999999,
          3.46,
          -5.1899999999999995,
          -3.4599999999999995,
          6.92,
          8.65,
          5.1899999999999995,
          -1.73,
          3.46,
          4.440892098500626e-16,
          -6.92,
          10.379999999999999,
          10.379999999999999,
          5.1899999999999995,
          5.1899999999999995,
          5.1899999999999995,
          -5.1899999999999995,
          8.649999999999999,
          5.1899999999999995,
          -1.7299999999999995,
          12.11,
          5.1899999999999995,
          8.649999999999999,
          12.11,
          -3.46,
          -3.46,
          10.379999999999999,
          6.92,
          10.38,
          4.440892098500626e-16,
          5.1899999999999995,
          8.649999999999999,
          5.1899999999999995,
          13.84,
          6.92,
          8.65,
          -6.92,
          -5.1899999999999995,
          4.440892098500626e-16,
          -1.73,
          5.1899999999999995,
          -1.73,
          8.649999999999999,
          -1.73,
          6.92,
          3.4600000000000004,
          -1.73,
          5.1899999999999995,
          6.92,
          15.57,
          3.46,
          0
         ],
         "y": [
          0,
          -1.9976319313961048,
          -2.9964478970941575,
          -4.994079828490262,
          -2.9964478970941575,
          -1.9976319313961048,
          -2.9964478970941575,
          0,
          0,
          -4.994079828490262,
          -2.9964478970941575,
          -5.992895794188315,
          -1.9976319313961048,
          0,
          -5.992895794188315,
          0.9988159656980526,
          -2.9964478970941575,
          -4.994079828490262,
          -2.9964478970941575,
          -4.994079828490262,
          0,
          -2.9964478970941575,
          -5.992895794188315,
          0.9988159656980526,
          -5.992895794188315,
          0.9988159656980526,
          -1.9976319313961048,
          -5.992895794188315,
          -7.99052772558442,
          -4.994079828490262,
          0,
          -7.99052772558442,
          -7.99052772558442,
          -4.994079828490262,
          -1.9976319313961048,
          0,
          0.9988159656980526,
          0,
          0,
          -8.989343691282473,
          -8.989343691282473,
          0,
          -4.994079828490262,
          -5.992895794188315,
          -1.9976319313961048,
          -5.992895794188315,
          -2.9964478970941575,
          -4.994079828490262,
          -8.989343691282473,
          -5.992895794188315,
          -5.992895794188315,
          -4.994079828490262,
          -7.99052772558442,
          0,
          2.9964478970941575,
          -8.989343691282473,
          -4.994079828490262,
          -5.992895794188315,
          -7.99052772558442,
          -5.992895794188315,
          -5.992895794188315,
          -1.9976319313961048,
          -10.986975622678578,
          -4.994079828490262,
          -2.9964478970941575,
          -4.994079828490262,
          -4.994079828490262,
          -10.986975622678578,
          -8.989343691282473,
          -4.994079828490262,
          -2.9964478970941575,
          -4.994079828490262,
          -2.9964478970941575,
          0,
          -5.992895794188315,
          -5.992895794188315,
          0,
          3.99526386279221,
          -7.99052772558442,
          -2.9964478970941575,
          -2.9964478970941575,
          -10.986975622678578,
          -1.9976319313961048,
          -11.98579158837663,
          0.9988159656980526,
          -5.992895794188315,
          -4.994079828490262,
          -7.99052772558442,
          -2.9964478970941575,
          -10.986975622678578,
          0.9988159656980526,
          -2.9964478970941575,
          -10.986975622678578,
          3.99526386279221,
          -7.99052772558442,
          -10.986975622678578,
          -10.986975622678578,
          -1.9976319313961048,
          -2.9964478970941575,
          -5.992895794188315,
          -11.98579158837663
         ],
         "z": [
          0,
          -0.94,
          0,
          0.94,
          1.88,
          2.82,
          3.76,
          0,
          -1.88,
          4.699999999999999,
          3.76,
          0,
          -0.94,
          -1.88,
          3.76,
          -2.82,
          -1.88,
          -2.82,
          1.88,
          0.94,
          -1.88,
          0,
          0,
          -0.94,
          5.64,
          -2.82,
          -0.94,
          -1.88,
          4.699999999999999,
          6.58,
          -1.88,
          -0.94,
          4.699999999999999,
          4.699999999999999,
          -2.82,
          -1.88,
          -2.82,
          -1.88,
          -3.76,
          3.76,
          5.64,
          -1.88,
          2.82,
          5.64,
          -4.699999999999999,
          3.76,
          -5.64,
          -4.699999999999999,
          3.76,
          -1.88,
          -1.88,
          0.94,
          0.94,
          -5.64,
          -3.76,
          -1.88,
          0.94,
          -3.76,
          2.82,
          1.88,
          -5.64,
          -6.58,
          4.699999999999999,
          4.699999999999999,
          1.88,
          4.699999999999999,
          -4.699999999999999,
          2.82,
          3.76,
          -4.699999999999999,
          0,
          2.82,
          -3.76,
          0,
          5.64,
          -3.76,
          -3.76,
          -4.699999999999999,
          4.699999999999999,
          5.64,
          -7.52,
          -0.94,
          -4.699999999999999,
          5.64,
          -0.94,
          3.76,
          0.94,
          -0.94,
          5.64,
          4.699999999999999,
          -2.82,
          -1.88,
          6.58,
          -2.82,
          -4.699999999999999,
          4.699999999999999,
          6.58,
          0.94,
          -3.76,
          7.52,
          7.52
         ]
        }
       ],
       "layout": {
        "template": {
         "data": {
          "bar": [
           {
            "error_x": {
             "color": "#2a3f5f"
            },
            "error_y": {
             "color": "#2a3f5f"
            },
            "marker": {
             "line": {
              "color": "#E5ECF6",
              "width": 0.5
             },
             "pattern": {
              "fillmode": "overlay",
              "size": 10,
              "solidity": 0.2
             }
            },
            "type": "bar"
           }
          ],
          "barpolar": [
           {
            "marker": {
             "line": {
              "color": "#E5ECF6",
              "width": 0.5
             },
             "pattern": {
              "fillmode": "overlay",
              "size": 10,
              "solidity": 0.2
             }
            },
            "type": "barpolar"
           }
          ],
          "carpet": [
           {
            "aaxis": {
             "endlinecolor": "#2a3f5f",
             "gridcolor": "white",
             "linecolor": "white",
             "minorgridcolor": "white",
             "startlinecolor": "#2a3f5f"
            },
            "baxis": {
             "endlinecolor": "#2a3f5f",
             "gridcolor": "white",
             "linecolor": "white",
             "minorgridcolor": "white",
             "startlinecolor": "#2a3f5f"
            },
            "type": "carpet"
           }
          ],
          "choropleth": [
           {
            "colorbar": {
             "outlinewidth": 0,
             "ticks": ""
            },
            "type": "choropleth"
           }
          ],
          "contour": [
           {
            "colorbar": {
             "outlinewidth": 0,
             "ticks": ""
            },
            "colorscale": [
             [
              0,
              "#0d0887"
             ],
             [
              0.1111111111111111,
              "#46039f"
             ],
             [
              0.2222222222222222,
              "#7201a8"
             ],
             [
              0.3333333333333333,
              "#9c179e"
             ],
             [
              0.4444444444444444,
              "#bd3786"
             ],
             [
              0.5555555555555556,
              "#d8576b"
             ],
             [
              0.6666666666666666,
              "#ed7953"
             ],
             [
              0.7777777777777778,
              "#fb9f3a"
             ],
             [
              0.8888888888888888,
              "#fdca26"
             ],
             [
              1,
              "#f0f921"
             ]
            ],
            "type": "contour"
           }
          ],
          "contourcarpet": [
           {
            "colorbar": {
             "outlinewidth": 0,
             "ticks": ""
            },
            "type": "contourcarpet"
           }
          ],
          "heatmap": [
           {
            "colorbar": {
             "outlinewidth": 0,
             "ticks": ""
            },
            "colorscale": [
             [
              0,
              "#0d0887"
             ],
             [
              0.1111111111111111,
              "#46039f"
             ],
             [
              0.2222222222222222,
              "#7201a8"
             ],
             [
              0.3333333333333333,
              "#9c179e"
             ],
             [
              0.4444444444444444,
              "#bd3786"
             ],
             [
              0.5555555555555556,
              "#d8576b"
             ],
             [
              0.6666666666666666,
              "#ed7953"
             ],
             [
              0.7777777777777778,
              "#fb9f3a"
             ],
             [
              0.8888888888888888,
              "#fdca26"
             ],
             [
              1,
              "#f0f921"
             ]
            ],
            "type": "heatmap"
           }
          ],
          "heatmapgl": [
           {
            "colorbar": {
             "outlinewidth": 0,
             "ticks": ""
            },
            "colorscale": [
             [
              0,
              "#0d0887"
             ],
             [
              0.1111111111111111,
              "#46039f"
             ],
             [
              0.2222222222222222,
              "#7201a8"
             ],
             [
              0.3333333333333333,
              "#9c179e"
             ],
             [
              0.4444444444444444,
              "#bd3786"
             ],
             [
              0.5555555555555556,
              "#d8576b"
             ],
             [
              0.6666666666666666,
              "#ed7953"
             ],
             [
              0.7777777777777778,
              "#fb9f3a"
             ],
             [
              0.8888888888888888,
              "#fdca26"
             ],
             [
              1,
              "#f0f921"
             ]
            ],
            "type": "heatmapgl"
           }
          ],
          "histogram": [
           {
            "marker": {
             "pattern": {
              "fillmode": "overlay",
              "size": 10,
              "solidity": 0.2
             }
            },
            "type": "histogram"
           }
          ],
          "histogram2d": [
           {
            "colorbar": {
             "outlinewidth": 0,
             "ticks": ""
            },
            "colorscale": [
             [
              0,
              "#0d0887"
             ],
             [
              0.1111111111111111,
              "#46039f"
             ],
             [
              0.2222222222222222,
              "#7201a8"
             ],
             [
              0.3333333333333333,
              "#9c179e"
             ],
             [
              0.4444444444444444,
              "#bd3786"
             ],
             [
              0.5555555555555556,
              "#d8576b"
             ],
             [
              0.6666666666666666,
              "#ed7953"
             ],
             [
              0.7777777777777778,
              "#fb9f3a"
             ],
             [
              0.8888888888888888,
              "#fdca26"
             ],
             [
              1,
              "#f0f921"
             ]
            ],
            "type": "histogram2d"
           }
          ],
          "histogram2dcontour": [
           {
            "colorbar": {
             "outlinewidth": 0,
             "ticks": ""
            },
            "colorscale": [
             [
              0,
              "#0d0887"
             ],
             [
              0.1111111111111111,
              "#46039f"
             ],
             [
              0.2222222222222222,
              "#7201a8"
             ],
             [
              0.3333333333333333,
              "#9c179e"
             ],
             [
              0.4444444444444444,
              "#bd3786"
             ],
             [
              0.5555555555555556,
              "#d8576b"
             ],
             [
              0.6666666666666666,
              "#ed7953"
             ],
             [
              0.7777777777777778,
              "#fb9f3a"
             ],
             [
              0.8888888888888888,
              "#fdca26"
             ],
             [
              1,
              "#f0f921"
             ]
            ],
            "type": "histogram2dcontour"
           }
          ],
          "mesh3d": [
           {
            "colorbar": {
             "outlinewidth": 0,
             "ticks": ""
            },
            "type": "mesh3d"
           }
          ],
          "parcoords": [
           {
            "line": {
             "colorbar": {
              "outlinewidth": 0,
              "ticks": ""
             }
            },
            "type": "parcoords"
           }
          ],
          "pie": [
           {
            "automargin": true,
            "type": "pie"
           }
          ],
          "scatter": [
           {
            "fillpattern": {
             "fillmode": "overlay",
             "size": 10,
             "solidity": 0.2
            },
            "type": "scatter"
           }
          ],
          "scatter3d": [
           {
            "line": {
             "colorbar": {
              "outlinewidth": 0,
              "ticks": ""
             }
            },
            "marker": {
             "colorbar": {
              "outlinewidth": 0,
              "ticks": ""
             }
            },
            "type": "scatter3d"
           }
          ],
          "scattercarpet": [
           {
            "marker": {
             "colorbar": {
              "outlinewidth": 0,
              "ticks": ""
             }
            },
            "type": "scattercarpet"
           }
          ],
          "scattergeo": [
           {
            "marker": {
             "colorbar": {
              "outlinewidth": 0,
              "ticks": ""
             }
            },
            "type": "scattergeo"
           }
          ],
          "scattergl": [
           {
            "marker": {
             "colorbar": {
              "outlinewidth": 0,
              "ticks": ""
             }
            },
            "type": "scattergl"
           }
          ],
          "scattermapbox": [
           {
            "marker": {
             "colorbar": {
              "outlinewidth": 0,
              "ticks": ""
             }
            },
            "type": "scattermapbox"
           }
          ],
          "scatterpolar": [
           {
            "marker": {
             "colorbar": {
              "outlinewidth": 0,
              "ticks": ""
             }
            },
            "type": "scatterpolar"
           }
          ],
          "scatterpolargl": [
           {
            "marker": {
             "colorbar": {
              "outlinewidth": 0,
              "ticks": ""
             }
            },
            "type": "scatterpolargl"
           }
          ],
          "scatterternary": [
           {
            "marker": {
             "colorbar": {
              "outlinewidth": 0,
              "ticks": ""
             }
            },
            "type": "scatterternary"
           }
          ],
          "surface": [
           {
            "colorbar": {
             "outlinewidth": 0,
             "ticks": ""
            },
            "colorscale": [
             [
              0,
              "#0d0887"
             ],
             [
              0.1111111111111111,
              "#46039f"
             ],
             [
              0.2222222222222222,
              "#7201a8"
             ],
             [
              0.3333333333333333,
              "#9c179e"
             ],
             [
              0.4444444444444444,
              "#bd3786"
             ],
             [
              0.5555555555555556,
              "#d8576b"
             ],
             [
              0.6666666666666666,
              "#ed7953"
             ],
             [
              0.7777777777777778,
              "#fb9f3a"
             ],
             [
              0.8888888888888888,
              "#fdca26"
             ],
             [
              1,
              "#f0f921"
             ]
            ],
            "type": "surface"
           }
          ],
          "table": [
           {
            "cells": {
             "fill": {
              "color": "#EBF0F8"
             },
             "line": {
              "color": "white"
             }
            },
            "header": {
             "fill": {
              "color": "#C8D4E3"
             },
             "line": {
              "color": "white"
             }
            },
            "type": "table"
           }
          ]
         },
         "layout": {
          "annotationdefaults": {
           "arrowcolor": "#2a3f5f",
           "arrowhead": 0,
           "arrowwidth": 1
          },
          "autotypenumbers": "strict",
          "coloraxis": {
           "colorbar": {
            "outlinewidth": 0,
            "ticks": ""
           }
          },
          "colorscale": {
           "diverging": [
            [
             0,
             "#8e0152"
            ],
            [
             0.1,
             "#c51b7d"
            ],
            [
             0.2,
             "#de77ae"
            ],
            [
             0.3,
             "#f1b6da"
            ],
            [
             0.4,
             "#fde0ef"
            ],
            [
             0.5,
             "#f7f7f7"
            ],
            [
             0.6,
             "#e6f5d0"
            ],
            [
             0.7,
             "#b8e186"
            ],
            [
             0.8,
             "#7fbc41"
            ],
            [
             0.9,
             "#4d9221"
            ],
            [
             1,
             "#276419"
            ]
           ],
           "sequential": [
            [
             0,
             "#0d0887"
            ],
            [
             0.1111111111111111,
             "#46039f"
            ],
            [
             0.2222222222222222,
             "#7201a8"
            ],
            [
             0.3333333333333333,
             "#9c179e"
            ],
            [
             0.4444444444444444,
             "#bd3786"
            ],
            [
             0.5555555555555556,
             "#d8576b"
            ],
            [
             0.6666666666666666,
             "#ed7953"
            ],
            [
             0.7777777777777778,
             "#fb9f3a"
            ],
            [
             0.8888888888888888,
             "#fdca26"
            ],
            [
             1,
             "#f0f921"
            ]
           ],
           "sequentialminus": [
            [
             0,
             "#0d0887"
            ],
            [
             0.1111111111111111,
             "#46039f"
            ],
            [
             0.2222222222222222,
             "#7201a8"
            ],
            [
             0.3333333333333333,
             "#9c179e"
            ],
            [
             0.4444444444444444,
             "#bd3786"
            ],
            [
             0.5555555555555556,
             "#d8576b"
            ],
            [
             0.6666666666666666,
             "#ed7953"
            ],
            [
             0.7777777777777778,
             "#fb9f3a"
            ],
            [
             0.8888888888888888,
             "#fdca26"
            ],
            [
             1,
             "#f0f921"
            ]
           ]
          },
          "colorway": [
           "#636efa",
           "#EF553B",
           "#00cc96",
           "#ab63fa",
           "#FFA15A",
           "#19d3f3",
           "#FF6692",
           "#B6E880",
           "#FF97FF",
           "#FECB52"
          ],
          "font": {
           "color": "#2a3f5f"
          },
          "geo": {
           "bgcolor": "white",
           "lakecolor": "white",
           "landcolor": "#E5ECF6",
           "showlakes": true,
           "showland": true,
           "subunitcolor": "white"
          },
          "hoverlabel": {
           "align": "left"
          },
          "hovermode": "closest",
          "mapbox": {
           "style": "light"
          },
          "paper_bgcolor": "white",
          "plot_bgcolor": "#E5ECF6",
          "polar": {
           "angularaxis": {
            "gridcolor": "white",
            "linecolor": "white",
            "ticks": ""
           },
           "bgcolor": "#E5ECF6",
           "radialaxis": {
            "gridcolor": "white",
            "linecolor": "white",
            "ticks": ""
           }
          },
          "scene": {
           "xaxis": {
            "backgroundcolor": "#E5ECF6",
            "gridcolor": "white",
            "gridwidth": 2,
            "linecolor": "white",
            "showbackground": true,
            "ticks": "",
            "zerolinecolor": "white"
           },
           "yaxis": {
            "backgroundcolor": "#E5ECF6",
            "gridcolor": "white",
            "gridwidth": 2,
            "linecolor": "white",
            "showbackground": true,
            "ticks": "",
            "zerolinecolor": "white"
           },
           "zaxis": {
            "backgroundcolor": "#E5ECF6",
            "gridcolor": "white",
            "gridwidth": 2,
            "linecolor": "white",
            "showbackground": true,
            "ticks": "",
            "zerolinecolor": "white"
           }
          },
          "shapedefaults": {
           "line": {
            "color": "#2a3f5f"
           }
          },
          "ternary": {
           "aaxis": {
            "gridcolor": "white",
            "linecolor": "white",
            "ticks": ""
           },
           "baxis": {
            "gridcolor": "white",
            "linecolor": "white",
            "ticks": ""
           },
           "bgcolor": "#E5ECF6",
           "caxis": {
            "gridcolor": "white",
            "linecolor": "white",
            "ticks": ""
           }
          },
          "title": {
           "x": 0.05
          },
          "xaxis": {
           "automargin": true,
           "gridcolor": "white",
           "linecolor": "white",
           "ticks": "",
           "title": {
            "standoff": 15
           },
           "zerolinecolor": "white",
           "zerolinewidth": 2
          },
          "yaxis": {
           "automargin": true,
           "gridcolor": "white",
           "linecolor": "white",
           "ticks": "",
           "title": {
            "standoff": 15
           },
           "zerolinecolor": "white",
           "zerolinewidth": 2
          }
         }
        }
       }
      },
      "text/html": [
       "<div>                            <div id=\"0bf4d42c-6e2c-4eba-bdb4-47c645772956\" class=\"plotly-graph-div\" style=\"height:525px; width:100%;\"></div>            <script type=\"text/javascript\">                require([\"plotly\"], function(Plotly) {                    window.PLOTLYENV=window.PLOTLYENV || {};                                    if (document.getElementById(\"0bf4d42c-6e2c-4eba-bdb4-47c645772956\")) {                    Plotly.newPlot(                        \"0bf4d42c-6e2c-4eba-bdb4-47c645772956\",                        [{\"mode\":\"markers\",\"x\":[0.0,0.0,1.73,1.73,1.73,3.46,1.73,0.0,0.0,1.73,1.73,0.0,3.46,3.46,3.46,-1.73,5.1899999999999995,5.1899999999999995,1.73,-1.73,0.0,-1.73,-3.46,5.1899999999999995,0.0,-1.73,-3.4599999999999995,3.46,4.440892098500626e-16,1.73,3.46,3.4600000000000004,3.4600000000000004,-1.73,6.92,6.92,8.65,0.0,6.92,-1.7299999999999995,-1.7299999999999995,10.379999999999999,5.1899999999999995,-3.46,6.92,6.919999999999999,8.649999999999999,8.649999999999999,5.1899999999999995,6.919999999999999,3.46,-5.1899999999999995,-3.4599999999999995,6.92,8.65,5.1899999999999995,-1.73,3.46,4.440892098500626e-16,-6.92,10.379999999999999,10.379999999999999,5.1899999999999995,5.1899999999999995,5.1899999999999995,-5.1899999999999995,8.649999999999999,5.1899999999999995,-1.7299999999999995,12.11,5.1899999999999995,8.649999999999999,12.11,-3.46,-3.46,10.379999999999999,6.92,10.38,4.440892098500626e-16,5.1899999999999995,8.649999999999999,5.1899999999999995,13.84,6.92,8.65,-6.92,-5.1899999999999995,4.440892098500626e-16,-1.73,5.1899999999999995,-1.73,8.649999999999999,-1.73,6.92,3.4600000000000004,-1.73,5.1899999999999995,6.92,15.57,3.46,0.0],\"y\":[0.0,-1.9976319313961048,-2.9964478970941575,-4.994079828490262,-2.9964478970941575,-1.9976319313961048,-2.9964478970941575,0.0,0.0,-4.994079828490262,-2.9964478970941575,-5.992895794188315,-1.9976319313961048,0.0,-5.992895794188315,0.9988159656980526,-2.9964478970941575,-4.994079828490262,-2.9964478970941575,-4.994079828490262,0.0,-2.9964478970941575,-5.992895794188315,0.9988159656980526,-5.992895794188315,0.9988159656980526,-1.9976319313961048,-5.992895794188315,-7.99052772558442,-4.994079828490262,0.0,-7.99052772558442,-7.99052772558442,-4.994079828490262,-1.9976319313961048,0.0,0.9988159656980526,0.0,0.0,-8.989343691282473,-8.989343691282473,0.0,-4.994079828490262,-5.992895794188315,-1.9976319313961048,-5.992895794188315,-2.9964478970941575,-4.994079828490262,-8.989343691282473,-5.992895794188315,-5.992895794188315,-4.994079828490262,-7.99052772558442,0.0,2.9964478970941575,-8.989343691282473,-4.994079828490262,-5.992895794188315,-7.99052772558442,-5.992895794188315,-5.992895794188315,-1.9976319313961048,-10.986975622678578,-4.994079828490262,-2.9964478970941575,-4.994079828490262,-4.994079828490262,-10.986975622678578,-8.989343691282473,-4.994079828490262,-2.9964478970941575,-4.994079828490262,-2.9964478970941575,0.0,-5.992895794188315,-5.992895794188315,0.0,3.99526386279221,-7.99052772558442,-2.9964478970941575,-2.9964478970941575,-10.986975622678578,-1.9976319313961048,-11.98579158837663,0.9988159656980526,-5.992895794188315,-4.994079828490262,-7.99052772558442,-2.9964478970941575,-10.986975622678578,0.9988159656980526,-2.9964478970941575,-10.986975622678578,3.99526386279221,-7.99052772558442,-10.986975622678578,-10.986975622678578,-1.9976319313961048,-2.9964478970941575,-5.992895794188315,-11.98579158837663],\"z\":[0.0,-0.94,0.0,0.94,1.88,2.82,3.76,0.0,-1.88,4.699999999999999,3.76,0.0,-0.94,-1.88,3.76,-2.82,-1.88,-2.82,1.88,0.94,-1.88,0.0,0.0,-0.94,5.64,-2.82,-0.94,-1.88,4.699999999999999,6.58,-1.88,-0.94,4.699999999999999,4.699999999999999,-2.82,-1.88,-2.82,-1.88,-3.76,3.76,5.64,-1.88,2.82,5.64,-4.699999999999999,3.76,-5.64,-4.699999999999999,3.76,-1.88,-1.88,0.94,0.94,-5.64,-3.76,-1.88,0.94,-3.76,2.82,1.88,-5.64,-6.58,4.699999999999999,4.699999999999999,1.88,4.699999999999999,-4.699999999999999,2.82,3.76,-4.699999999999999,0.0,2.82,-3.76,0.0,5.64,-3.76,-3.76,-4.699999999999999,4.699999999999999,5.64,-7.52,-0.94,-4.699999999999999,5.64,-0.94,3.76,0.94,-0.94,5.64,4.699999999999999,-2.82,-1.88,6.58,-2.82,-4.699999999999999,4.699999999999999,6.58,0.94,-3.76,7.52,7.52],\"type\":\"scatter3d\"}],                        {\"template\":{\"data\":{\"histogram2dcontour\":[{\"type\":\"histogram2dcontour\",\"colorbar\":{\"outlinewidth\":0,\"ticks\":\"\"},\"colorscale\":[[0.0,\"#0d0887\"],[0.1111111111111111,\"#46039f\"],[0.2222222222222222,\"#7201a8\"],[0.3333333333333333,\"#9c179e\"],[0.4444444444444444,\"#bd3786\"],[0.5555555555555556,\"#d8576b\"],[0.6666666666666666,\"#ed7953\"],[0.7777777777777778,\"#fb9f3a\"],[0.8888888888888888,\"#fdca26\"],[1.0,\"#f0f921\"]]}],\"choropleth\":[{\"type\":\"choropleth\",\"colorbar\":{\"outlinewidth\":0,\"ticks\":\"\"}}],\"histogram2d\":[{\"type\":\"histogram2d\",\"colorbar\":{\"outlinewidth\":0,\"ticks\":\"\"},\"colorscale\":[[0.0,\"#0d0887\"],[0.1111111111111111,\"#46039f\"],[0.2222222222222222,\"#7201a8\"],[0.3333333333333333,\"#9c179e\"],[0.4444444444444444,\"#bd3786\"],[0.5555555555555556,\"#d8576b\"],[0.6666666666666666,\"#ed7953\"],[0.7777777777777778,\"#fb9f3a\"],[0.8888888888888888,\"#fdca26\"],[1.0,\"#f0f921\"]]}],\"heatmap\":[{\"type\":\"heatmap\",\"colorbar\":{\"outlinewidth\":0,\"ticks\":\"\"},\"colorscale\":[[0.0,\"#0d0887\"],[0.1111111111111111,\"#46039f\"],[0.2222222222222222,\"#7201a8\"],[0.3333333333333333,\"#9c179e\"],[0.4444444444444444,\"#bd3786\"],[0.5555555555555556,\"#d8576b\"],[0.6666666666666666,\"#ed7953\"],[0.7777777777777778,\"#fb9f3a\"],[0.8888888888888888,\"#fdca26\"],[1.0,\"#f0f921\"]]}],\"heatmapgl\":[{\"type\":\"heatmapgl\",\"colorbar\":{\"outlinewidth\":0,\"ticks\":\"\"},\"colorscale\":[[0.0,\"#0d0887\"],[0.1111111111111111,\"#46039f\"],[0.2222222222222222,\"#7201a8\"],[0.3333333333333333,\"#9c179e\"],[0.4444444444444444,\"#bd3786\"],[0.5555555555555556,\"#d8576b\"],[0.6666666666666666,\"#ed7953\"],[0.7777777777777778,\"#fb9f3a\"],[0.8888888888888888,\"#fdca26\"],[1.0,\"#f0f921\"]]}],\"contourcarpet\":[{\"type\":\"contourcarpet\",\"colorbar\":{\"outlinewidth\":0,\"ticks\":\"\"}}],\"contour\":[{\"type\":\"contour\",\"colorbar\":{\"outlinewidth\":0,\"ticks\":\"\"},\"colorscale\":[[0.0,\"#0d0887\"],[0.1111111111111111,\"#46039f\"],[0.2222222222222222,\"#7201a8\"],[0.3333333333333333,\"#9c179e\"],[0.4444444444444444,\"#bd3786\"],[0.5555555555555556,\"#d8576b\"],[0.6666666666666666,\"#ed7953\"],[0.7777777777777778,\"#fb9f3a\"],[0.8888888888888888,\"#fdca26\"],[1.0,\"#f0f921\"]]}],\"surface\":[{\"type\":\"surface\",\"colorbar\":{\"outlinewidth\":0,\"ticks\":\"\"},\"colorscale\":[[0.0,\"#0d0887\"],[0.1111111111111111,\"#46039f\"],[0.2222222222222222,\"#7201a8\"],[0.3333333333333333,\"#9c179e\"],[0.4444444444444444,\"#bd3786\"],[0.5555555555555556,\"#d8576b\"],[0.6666666666666666,\"#ed7953\"],[0.7777777777777778,\"#fb9f3a\"],[0.8888888888888888,\"#fdca26\"],[1.0,\"#f0f921\"]]}],\"mesh3d\":[{\"type\":\"mesh3d\",\"colorbar\":{\"outlinewidth\":0,\"ticks\":\"\"}}],\"scatter\":[{\"fillpattern\":{\"fillmode\":\"overlay\",\"size\":10,\"solidity\":0.2},\"type\":\"scatter\"}],\"parcoords\":[{\"type\":\"parcoords\",\"line\":{\"colorbar\":{\"outlinewidth\":0,\"ticks\":\"\"}}}],\"scatterpolargl\":[{\"type\":\"scatterpolargl\",\"marker\":{\"colorbar\":{\"outlinewidth\":0,\"ticks\":\"\"}}}],\"bar\":[{\"error_x\":{\"color\":\"#2a3f5f\"},\"error_y\":{\"color\":\"#2a3f5f\"},\"marker\":{\"line\":{\"color\":\"#E5ECF6\",\"width\":0.5},\"pattern\":{\"fillmode\":\"overlay\",\"size\":10,\"solidity\":0.2}},\"type\":\"bar\"}],\"scattergeo\":[{\"type\":\"scattergeo\",\"marker\":{\"colorbar\":{\"outlinewidth\":0,\"ticks\":\"\"}}}],\"scatterpolar\":[{\"type\":\"scatterpolar\",\"marker\":{\"colorbar\":{\"outlinewidth\":0,\"ticks\":\"\"}}}],\"histogram\":[{\"marker\":{\"pattern\":{\"fillmode\":\"overlay\",\"size\":10,\"solidity\":0.2}},\"type\":\"histogram\"}],\"scattergl\":[{\"type\":\"scattergl\",\"marker\":{\"colorbar\":{\"outlinewidth\":0,\"ticks\":\"\"}}}],\"scatter3d\":[{\"type\":\"scatter3d\",\"line\":{\"colorbar\":{\"outlinewidth\":0,\"ticks\":\"\"}},\"marker\":{\"colorbar\":{\"outlinewidth\":0,\"ticks\":\"\"}}}],\"scattermapbox\":[{\"type\":\"scattermapbox\",\"marker\":{\"colorbar\":{\"outlinewidth\":0,\"ticks\":\"\"}}}],\"scatterternary\":[{\"type\":\"scatterternary\",\"marker\":{\"colorbar\":{\"outlinewidth\":0,\"ticks\":\"\"}}}],\"scattercarpet\":[{\"type\":\"scattercarpet\",\"marker\":{\"colorbar\":{\"outlinewidth\":0,\"ticks\":\"\"}}}],\"carpet\":[{\"aaxis\":{\"endlinecolor\":\"#2a3f5f\",\"gridcolor\":\"white\",\"linecolor\":\"white\",\"minorgridcolor\":\"white\",\"startlinecolor\":\"#2a3f5f\"},\"baxis\":{\"endlinecolor\":\"#2a3f5f\",\"gridcolor\":\"white\",\"linecolor\":\"white\",\"minorgridcolor\":\"white\",\"startlinecolor\":\"#2a3f5f\"},\"type\":\"carpet\"}],\"table\":[{\"cells\":{\"fill\":{\"color\":\"#EBF0F8\"},\"line\":{\"color\":\"white\"}},\"header\":{\"fill\":{\"color\":\"#C8D4E3\"},\"line\":{\"color\":\"white\"}},\"type\":\"table\"}],\"barpolar\":[{\"marker\":{\"line\":{\"color\":\"#E5ECF6\",\"width\":0.5},\"pattern\":{\"fillmode\":\"overlay\",\"size\":10,\"solidity\":0.2}},\"type\":\"barpolar\"}],\"pie\":[{\"automargin\":true,\"type\":\"pie\"}]},\"layout\":{\"autotypenumbers\":\"strict\",\"colorway\":[\"#636efa\",\"#EF553B\",\"#00cc96\",\"#ab63fa\",\"#FFA15A\",\"#19d3f3\",\"#FF6692\",\"#B6E880\",\"#FF97FF\",\"#FECB52\"],\"font\":{\"color\":\"#2a3f5f\"},\"hovermode\":\"closest\",\"hoverlabel\":{\"align\":\"left\"},\"paper_bgcolor\":\"white\",\"plot_bgcolor\":\"#E5ECF6\",\"polar\":{\"bgcolor\":\"#E5ECF6\",\"angularaxis\":{\"gridcolor\":\"white\",\"linecolor\":\"white\",\"ticks\":\"\"},\"radialaxis\":{\"gridcolor\":\"white\",\"linecolor\":\"white\",\"ticks\":\"\"}},\"ternary\":{\"bgcolor\":\"#E5ECF6\",\"aaxis\":{\"gridcolor\":\"white\",\"linecolor\":\"white\",\"ticks\":\"\"},\"baxis\":{\"gridcolor\":\"white\",\"linecolor\":\"white\",\"ticks\":\"\"},\"caxis\":{\"gridcolor\":\"white\",\"linecolor\":\"white\",\"ticks\":\"\"}},\"coloraxis\":{\"colorbar\":{\"outlinewidth\":0,\"ticks\":\"\"}},\"colorscale\":{\"sequential\":[[0.0,\"#0d0887\"],[0.1111111111111111,\"#46039f\"],[0.2222222222222222,\"#7201a8\"],[0.3333333333333333,\"#9c179e\"],[0.4444444444444444,\"#bd3786\"],[0.5555555555555556,\"#d8576b\"],[0.6666666666666666,\"#ed7953\"],[0.7777777777777778,\"#fb9f3a\"],[0.8888888888888888,\"#fdca26\"],[1.0,\"#f0f921\"]],\"sequentialminus\":[[0.0,\"#0d0887\"],[0.1111111111111111,\"#46039f\"],[0.2222222222222222,\"#7201a8\"],[0.3333333333333333,\"#9c179e\"],[0.4444444444444444,\"#bd3786\"],[0.5555555555555556,\"#d8576b\"],[0.6666666666666666,\"#ed7953\"],[0.7777777777777778,\"#fb9f3a\"],[0.8888888888888888,\"#fdca26\"],[1.0,\"#f0f921\"]],\"diverging\":[[0,\"#8e0152\"],[0.1,\"#c51b7d\"],[0.2,\"#de77ae\"],[0.3,\"#f1b6da\"],[0.4,\"#fde0ef\"],[0.5,\"#f7f7f7\"],[0.6,\"#e6f5d0\"],[0.7,\"#b8e186\"],[0.8,\"#7fbc41\"],[0.9,\"#4d9221\"],[1,\"#276419\"]]},\"xaxis\":{\"gridcolor\":\"white\",\"linecolor\":\"white\",\"ticks\":\"\",\"title\":{\"standoff\":15},\"zerolinecolor\":\"white\",\"automargin\":true,\"zerolinewidth\":2},\"yaxis\":{\"gridcolor\":\"white\",\"linecolor\":\"white\",\"ticks\":\"\",\"title\":{\"standoff\":15},\"zerolinecolor\":\"white\",\"automargin\":true,\"zerolinewidth\":2},\"scene\":{\"xaxis\":{\"backgroundcolor\":\"#E5ECF6\",\"gridcolor\":\"white\",\"linecolor\":\"white\",\"showbackground\":true,\"ticks\":\"\",\"zerolinecolor\":\"white\",\"gridwidth\":2},\"yaxis\":{\"backgroundcolor\":\"#E5ECF6\",\"gridcolor\":\"white\",\"linecolor\":\"white\",\"showbackground\":true,\"ticks\":\"\",\"zerolinecolor\":\"white\",\"gridwidth\":2},\"zaxis\":{\"backgroundcolor\":\"#E5ECF6\",\"gridcolor\":\"white\",\"linecolor\":\"white\",\"showbackground\":true,\"ticks\":\"\",\"zerolinecolor\":\"white\",\"gridwidth\":2}},\"shapedefaults\":{\"line\":{\"color\":\"#2a3f5f\"}},\"annotationdefaults\":{\"arrowcolor\":\"#2a3f5f\",\"arrowhead\":0,\"arrowwidth\":1},\"geo\":{\"bgcolor\":\"white\",\"landcolor\":\"#E5ECF6\",\"subunitcolor\":\"white\",\"showland\":true,\"showlakes\":true,\"lakecolor\":\"white\"},\"title\":{\"x\":0.05},\"mapbox\":{\"style\":\"light\"}}}},                        {\"responsive\": true}                    ).then(function(){\n",
       "                            \n",
       "var gd = document.getElementById('0bf4d42c-6e2c-4eba-bdb4-47c645772956');\n",
       "var x = new MutationObserver(function (mutations, observer) {{\n",
       "        var display = window.getComputedStyle(gd).display;\n",
       "        if (!display || display === 'none') {{\n",
       "            console.log([gd, 'removed!']);\n",
       "            Plotly.purge(gd);\n",
       "            observer.disconnect();\n",
       "        }}\n",
       "}});\n",
       "\n",
       "// Listen for the removal of the full notebook cells\n",
       "var notebookContainer = gd.closest('#notebook-container');\n",
       "if (notebookContainer) {{\n",
       "    x.observe(notebookContainer, {childList: true});\n",
       "}}\n",
       "\n",
       "// Listen for the clearing of the current output cell\n",
       "var outputEl = gd.closest('.output');\n",
       "if (outputEl) {{\n",
       "    x.observe(outputEl, {childList: true});\n",
       "}}\n",
       "\n",
       "                        })                };                });            </script>        </div>"
      ]
     },
     "metadata": {},
     "output_type": "display_data"
    }
   ],
   "source": [
    "import plotly.graph_objects as go\n",
    "import numpy as np\n",
    "\n",
    "# Helix equation\n",
    "\n",
    "x, y, z = position_array[0:300,0],position_array[0:300,1],position_array[0:300,2]\n",
    "\n",
    "fig = go.Figure(data=[go.Scatter3d(x=x, y=y, z=z,\n",
    "                                   mode='markers')])\n",
    "fig.show()"
   ]
  },
  {
   "cell_type": "code",
   "execution_count": 112,
   "id": "5fcee117",
   "metadata": {},
   "outputs": [
    {
     "data": {
      "text/plain": [
       "array([[  0,   0,   0,   1],\n",
       "       [  0,   0,   0,   3],\n",
       "       [  0,   0,   0,   2],\n",
       "       ...,\n",
       "       [ -1,  17,  -7,   3],\n",
       "       [-14,   9,  -4,   4],\n",
       "       [  0,   4,   0,   2]])"
      ]
     },
     "execution_count": 112,
     "metadata": {},
     "output_type": "execute_result"
    }
   ],
   "source": [
    "sim.particle_array"
   ]
  },
  {
   "cell_type": "code",
   "execution_count": 22,
   "id": "8d8bd512",
   "metadata": {},
   "outputs": [
    {
     "data": {
      "text/plain": [
       "(1, 4)"
      ]
     },
     "execution_count": 22,
     "metadata": {},
     "output_type": "execute_result"
    }
   ],
   "source": [
    "neighbor_array.shape"
   ]
  },
  {
   "cell_type": "code",
   "execution_count": 21,
   "id": "14148feb",
   "metadata": {},
   "outputs": [
    {
     "name": "stdout",
     "output_type": "stream",
     "text": [
      "[4 0 0 0]\n"
     ]
    }
   ],
   "source": [
    "for i in neighbor_array:\n",
    "    print(i)"
   ]
  },
  {
   "cell_type": "code",
   "execution_count": 23,
   "id": "967f7ed8",
   "metadata": {},
   "outputs": [
    {
     "data": {
      "text/plain": [
       "array([4, 0, 0, 0])"
      ]
     },
     "execution_count": 23,
     "metadata": {},
     "output_type": "execute_result"
    }
   ],
   "source": [
    "neighbor_array[-1]"
   ]
  },
  {
   "cell_type": "code",
   "execution_count": 26,
   "id": "fe2c7512",
   "metadata": {},
   "outputs": [
    {
     "data": {
      "text/plain": [
       "array([], shape=(0, 1), dtype=int64)"
      ]
     },
     "execution_count": 26,
     "metadata": {},
     "output_type": "execute_result"
    }
   ],
   "source": [
    "np.empty((0, 1), dtype=int)"
   ]
  },
  {
   "cell_type": "code",
   "execution_count": 27,
   "id": "0c6cb842",
   "metadata": {},
   "outputs": [
    {
     "data": {
      "text/plain": [
       "(6,)"
      ]
     },
     "execution_count": 27,
     "metadata": {},
     "output_type": "execute_result"
    }
   ],
   "source": [
    "np.full(\n",
    "  shape=6,\n",
    "  fill_value=1).shape"
   ]
  },
  {
   "cell_type": "code",
   "execution_count": 31,
   "id": "690f74ab",
   "metadata": {},
   "outputs": [],
   "source": [
    "a=np.array([[1],[1],[1],[1],[1],[1]])"
   ]
  },
  {
   "cell_type": "code",
   "execution_count": 51,
   "id": "3cc3b8ec",
   "metadata": {},
   "outputs": [
    {
     "data": {
      "text/plain": [
       "array([[1],\n",
       "       [1],\n",
       "       [1],\n",
       "       [1],\n",
       "       [1],\n",
       "       [1],\n",
       "       [1]])"
      ]
     },
     "execution_count": 51,
     "metadata": {},
     "output_type": "execute_result"
    }
   ],
   "source": [
    "np.vstack((a,np.array([1])))"
   ]
  },
  {
   "cell_type": "code",
   "execution_count": 48,
   "id": "5be40873",
   "metadata": {},
   "outputs": [
    {
     "data": {
      "text/plain": [
       "array([[1],\n",
       "       [1],\n",
       "       [1],\n",
       "       [1],\n",
       "       [1],\n",
       "       [1]])"
      ]
     },
     "execution_count": 48,
     "metadata": {},
     "output_type": "execute_result"
    }
   ],
   "source": [
    "a"
   ]
  },
  {
   "cell_type": "code",
   "execution_count": null,
   "id": "21b0dfd6",
   "metadata": {},
   "outputs": [],
   "source": []
  }
 ],
 "metadata": {
  "kernelspec": {
   "display_name": "Python 3 (ipykernel)",
   "language": "python",
   "name": "python3"
  },
  "language_info": {
   "codemirror_mode": {
    "name": "ipython",
    "version": 3
   },
   "file_extension": ".py",
   "mimetype": "text/x-python",
   "name": "python",
   "nbconvert_exporter": "python",
   "pygments_lexer": "ipython3",
   "version": "3.10.9"
  }
 },
 "nbformat": 4,
 "nbformat_minor": 5
}
