{
 "cells": [
  {
   "cell_type": "code",
   "execution_count": 1,
   "id": "1ac6683a",
   "metadata": {},
   "outputs": [],
   "source": [
    "import numpy as np"
   ]
  },
  {
   "cell_type": "code",
   "execution_count": 2,
   "id": "31d2b214",
   "metadata": {},
   "outputs": [],
   "source": [
    "a=np.array([0,0,0,1])\n",
    "neighborlista=np.array([[0,0,0,2],[0,0,-1,3],[0,-1,0,2],[0,-1,-1,3],[-1,0,0,2],[-1,0,-1,3]])"
   ]
  },
  {
   "cell_type": "code",
   "execution_count": 3,
   "id": "a2062561",
   "metadata": {},
   "outputs": [
    {
     "data": {
      "text/plain": [
       "array([[ 0,  0,  0,  3],\n",
       "       [ 0,  0, -1,  4],\n",
       "       [ 0, -1,  0,  3],\n",
       "       [ 0, -1, -1,  4],\n",
       "       [-1,  0,  0,  3],\n",
       "       [-1,  0, -1,  4]])"
      ]
     },
     "execution_count": 3,
     "metadata": {},
     "output_type": "execute_result"
    }
   ],
   "source": [
    "np.tile(a,(6,1))+neighborlista"
   ]
  },
  {
   "cell_type": "code",
   "execution_count": 4,
   "id": "bffe9021",
   "metadata": {},
   "outputs": [],
   "source": [
    "neighborlista=np.array([[0,0,0,2],[0,0,-1,3],[0,-1,0,2],[0,-1,-1,3],[-1,0,0,2],[-1,0,-1,3]])\n",
    "neighborlistb=np.array([[0,0,0,1],[0,0,0,2],[0,-1,0,1],[0,-1,0,2],[-1,0,0,1],[-1,0,0,2]])\n",
    "neighborlistc=np.array([[0,0,0,-2],[0,0,0,-1],[0,1,0,-2],[1,0,0,-2],[0,1,0,-1],[1,0,0,-1]])\n",
    "neighborlistd=np.array([[0,0,0,-2],[0,0,1,-3],[0,1,1,-3],[1,0,1,-3],[0,1,0,-2],[1,0,0,-2]])\n",
    "\n",
    "\n",
    "Particle_list=np.array([[0,0,0,1]])\n",
    "def find_neighbor(particle):\n",
    "    if particle[3]==1:\n",
    "        return neighborlista+np.tile(particle,(6,1))\n",
    "    if particle[3]==2:\n",
    "        return neighborlistb+np.tile(particle,(6,1))\n",
    "    if particle[3]==3:\n",
    "        return neighborlistc+np.tile(particle,(6,1))\n",
    "    if particle[3]==4:/np.sum(pr/np.sum(prob)ob)\n",
    "        return neighborlistd+np.tile(particle,(6,1))\n",
    "b=np.full(\n",
    "  shape=6,\n",
    "  fill_value=1)\n",
    "neighborlist=find_neighbor(Particle_list[0])\n",
    "neighbor_connectionlist=b\n",
    "\n"
   ]
  },
  {
   "cell_type": "code",
   "execution_count": 25,
   "id": "1e6c5c18",
   "metadata": {},
   "outputs": [
    {
     "data": {
      "text/plain": [
       "array([1, 1, 1, 1, 1, 1])"
      ]
     },
     "execution_count": 25,
     "metadata": {},
     "output_type": "execute_result"
    }
   ],
   "source": [
    "np.full(\n",
    "  shape=6,\n",
    "  fill_value=1)"
   ]
  },
  {
   "cell_type": "code",
   "execution_count": 5,
   "id": "776ef839",
   "metadata": {},
   "outputs": [],
   "source": [
    "def calculate_insert_freq(neighbor_connectionlist):\n",
    "\n",
    "\n",
    "    f = lambda x: 1/4**x\n",
    "    rate= f(neighbor_connectionlist)\n",
    "    return rate"
   ]
  },
  {
   "cell_type": "code",
   "execution_count": 6,
   "id": "23878d79",
   "metadata": {},
   "outputs": [],
   "source": [
    "def insert_particle():\n",
    "    global Particle_list\n",
    "    global neighbor_connectionlist\n",
    "    global neighborlist\n",
    "    index_insert=np.random.choice(neighbor_connectionlist.size, 1, replace=False, p=calculate_insert_prob(neighbor_connectionlist))\n",
    "    Particle_list=np.concatenate((Particle_list,neighborlist[index_insert]/np.sum(pr/np.sum(prob)ob).reshape(1,4)),axis=0)\n",
    "    return index_insert\n"
   ]
  },
  {
   "cell_type": "code",
   "execution_count": 7,
   "id": "846df3c4",
   "metadata": {},
   "outputs": [],
   "source": [
    "def update_neighborlist(new_particle_index):\n",
    "    global Particle_list\n",
    "    global neighbor_connectionlist\n",
    "    global neighborlist\n",
    "    new_particle=neighborlist[new_particle_index]\n",
    "    neighborlist=np.delete(neighborlist,new_particle_index,axis=0)\n",
    "    neighbor_connectionlist=np.delete(neighbor_connectionlist,new_particle_index)\n",
    "    neighbors=find_neighbor(new_particle)\n",
    "    for i in range(0,6):\n",
    "        if np.where((Particle_list == tuple(neighbors[i].tolist())).all(axis=1))[0].size==1:\n",
    "            continue\n",
    "        if np.where((neighborlist == tuple(neighbors[i].tolist())).all(axis=1))[0].size==1:\n",
    "            neighbor_connectionlist[np.where((neighborlist == tuple(neighbors[i].tolist())).all(axis=1))[0][0]]+=1\n",
    "        else:\n",
    "            neighborlist=np.concatenate((neighborlist,neighbors[i].reshape(1,4)))\n",
    "            neighbor_connectionlist=np.concatenate((neighbor_connectionlist,np.array([1])),axis=0)\n",
    "            "
   ]
  },
  {
   "cell_type": "code",
   "execution_count": null,
   "id": "81f7e1bb",
   "metadata": {},
   "outputs": [],
   "source": [
    "def delete_particle():\n",
    "    \n",
    "    \\\n",
    "    \n",
    "    "
   ]
  },
  {
   "cell_type": "code",
   "execution_count": 8,
   "id": "df510d97",
   "metadata": {},
   "outputs": [],
   "source": [
    "for i in range(0,1000):\n",
    "    a=insert_particle()\n",
    "    update_neighborlist(a[0])"
   ]
  },
  {
   "cell_type": "code",
   "execution_count": 9,
   "id": "d2736094",
   "metadata": {},
   "outputs": [],
   "source": [
    "np.savetxt('growth.txt', Particle_list, fmt='%d', delimiter=' ', newline='\\n', header='', footer='', comments='# ', encoding=None)\n"
   ]
  },
  {
   "cell_type": "code",
   "execution_count": null,
   "id": "befb2f33",
   "metadata": {},
   "outputs": [],
   "source": [
    "import numpy as np\n",
    "import random\n",
    "\n",
    "\n",
    "neighborlista=np.array([[0,0,0,2],[0,0,-1,3],[0,-1,0,2],[0,-1,-1,3],[-1,0,0,2],[-1,0,-1,3]])\n",
    "neighborlistb=np.array([[0,0,0,1],[0,0,0,2],[0,-1,0,1],[0,-1,0,2],[-1,0,0,1],[-1,0,0,2]])\n",
    "neighborlistc=np.array([[0,0,0,-2],[0,0,0,-1],[0,1,0,-2],[1,0,0,-2],[0,1,0,-1],[1,0,0,-1]])\n",
    "neighborlistd=np.array([[0,0,0,-2],[0,0,1,-3],[0,1,1,-3],[1,0,1,-3],[0,1,0,-2],[1,0,0,-2]])\n",
    "def find_neighbor(particle):\n",
    "    if particle[3]==1:\n",
    "        return neighborlista+np.tile(particle,(6,1))\n",
    "    if particle[3]==2:\n",
    "        return neighborlistb+np.tile(particle,(6,1))\n",
    "    if particle[3]==3:\n",
    "        return neighborlistc+np.tile(particle,(6,1))\n",
    "    if particle[3]==4:\n",
    "        return neighborlistd+np.tile(particle,(6,1))\n",
    "class Simulation:\n",
    "    def __init__(self):\n",
    "        self.particle_list = []\n",
    "        self.neighbor_list = []\n",
    "        self.bond_list = []\n",
    "        self.events = []\n",
    "        self.time = 0\n",
    "    def add_particle(self, particle):\n",
    "        self.particle_list.append(particle)\n",
    "        neighbors=find_neighbor(particle)\n",
    "        \n",
    "        # ... Update neighbor_list and bond_list\n",
    "\n",
    "    def insert_one_particle_event(self, particle):\n",
    "        # ... Define the event, with a rate based on the multiplicity\n",
    "        rate = 1 / (4 ** self.get_multiplicity(particle))\n",
    "        self.events.append(('insert', particle, rate))\n",
    "\n",
    "    def delete_one_particle_event(self, particle):\n",
    "        # ... Define the event, with a rate based on the system properties\n",
    "        rate = self.calculate_delete_rate(particle)\n",
    "        self.events.append(('delete', particle, rate))\n",
    "\n",
    "    def get_multiplicity(self, particle):\n",
    "        # ... Implement your logic for getting the multiplicity\n",
    "        pass\n",
    "\n",
    "    def calculate_delete_rate(self, particle):\n",
    "        # ... Implement your logic for calculating the delete rate\n",
    "        pass\n",
    "\n",
    "    def execute_event(self, event):\n",
    "        # ... Implement logic to execute the event, updating the system state accordingly\n",
    "        pass\n",
    "\n",
    "    def kmc_step(self):\n",
    "        total_rate = sum(event[2] for event in self.events)\n",
    "        dt = -np.log(random.random()) / total_rate\n",
    "        self.time += dt\n",
    "        cumulative_rate = 0\n",
    "        r = random.random() * total_rate\n",
    "        for event in self.events:\n",
    "            cumulative_rate += event[2]\n",
    "            if r < cumulative_rate:\n",
    "                self.execute_event(event)\n",
    "                break\n",
    "\n",
    "    def run(self, steps):\n",
    "        for _ in range(steps):\n",
    "            self.kmc_step()\n",
    "\n",
    "# Create the simulation object\n",
    "sim = Simulation()\n",
    "\n",
    "# Add the initial particle\n",
    "sim.add_particle(Particle(0, 0, 0, 1))\n",
    "\n",
    "# Run the simulation for a number of steps\n",
    "sim.run(1000)\n"
   ]
  },
  {
   "cell_type": "code",
   "execution_count": 95,
   "id": "de0f126a",
   "metadata": {},
   "outputs": [
    {
     "name": "stderr",
     "output_type": "stream",
     "text": [
      "/tmp/ipykernel_3937/3227489002.py:57: RuntimeWarning: divide by zero encountered in scalar divide\n",
      "  rate = 1 / (4 ** self.multiplicity_array[i][0])\n"
     ]
    }
   ],
   "source": [
    "import numpy as np\n",
    "import random\n",
    "neighborlista=np.array([[0,0,0,2],[0,0,-1,3],[0,-1,0,2],[0,-1,-1,3],[-1,0,0,2],[-1,0,-1,3]])\n",
    "neighborlistb=np.array([[0,0,0,1],[0,0,0,2],[0,-1,0,1],[0,-1,0,2],[-1,0,0,1],[-1,0,0,2]])\n",
    "neighborlistc=np.array([[0,0,0,-2],[0,0,0,-1],[0,1,0,-2],[1,0,0,-2],[0,1,0,-1],[1,0,0,-1]])\n",
    "neighborlistd=np.array([[0,0,0,-2],[0,0,1,-3],[0,1,1,-3],[1,0,1,-3],[0,1,0,-2],[1,0,0,-2]])\n",
    "def find_neighbor(particle):\n",
    "    if particle[3]==1:\n",
    "        return neighborlista+np.tile(particle,(6,1))\n",
    "    if particle[3]==2:\n",
    "        return neighborlistb+np.tile(particle,(6,1))\n",
    "    if particle[3]==3:\n",
    "        return neighborlistc+np.tile(particle,(6,1))\n",
    "    if particle[3]==4:\n",
    "        return neighborlistd+np.tile(particle,(6,1))\n",
    "\n",
    "\n",
    "class Simulation:\n",
    "    def __init__(self):\n",
    "        self.particle_array = np.empty((0, 4), dtype=int)\n",
    "        self.neighbor_array = np.empty((0, 4), dtype=int)\n",
    "        self.multiplicity_array = np.empty((0, 1), dtype=int)\n",
    "        self.bond_array = np.empty((0, 1), dtype=int)\n",
    "        self.events = []\n",
    "        self.time = 0\n",
    "        self.g_0=0\n",
    "        self.g_1=0\n",
    "    def add_particle(self, i):\n",
    "        particle=self.neighbor_array[i]\n",
    "        if self.bond_array.shape[0]!=0:\n",
    "            self.bond_array=np.vstack((self.bond_array,self.multiplicity_array[i]))   \n",
    "        else:\n",
    "            self.bond_array=np.vstack((self.bond_array,np.array([0])))\n",
    "            self.bond_array=np.vstack((self.bond_array,self.multiplicity_array[i]))  \n",
    "        self.neighbor_array=np.delete(self.neighbor_array,i,axis=0)\n",
    "        self.multiplicity_array=np.delete(self.multiplicity_array,i,axis=0)\n",
    "        self.particle_array = np.vstack((self.particle_array, particle))\n",
    "        neighbors=find_neighbor(particle)\n",
    "        for i in range(0,6):\n",
    "            if np.where((self.particle_array == tuple(neighbors[i].tolist())).all(axis=1))[0].size==1:\n",
    "                self.bond_array[np.where((self.particle_array == tuple(neighbors[i].tolist())).all(axis=1))[0][0]][0]+=1\n",
    "                \n",
    "            if np.where((self.neighbor_array == tuple(neighbors[i].tolist())).all(axis=1))[0].size==1:\n",
    "                self.multiplicity_array[np.where((self.neighbor_array == tuple(neighbors[i].tolist())).all(axis=1))[0][0]][0]+=1\n",
    "            else:\n",
    "                self.neighbor_array=np.vstack((self.neighbor_array,neighbors[i]))\n",
    "                self.multiplicity_array=np.vstack((self.multiplicity_array,np.array([1])))\n",
    "        # ... Update neighbor_array and bond_array\n",
    "    def remove_particle(self,i):\n",
    "        self.neighbor_array=np.vstack((self.neighbor_array,self.particle_array[i]))\n",
    "        self.multiplicity_array=np.vstack((self.multiplicity_array,self.bond_array[i]))\n",
    "        vacancy=self.particle_array[i]\n",
    "        neighbors=find_neighbor(vacancy)\n",
    "        self.particle_array=np.delete(self.particle_array,i,axis=0)\n",
    "        self.bond_array=np.delete(self.bond_array,i,axis=0)\n",
    "        for i in range(0,6):\n",
    "            if np.where((self.particle_array == tuple(neighbors[i].tolist())).all(axis=1))[0].size==1:\n",
    "                self.bond_array[np.where((self.particle_array == tuple(neighbors[i].tolist())).all(axis=1))[0][0]][0]-=1\n",
    "    \n",
    "            if np.where((self.neighbor_array == tuple(neighbors[i].tolist())).all(axis=1))[0].size==1:\n",
    "                self.multiplicity_array[np.where((self.neighbor_array == tuple(neighbors[i].tolist())).all(axis=1))[0][0]][0]-=1\n",
    "                if self.multiplicity_array[np.where((self.neighbor_array == tuple(neighbors[i].tolist())).all(axis=1))[0][0]][0]==0:\n",
    "                    self.neighbor_array=np.delete(self.neighbor_array,np.where((self.neighbor_array == tuple(neighbors[i].tolist())).all(axis=1))[0][0],axis=0)\n",
    "                    self.multiplicity_array=np.delete(self.multiplicity_array,np.where((self.neighbor_array == tuple(neighbors[i].tolist())).all(axis=1))[0][0],axis=0) \n",
    "        self.particle_array=np.delete(self.particle_array,i,axis=0)\n",
    "        self.bond_array=np.delete(self.bond_array,i,axis=0)\n",
    "        \n",
    "    def insert_one_particle_event(self, i):\n",
    "        # ... Define the event, with a rate based on the multiplicity\n",
    "        rate = 1 / (4 ** self.multiplicity_array[i][0])\n",
    "        self.events.append(('insert', i, rate))\n",
    "\n",
    "    def delete_one_particle_event(self, i):\n",
    "        if self.bond_array.shape[0]!=0:\n",
    "            rate = self.calculate_delete_rate(i)\n",
    "            self.events.append(('delete', i, rate))\n",
    "       \n",
    "\n",
    "    def calculate_delete_rate(self, i):\n",
    "        g=self.g_0+self.bond_array[i][0]*self.g_1\n",
    "        return np.exp(-g) / (4 ** self.bond_array[i][0])\n",
    "        \n",
    "    \n",
    "    def execute_event(self, event):\n",
    "        if event[0]=='insert':\n",
    "            self.add_particle(event[1])\n",
    "        if event[0]=='delete':\n",
    "            self.remove_particle(event[1])\n",
    "\n",
    "    def kmc_step(self):\n",
    "        self.events=[]\n",
    "        for i in range(0,self.neighbor_array.shape[0]):\n",
    "            self.insert_one_particle_event(i)\n",
    "        for i in range(0,self.particle_array.shape[0]):\n",
    "            self.delete_one_particle_event(i)\n",
    "        total_rate = sum(event[2] for event in self.events)\n",
    "        rand_number=random.random()\n",
    "        dt = -np.log(rand_number) / total_rate\n",
    "        self.time += dt\n",
    "        cumulative_rate = 0\n",
    "        r = rand_number * total_rate\n",
    "        for event in self.events:\n",
    "            cumulative_rate += event[2]\n",
    "            if r < cumulative_rate:\n",
    "                self.execute_event(event)\n",
    "                break\n",
    "\n",
    "    def run(self, steps):\n",
    "        for _ in range(steps):\n",
    "            self.kmc_step()\n",
    "\n",
    "# Create the simulation object\n",
    "sim = Simulation()\n",
    "\n",
    "# Add the initial particle\n",
    "sim.particle_array=np.array([0,0,0,1])\n",
    "sim.neighbor_array=find_neighbor(np.array([0,0,0,1]))\n",
    "sim.multiplicity_array=np.array([[1],[1],[1],[1],[1],[1]])\n",
    "sim.g_0=-5\n",
    "sim.g_1=7\n",
    "sim.bond_array=np.empty((0, 1), dtype=int)\n",
    "# Run the simulation for a number of steps\n",
    "sim.run(100000)\n"
   ]
  },
  {
   "cell_type": "code",
   "execution_count": 124,
   "id": "640ee58f",
   "metadata": {},
   "outputs": [],
   "source": [
    "import numpy as np\n",
    "import random\n",
    "neighborlista=np.array([[0,0,0,2],[0,0,-1,3],[0,-1,0,2],[0,-1,-1,3],[-1,0,0,2],[-1,0,-1,3]])\n",
    "neighborlistb=np.array([[0,0,0,1],[0,0,0,2],[0,-1,0,1],[0,-1,0,2],[-1,0,0,1],[-1,0,0,2]])\n",
    "neighborlistc=np.array([[0,0,0,-2],[0,0,0,-1],[0,1,0,-2],[1,0,0,-2],[0,1,0,-1],[1,0,0,-1]])\n",
    "neighborlistd=np.array([[0,0,0,-2],[0,0,1,-3],[0,1,1,-3],[1,0,1,-3],[0,1,0,-2],[1,0,0,-2]])\n",
    "def find_neighbor(particle):\n",
    "    if particle[3]==1:\n",
    "        return neighborlista+np.tile(particle,(6,1))\n",
    "    if particle[3]==2:\n",
    "        return neighborlistb+np.tile(particle,(6,1))\n",
    "    if particle[3]==3:\n",
    "        return neighborlistc+np.tile(particle,(6,1))\n",
    "    if particle[3]==4:\n",
    "        return neighborlistd+np.tile(particle,(6,1))\n",
    "\n",
    "\n",
    "class Simulation:\n",
    "    def __init__(self):\n",
    "        self.particle_array = np.empty((0, 4), dtype=int)\n",
    "        self.neighbor_array = np.empty((0, 4), dtype=int)\n",
    "        self.multiplicity_array = np.empty((0, 1), dtype=int)\n",
    "        self.bond_array = np.empty((0, 1), dtype=int)\n",
    "        self.events = []\n",
    "        self.time = 0\n",
    "        self.g_0=0\n",
    "        self.g_1=0\n",
    "    def add_particle(self, i):\n",
    "        particle=self.neighbor_array[i]\n",
    "        if self.bond_array.shape[0]!=0:\n",
    "            self.bond_array=np.vstack((self.bond_array,self.multiplicity_array[i]))   \n",
    "        else:\n",
    "            self.bond_array=np.vstack((self.bond_array,np.array([0])))\n",
    "            self.bond_array=np.vstack((self.bond_array,self.multiplicity_array[i]))  \n",
    "        self.neighbor_array=np.delete(self.neighbor_array,i,axis=0)\n",
    "        self.multiplicity_array=np.delete(self.multiplicity_array,i,axis=0)\n",
    "        self.particle_array = np.vstack((self.particle_array, particle))\n",
    "        neighbors=find_neighbor(particle)\n",
    "        for i in range(0,6):\n",
    "            if np.where((self.particle_array == tuple(neighbors[i].tolist())).all(axis=1))[0].size==1:\n",
    "                self.bond_array[np.where((self.particle_array == tuple(neighbors[i].tolist())).all(axis=1))[0][0]][0]+=1\n",
    "                \n",
    "            if np.where((self.neighbor_array == tuple(neighbors[i].tolist())).all(axis=1))[0].size==1:\n",
    "                self.multiplicity_array[np.where((self.neighbor_array == tuple(neighbors[i].tolist())).all(axis=1))[0][0]][0]+=1\n",
    "            else:\n",
    "                self.neighbor_array=np.vstack((self.neighbor_array,neighbors[i]))\n",
    "                self.multiplicity_array=np.vstack((self.multiplicity_array,np.array([1])))\n",
    "        # ... Update neighbor_array and bond_array\n",
    "    def remove_particle(self,i):\n",
    "        self.neighbor_array=np.vstack((self.neighbor_array,self.particle_array[i]))\n",
    "        self.multiplicity_array=np.vstack((self.multiplicity_array,self.bond_array[i]))\n",
    "        vacancy=self.particle_array[i]\n",
    "        neighbors=find_neighbor(vacancy)\n",
    "        self.particle_array=np.delete(self.particle_array,i,axis=0)\n",
    "        self.bond_array=np.delete(self.bond_array,i,axis=0)\n",
    "        for i in range(0,6):\n",
    "            if np.where((self.particle_array == tuple(neighbors[i].tolist())).all(axis=1))[0].size==1:\n",
    "                self.bond_array[np.where((self.particle_array == tuple(neighbors[i].tolist())).all(axis=1))[0][0]][0]-=1\n",
    "                index=np.where((self.particle_array == tuple(neighbors[i].tolist())).all(axis=1))[0][0]\n",
    "                if self.bond_array[index][0]==0:\n",
    "                    \n",
    "            if np.where((self.neighbor_array == tuple(neighbors[i].tolist())).all(axis=1))[0].size==1:\n",
    "                index=np.where((self.neighbor_array == tuple(neighbors[i].tolist())).all(axis=1))[0][0]\n",
    "                self.multiplicity_array[index][0]-=1\n",
    "                if self.multiplicity_array[index][0]==0:\n",
    "                    self.neighbor_array=np.delete(self.neighbor_array,index,axis=0)\n",
    "                    self.multiplicity_array=np.delete(self.multiplicity_array,index,axis=0) \n",
    "        self.particle_array=np.delete(self.particle_array,i,axis=0)\n",
    "        self.bond_array=np.delete(self.bond_array,i,axis=0)\n",
    "        \n",
    "    def insert_one_particle_event(self, i):\n",
    "        # ... Define the event, with a rate based on the multiplicity\n",
    "        rate = 1 / (4 ** self.multiplicity_array[i][0])\n",
    "        self.events.append(('insert', i, rate))\n",
    "\n",
    "    def delete_one_particle_event(self, i):\n",
    "        if self.bond_array.shape[0]!=0:\n",
    "            rate = self.calculate_delete_rate(i)\n",
    "            self.events.append(('delete', i, rate))\n",
    "       \n",
    "\n",
    "    def calculate_delete_rate(self, i):\n",
    "        g=self.g_0+self.bond_array[i][0]*self.g_1\n",
    "        return np.exp(-g) / (4 ** self.bond_array[i][0])\n",
    "        \n",
    "    \n",
    "    def execute_event(self, event):\n",
    "        if event[0]=='insert':\n",
    "            self.add_particle(event[1])\n",
    "        if event[0]=='delete':\n",
    "            self.remove_particle(event[1])\n",
    "\n",
    "    def kmc_step(self):\n",
    "        self.events=[]\n",
    "        for i in range(0,self.neighbor_array.shape[0]):\n",
    "            self.insert_one_particle_event(i)\n",
    "        for i in range(0,self.particle_array.shape[0]):\n",
    "            self.delete_one_particle_event(i)\n",
    "        total_rate = sum(event[2] for event in self.events)\n",
    "        rand_number=random.random()\n",
    "        dt = -np.log(rand_number) / total_rate\n",
    "        self.time += dt\n",
    "        cumulative_rate = 0\n",
    "        r = rand_number * total_rate\n",
    "        for event in self.events:\n",
    "            cumulative_rate += event[2]\n",
    "            if r < cumulative_rate:\n",
    "                self.execute_event(event)\n",
    "                break\n",
    "\n",
    "    def run(self, steps):\n",
    "        for _ in range(steps):\n",
    "            self.kmc_step()\n",
    "\n",
    "# Create the simulation object\n",
    "sim = Simulation()\n",
    "\n",
    "# Add the initial particle\n",
    "sim.particle_array=np.array([0,0,0,1])\n",
    "sim.neighbor_array=find_neighbor(np.array([0,0,0,1]))\n",
    "sim.multiplicity_array=np.array([[1],[1],[1],[1],[1],[1]])\n",
    "sim.g_0=-5\n",
    "sim.g_1=5\n",
    "sim.bond_array=np.empty((0, 1), dtype=int)\n",
    "# Run the simulation for a number of steps\n",
    "sim.run(1000)\n"
   ]
  },
  {
   "cell_type": "code",
   "execution_count": 99,
   "id": "7e4edbae",
   "metadata": {},
   "outputs": [
    {
     "data": {
      "text/plain": [
       "array([[ 0,  0,  0,  1],\n",
       "       [ 0,  0,  0,  3],\n",
       "       [ 0,  0,  0,  2],\n",
       "       [-1,  0, -1,  4],\n",
       "       [ 0,  1,  0,  2],\n",
       "       [ 0,  1,  0,  1],\n",
       "       [-1,  1, -1,  4],\n",
       "       [ 0,  0,  0,  3],\n",
       "       [ 0,  0, -1,  4],\n",
       "       [-1,  0,  0,  1],\n",
       "       [-1,  2, -1,  2],\n",
       "       [-1, -1, -1,  4],\n",
       "       [-1,  0, -1,  2],\n",
       "       [-1,  1,  0,  4],\n",
       "       [-1,  1,  0,  2],\n",
       "       [ 0, -1, -1,  2],\n",
       "       [ 0, -1, -1,  3],\n",
       "       [ 0, -2, -1,  4],\n",
       "       [ 1, -1, -1,  1],\n",
       "       [ 1, -1, -2,  4],\n",
       "       [ 1,  0, -2,  2],\n",
       "       [-2,  1,  0,  3],\n",
       "       [ 1,  0, -1,  1],\n",
       "       [-2,  1,  0,  2],\n",
       "       [ 1, -2, -1,  3],\n",
       "       [-2,  0, -1,  3],\n",
       "       [ 2, -1, -2,  2],\n",
       "       [ 2, -2, -2,  4],\n",
       "       [-1,  2,  0,  2],\n",
       "       [-2,  1, -1,  1],\n",
       "       [ 1, -2, -1,  1],\n",
       "       [-3,  1, -2,  4],\n",
       "       [-1,  2, -1,  3],\n",
       "       [-1,  2,  0,  3],\n",
       "       [-3,  1,  0,  4],\n",
       "       [ 0, -1, -1,  1],\n",
       "       [ 1,  0, -2,  3],\n",
       "       [ 1, -3, -1,  3],\n",
       "       [-3,  2,  0,  2],\n",
       "       [-1,  3,  0,  2],\n",
       "       [-4,  2,  0,  4],\n",
       "       [-2,  1, -2,  2],\n",
       "       [ 2,  0, -2,  2],\n",
       "       [ 1,  1, -2,  1],\n",
       "       [ 1,  0, -1,  3],\n",
       "       [-1,  2, -1,  4],\n",
       "       [-2,  0, -2,  3],\n",
       "       [-2,  0, -1,  4],\n",
       "       [-2,  2, -1,  3],\n",
       "       [-2,  3, -1,  1],\n",
       "       [ 0,  2, -1,  2],\n",
       "       [-3,  3, -2,  4],\n",
       "       [ 1, -2,  0,  1],\n",
       "       [ 1, -3, -1,  4],\n",
       "       [ 2,  0, -1,  1],\n",
       "       [ 1,  0,  0,  1],\n",
       "       [ 0,  1,  1,  1],\n",
       "       [-2,  3, -1,  3],\n",
       "       [-1,  0, -2,  1],\n",
       "       [-2,  3, -2,  2],\n",
       "       [ 2, -2, -2,  2],\n",
       "       [ 2, -2, -1,  2],\n",
       "       [-1,  1, -1,  2],\n",
       "       [-1,  1,  1,  3],\n",
       "       [-4,  2,  0,  3],\n",
       "       [-1, -1, -2,  3],\n",
       "       [-4,  3,  1,  1],\n",
       "       [-3,  1, -1,  1],\n",
       "       [ 0,  2, -1,  3],\n",
       "       [-2,  0, -3,  4],\n",
       "       [-1, -1, -2,  1],\n",
       "       [ 0,  0, -2,  3],\n",
       "       [ 0,  0, -1,  4],\n",
       "       [ 3, -2, -2,  2],\n",
       "       [-1,  3,  0,  3],\n",
       "       [-2,  3, -2,  4],\n",
       "       [-5,  3,  0,  4],\n",
       "       [-1, -1,  0,  1],\n",
       "       [-1,  0, -3,  4],\n",
       "       [ 0,  1, -2,  2],\n",
       "       [ 2, -3, -2,  4],\n",
       "       [-3,  1, -2,  3],\n",
       "       [-3,  3, -1,  3],\n",
       "       [ 3, -3, -2,  4],\n",
       "       [-1,  4,  0,  2],\n",
       "       [-3,  2, -2,  1],\n",
       "       [-4,  2,  1,  1],\n",
       "       [ 0,  3, -1,  2],\n",
       "       [-3,  2, -3,  4],\n",
       "       [ 0,  1, -1,  3],\n",
       "       [-4,  3,  0,  1],\n",
       "       [ 1, -2, -1,  3],\n",
       "       [ 0,  3, -1,  4],\n",
       "       [-3,  3, -2,  3],\n",
       "       [-2,  2, -2,  3],\n",
       "       [-2,  2, -1,  2],\n",
       "       [-1,  1, -1,  3],\n",
       "       [-1, -1,  0,  3],\n",
       "       [-1,  3,  0,  1],\n",
       "       [ 1,  0, -2,  1]])"
      ]
     },
     "execution_count": 99,
     "metadata": {},
     "output_type": "execute_result"
    }
   ],
   "source": [
    "sim.particle_array[0:100]"
   ]
  },
  {
   "cell_type": "code",
   "execution_count": 121,
   "id": "c0bc5546",
   "metadata": {},
   "outputs": [
    {
     "data": {
      "text/plain": [
       "array([[ 0,  0,  0,  1],\n",
       "       [ 0, -1, -1,  4],\n",
       "       [ 0, -1, -1,  2],\n",
       "       ...,\n",
       "       [ 3,  2,  2,  4],\n",
       "       [ 0,  1, -1,  4],\n",
       "       [-3, -2,  1,  2]])"
      ]
     },
     "execution_count": 121,
     "metadata": {},
     "output_type": "execute_result"
    }
   ],
   "source": [
    "sim.particle_array"
   ]
  },
  {
   "cell_type": "code",
   "execution_count": 125,
   "id": "7b1677c4",
   "metadata": {},
   "outputs": [],
   "source": [
    "position_array=np.zeros((sim.particle_array.shape[0],3))\n",
    "atom_array=np.array([[0,0,0],[0,0,1.88],[1.73,1.73/np.sqrt(3),0.94],[1.73,1.73/np.sqrt(3),1.88*1.5]])\n",
    "lattice_array=np.array([[3.46,0,0],[3.46/2,3.46*np.sqrt(3)/2,0],[0,0,1.88]])\n",
    "for i in range(0,sim.particle_array.shape[0]):\n",
    "    position_array[i]=sim.particle_array[i][0]*lattice_array[0]+sim.particle_array[i][1]*lattice_array[1]+sim.particle_array[i][2]*lattice_array[2]+atom_array[sim.particle_array[i][3]-1]"
   ]
  },
  {
   "cell_type": "code",
   "execution_count": 126,
   "id": "14334905",
   "metadata": {},
   "outputs": [
    {
     "data": {
      "application/vnd.plotly.v1+json": {
       "config": {
        "plotlyServerURL": "https://plot.ly"
       },
       "data": [
        {
         "mode": "markers",
         "type": "scatter3d",
         "x": [
          0,
          -1.73,
          -1.73,
          -3.46,
          -1.73,
          0,
          3.4600000000000004,
          -10.379999999999999,
          -8.65,
          -8.649999999999999,
          -6.92,
          -3.4599999999999995,
          0,
          -6.92,
          -12.11,
          -10.379999999999999,
          -15.569999999999997,
          -6.919999999999998,
          3.46,
          -8.649999999999999,
          1.73,
          4.440892098500626e-16,
          -12.11,
          -12.11,
          -12.109999999999998,
          -15.57,
          -3.46,
          5.1899999999999995,
          1.73,
          -10.379999999999999,
          -10.38,
          4.440892098500626e-16,
          -10.38,
          -8.65,
          3.46,
          3.46,
          1.73,
          3.46,
          -10.379999999999999,
          -10.379999999999999,
          -1.73,
          -3.4599999999999995,
          -6.92,
          6.92,
          -1.73,
          -10.379999999999999,
          0,
          6.92,
          -12.11,
          0,
          3.46,
          -5.1899999999999995,
          -10.379999999999999,
          -3.459999999999999,
          0,
          3.4600000000000004,
          -3.4599999999999995,
          -3.4599999999999995,
          8.649999999999999,
          1.73,
          -8.649999999999999,
          -8.649999999999999,
          -1.73,
          -12.11,
          -1.73,
          -8.649999999999999,
          -10.379999999999999,
          -8.649999999999999,
          5.1899999999999995,
          -8.649999999999999,
          -17.299999999999997,
          -8.65,
          -12.11,
          3.4600000000000004,
          3.4600000000000004,
          1.73,
          -13.839999999999998,
          -15.57,
          1.73,
          -8.65,
          -3.4599999999999995,
          -1.7300000000000004,
          -4.440892098500626e-16,
          -8.649999999999999,
          -5.1899999999999995,
          1.73,
          -3.4599999999999995,
          5.1899999999999995,
          -8.65,
          -6.92,
          -1.73,
          -5.1899999999999995,
          -6.92,
          -15.569999999999997,
          -8.649999999999999,
          0,
          -12.11,
          -6.92,
          -15.57,
          -1.73,
          -6.92,
          -17.3,
          0,
          -12.11,
          -10.38,
          -13.84,
          -3.4599999999999995,
          -6.919999999999999,
          5.1899999999999995,
          -13.84,
          -1.73,
          -13.84,
          -15.57,
          -3.4599999999999995,
          -6.919999999999998,
          -1.73,
          -6.92,
          6.92,
          -10.379999999999999,
          -10.379999999999999,
          -15.57,
          0,
          -5.1899999999999995,
          1.7299999999999995,
          1.73,
          -1.7299999999999995,
          -1.7299999999999995,
          -10.379999999999999,
          0,
          -6.92,
          -6.92,
          -5.1899999999999995,
          -5.1899999999999995,
          -4.440892098500626e-16,
          -3.4599999999999995,
          -10.38,
          -8.65,
          -10.379999999999999,
          0,
          -17.299999999999997,
          3.46,
          -3.4599999999999995,
          -6.919999999999998,
          -4.440892098500626e-16,
          -3.4599999999999995,
          5.1899999999999995,
          -5.1899999999999995,
          5.1899999999999995,
          -10.379999999999999,
          -5.1899999999999995,
          0,
          -8.649999999999999,
          -1.73,
          -10.38,
          -12.109999999999998,
          -6.92,
          -5.1899999999999995,
          -6.920000000000002,
          -8.65,
          -12.11,
          -6.92,
          -13.84,
          -13.839999999999998,
          8.65,
          -12.109999999999998,
          8.65,
          1.73,
          -1.7299999999999995,
          1.73,
          -6.92,
          -10.379999999999999,
          1.7299999999999986,
          1.7300000000000004,
          -1.73,
          -3.4599999999999995,
          -8.649999999999999,
          -13.84,
          -10.379999999999999,
          -17.3,
          -6.92,
          5.1899999999999995,
          -3.46,
          -1.73,
          3.46,
          -13.839999999999998,
          -3.460000000000001,
          -5.1899999999999995,
          -13.839999999999998,
          -17.3,
          -1.729999999999999,
          -12.11,
          -6.92,
          -5.1899999999999995,
          -10.379999999999999,
          6.92,
          -13.839999999999998,
          -5.1899999999999995,
          -5.1899999999999995,
          -13.839999999999998,
          -5.190000000000001,
          -6.92,
          -1.73,
          3.46,
          -13.84,
          -3.4599999999999995,
          0,
          -15.57,
          1.73,
          -1.73,
          -12.109999999999998,
          -1.73,
          -5.1899999999999995,
          -1.7299999999999986,
          -1.729999999999999,
          -8.649999999999999,
          -3.4599999999999995,
          -6.919999999999998,
          5.1899999999999995,
          -12.11,
          -12.11,
          -10.379999999999999,
          -15.57,
          -15.57,
          6.919999999999999,
          -15.569999999999999,
          -15.569999999999999,
          -12.11,
          -1.7299999999999986,
          -19.029999999999998,
          -1.73,
          10.379999999999999,
          -10.379999999999999,
          1.73,
          5.1899999999999995,
          -1.73,
          -12.11,
          -8.65,
          -8.649999999999999,
          -5.1899999999999995,
          -10.379999999999999,
          -3.4599999999999995,
          -1.729999999999999,
          -8.649999999999999,
          -3.46,
          -12.11,
          -8.649999999999999,
          -12.11,
          1.73,
          -6.92,
          6.92,
          -6.92,
          3.4600000000000004,
          -10.379999999999999,
          -8.649999999999999,
          -6.919999999999998,
          8.65,
          -1.73,
          -5.1899999999999995,
          6.92,
          0,
          1.73,
          -8.65,
          -5.19,
          1.7300000000000004,
          -3.459999999999999,
          0,
          -15.569999999999997,
          3.4599999999999986,
          5.1899999999999995,
          -3.46,
          5.1899999999999995,
          -17.299999999999997,
          -5.1899999999999995,
          -12.11,
          -15.57,
          0,
          -10.379999999999999,
          6.919999999999999,
          0,
          -5.1899999999999995,
          0,
          -13.84,
          -3.459999999999999,
          -13.839999999999998,
          -1.73,
          -8.65,
          6.919999999999999,
          1.73,
          -5.1899999999999995,
          3.4599999999999995,
          -13.84,
          6.919999999999999,
          -1.73,
          -8.649999999999999,
          -13.84,
          -6.919999999999998,
          -5.19,
          -6.92,
          5.1899999999999995,
          5.1899999999999995
         ],
         "y": [
          0,
          0.9988159656980526,
          0.9988159656980526,
          0,
          2.9964478970941575,
          -5.992895794188315,
          -7.99052772558442,
          -5.992895794188315,
          -2.9964478970941575,
          -4.994079828490262,
          -1.9976319313961048,
          -1.9976319313961048,
          -5.992895794188315,
          -1.9976319313961048,
          6.991711759886368,
          -7.99052772558442,
          6.991711759886368,
          -7.99052772558442,
          -5.992895794188315,
          -8.989343691282473,
          6.991711759886368,
          -7.99052772558442,
          -8.989343691282473,
          2.9964478970941575,
          12.984607554074682,
          -2.9964478970941575,
          0,
          2.9964478970941575,
          -2.9964478970941575,
          -1.9976319313961048,
          11.98579158837663,
          -7.99052772558442,
          9.988159656980525,
          8.989343691282473,
          3.99526386279221,
          3.99526386279221,
          -4.994079828490262,
          -1.9976319313961048,
          -7.99052772558442,
          5.992895794188315,
          2.9964478970941575,
          9.988159656980525,
          9.988159656980525,
          -1.9976319313961048,
          0.9988159656980526,
          -5.992895794188315,
          0,
          3.99526386279221,
          -8.989343691282473,
          3.99526386279221,
          -5.992895794188315,
          -8.989343691282473,
          0,
          11.98579158837663,
          -11.98579158837663,
          -7.99052772558442,
          3.99526386279221,
          9.988159656980525,
          -2.9964478970941575,
          0.9988159656980526,
          -8.989343691282473,
          -8.989343691282473,
          0.9988159656980526,
          -10.986975622678578,
          2.9964478970941575,
          -10.986975622678578,
          5.992895794188315,
          0.9988159656980526,
          -8.989343691282473,
          -8.989343691282473,
          5.992895794188315,
          -2.9964478970941575,
          0.9988159656980526,
          -7.99052772558442,
          -7.99052772558442,
          -2.9964478970941575,
          -7.99052772558442,
          -4.994079828490262,
          2.9964478970941575,
          -2.9964478970941575,
          15.981055451168839,
          8.989343691282473,
          9.988159656980525,
          -4.994079828490262,
          -2.9964478970941575,
          -2.9964478970941575,
          -1.9976319313961048,
          -8.989343691282473,
          14.982239485470787,
          15.981055451168839,
          -10.986975622678578,
          12.984607554074682,
          -1.9976319313961048,
          6.991711759886368,
          -10.986975622678578,
          -1.9976319313961048,
          -8.989343691282473,
          -11.98579158837663,
          -2.9964478970941575,
          -2.9964478970941575,
          11.98579158837663,
          -1.9976319313961048,
          5.992895794188315,
          -10.986975622678578,
          9.988159656980525,
          5.992895794188315,
          -7.99052772558442,
          5.992895794188315,
          -10.986975622678578,
          0,
          0.9988159656980526,
          0,
          -2.9964478970941575,
          -7.99052772558442,
          -7.99052772558442,
          2.9964478970941575,
          9.988159656980525,
          0,
          -5.992895794188315,
          0,
          -4.994079828490262,
          -1.9976319313961048,
          8.989343691282473,
          8.989343691282473,
          -4.994079828490262,
          -8.989343691282473,
          -8.989343691282473,
          0,
          11.98579158837663,
          11.98579158837663,
          -11.98579158837663,
          6.991711759886368,
          0.9988159656980526,
          -13.983423519772735,
          -7.99052772558442,
          11.98579158837663,
          12.984607554074682,
          -11.98579158837663,
          3.99526386279221,
          5.992895794188315,
          5.992895794188315,
          -7.99052772558442,
          3.99526386279221,
          9.988159656980525,
          9.988159656980525,
          0.9988159656980526,
          2.9964478970941575,
          -4.994079828490262,
          -11.98579158837663,
          -2.9964478970941575,
          3.99526386279221,
          0.9988159656980526,
          0.9988159656980526,
          9.988159656980525,
          12.984607554074682,
          -1.9976319313961048,
          -10.986975622678578,
          17.978687382564946,
          14.982239485470787,
          0.9988159656980526,
          -1.9976319313961048,
          3.99526386279221,
          11.98579158837663,
          0.9988159656980526,
          12.984607554074682,
          2.9964478970941575,
          12.984607554074682,
          -8.989343691282473,
          2.9964478970941575,
          -13.983423519772735,
          -11.98579158837663,
          -14.982239485470787,
          14.982239485470787,
          6.991711759886368,
          -7.99052772558442,
          18.977503348263,
          3.99526386279221,
          17.978687382564946,
          -1.9976319313961048,
          -13.983423519772735,
          6.991711759886368,
          0,
          2.9964478970941575,
          5.992895794188315,
          11.98579158837663,
          17.978687382564946,
          2.9964478970941575,
          9.988159656980525,
          -5.992895794188315,
          12.984607554074682,
          -4.994079828490262,
          -11.98579158837663,
          2.9964478970941575,
          0,
          3.99526386279221,
          9.988159656980525,
          2.9964478970941575,
          6.991711759886368,
          -7.99052772558442,
          18.977503348263,
          -1.9976319313961048,
          -4.994079828490262,
          3.99526386279221,
          0,
          9.988159656980525,
          3.99526386279221,
          -4.994079828490262,
          12.984607554074682,
          -10.986975622678578,
          12.984607554074682,
          0.9988159656980526,
          12.984607554074682,
          14.982239485470787,
          12.984607554074682,
          2.9964478970941575,
          3.99526386279221,
          3.99526386279221,
          0.9988159656980526,
          18.977503348263,
          -4.994079828490262,
          -7.99052772558442,
          2.9964478970941575,
          -4.994079828490262,
          -5.992895794188315,
          8.989343691282473,
          -8.989343691282473,
          -2.9964478970941575,
          14.982239485470787,
          6.991711759886368,
          -10.986975622678578,
          0,
          0,
          -2.9964478970941575,
          8.989343691282473,
          -10.986975622678578,
          -8.989343691282473,
          8.989343691282473,
          2.9964478970941575,
          -10.986975622678578,
          17.978687382564946,
          3.99526386279221,
          12.984607554074682,
          18.977503348263,
          -5.992895794188315,
          0.9988159656980526,
          6.991711759886368,
          2.9964478970941575,
          6.991711759886368,
          -13.983423519772735,
          5.992895794188315,
          11.98579158837663,
          -7.99052772558442,
          -13.983423519772735,
          0.9988159656980526,
          -7.99052772558442,
          2.9964478970941575,
          -4.994079828490262,
          2.9964478970941575,
          0,
          0,
          -2.9964478970941575,
          8.989343691282473,
          -14.982239485470787,
          -8.989343691282473,
          11.98579158837663,
          0,
          12.984607554074682,
          -13.983423519772735,
          2.9964478970941575,
          -11.98579158837663,
          -14.982239485470787,
          3.99526386279221,
          -4.994079828490262,
          -4.994079828490262,
          2.9964478970941575,
          -11.98579158837663,
          3.99526386279221,
          -5.992895794188315,
          5.992895794188315,
          14.982239485470787,
          5.992895794188315,
          -5.992895794188315,
          11.98579158837663,
          -7.99052772558442,
          6.991711759886368,
          12.984607554074682,
          -5.992895794188315,
          0.9988159656980526,
          -8.989343691282473,
          9.988159656980525,
          3.99526386279221,
          -5.992895794188315,
          -4.994079828490262,
          2.9964478970941575,
          17.978687382564946,
          -7.99052772558442,
          -14.982239485470787,
          -13.983423519772735,
          -2.9964478970941575,
          -2.9964478970941575
         ],
         "z": [
          0,
          0.94,
          0.94,
          0,
          0,
          -3.76,
          2.82,
          -5.64,
          0,
          -4.699999999999999,
          -2.82,
          -4.699999999999999,
          -3.76,
          2.82,
          2.82,
          0.94,
          2.82,
          -2.82,
          1.88,
          -1.88,
          -0.94,
          -2.82,
          0,
          3.76,
          0.94,
          1.88,
          -1.88,
          0,
          -1.88,
          -4.699999999999999,
          3.76,
          -0.94,
          4.699999999999999,
          0,
          0.94,
          -0.94,
          -0.94,
          4.699999999999999,
          -4.699999999999999,
          3.76,
          -3.76,
          -0.94,
          2.82,
          4.699999999999999,
          -4.699999999999999,
          1.88,
          -5.64,
          -0.94,
          -3.76,
          -2.82,
          -1.88,
          0,
          -3.76,
          -1.88,
          1.88,
          0.94,
          -4.699999999999999,
          -2.82,
          1.88,
          2.82,
          -5.64,
          -3.76,
          -6.58,
          -2.82,
          -7.52,
          -4.699999999999999,
          3.76,
          -2.82,
          1.88,
          0,
          1.88,
          3.76,
          0.94,
          4.699999999999999,
          0.94,
          1.88,
          -2.82,
          0.94,
          1.88,
          -1.88,
          2.82,
          0,
          0.94,
          2.82,
          -5.64,
          -1.88,
          -4.699999999999999,
          3.76,
          1.88,
          2.82,
          4.699999999999999,
          -2.82,
          2.82,
          0.94,
          0.94,
          -4.699999999999999,
          -5.64,
          0,
          0,
          -3.76,
          -1.88,
          0.94,
          -3.76,
          -0.94,
          2.82,
          1.88,
          -2.82,
          -1.88,
          2.82,
          0,
          -6.58,
          1.88,
          0,
          0.94,
          0.94,
          -7.52,
          -0.94,
          3.76,
          -3.76,
          -5.64,
          2.82,
          -2.82,
          -1.88,
          -1.88,
          -4.699999999999999,
          -3.76,
          0,
          -3.76,
          -1.88,
          -1.88,
          -5.64,
          0.94,
          -2.82,
          2.82,
          2.82,
          0,
          4.699999999999999,
          -3.76,
          -6.579999999999998,
          1.88,
          1.88,
          -4.699999999999999,
          0.94,
          -0.94,
          2.82,
          0.94,
          0,
          -2.82,
          0,
          -5.64,
          -2.82,
          -4.699999999999999,
          -4.699999999999999,
          4.699999999999999,
          4.699999999999999,
          -2.82,
          -4.699999999999999,
          1.88,
          1.88,
          4.699999999999999,
          -2.82,
          4.699999999999999,
          5.64,
          4.699999999999999,
          4.699999999999999,
          3.76,
          -0.94,
          -3.76,
          -1.88,
          -0.94,
          -3.76,
          1.88,
          -1.88,
          -0.94,
          0.94,
          2.82,
          0.94,
          1.88,
          -0.94,
          -4.699999999999999,
          2.82,
          -7.52,
          0,
          1.88,
          3.76,
          1.88,
          0,
          4.699999999999999,
          1.88,
          4.699999999999999,
          -4.699999999999999,
          -1.88,
          -3.76,
          3.76,
          2.82,
          4.699999999999999,
          -5.64,
          4.699999999999999,
          -4.699999999999999,
          2.82,
          -4.699999999999999,
          4.699999999999999,
          -0.94,
          3.76,
          0.94,
          2.82,
          0.94,
          -0.94,
          0.94,
          6.58,
          -4.699999999999999,
          -0.94,
          3.76,
          4.699999999999999,
          -5.64,
          -4.699999999999999,
          -6.58,
          4.699999999999999,
          2.82,
          0.94,
          2.82,
          5.64,
          2.82,
          -1.88,
          3.76,
          -3.76,
          -5.64,
          1.88,
          2.82,
          2.82,
          3.76,
          3.76,
          -1.88,
          1.88,
          -2.82,
          -1.88,
          -1.88,
          -3.76,
          2.82,
          3.76,
          2.82,
          4.699999999999999,
          2.82,
          3.76,
          0.94,
          0.94,
          1.88,
          -0.94,
          0.94,
          1.88,
          1.88,
          4.699999999999999,
          -2.82,
          -6.58,
          -2.82,
          1.88,
          4.699999999999999,
          -7.52,
          0,
          1.88,
          -3.76,
          5.64,
          -1.88,
          -3.76,
          5.64,
          -7.52,
          4.699999999999999,
          2.82,
          1.88,
          0,
          1.88,
          2.82,
          -4.699999999999999,
          -0.94,
          0,
          1.88,
          0.94,
          -1.88,
          3.76,
          1.88,
          -3.76,
          -1.88,
          -1.88,
          -2.82,
          -4.699999999999999,
          0.94,
          1.88,
          -6.579999999999998,
          -5.64,
          2.82,
          6.58,
          0,
          4.699999999999999,
          -5.64,
          3.76,
          -0.94,
          -5.64,
          -4.699999999999999,
          -3.76,
          -1.88
         ]
        }
       ],
       "layout": {
        "template": {
         "data": {
          "bar": [
           {
            "error_x": {
             "color": "#2a3f5f"
            },
            "error_y": {
             "color": "#2a3f5f"
            },
            "marker": {
             "line": {
              "color": "#E5ECF6",
              "width": 0.5
             },
             "pattern": {
              "fillmode": "overlay",
              "size": 10,
              "solidity": 0.2
             }
            },
            "type": "bar"
           }
          ],
          "barpolar": [
           {
            "marker": {
             "line": {
              "color": "#E5ECF6",
              "width": 0.5
             },
             "pattern": {
              "fillmode": "overlay",
              "size": 10,
              "solidity": 0.2
             }
            },
            "type": "barpolar"
           }
          ],
          "carpet": [
           {
            "aaxis": {
             "endlinecolor": "#2a3f5f",
             "gridcolor": "white",
             "linecolor": "white",
             "minorgridcolor": "white",
             "startlinecolor": "#2a3f5f"
            },
            "baxis": {
             "endlinecolor": "#2a3f5f",
             "gridcolor": "white",
             "linecolor": "white",
             "minorgridcolor": "white",
             "startlinecolor": "#2a3f5f"
            },
            "type": "carpet"
           }
          ],
          "choropleth": [
           {
            "colorbar": {
             "outlinewidth": 0,
             "ticks": ""
            },
            "type": "choropleth"
           }
          ],
          "contour": [
           {
            "colorbar": {
             "outlinewidth": 0,
             "ticks": ""
            },
            "colorscale": [
             [
              0,
              "#0d0887"
             ],
             [
              0.1111111111111111,
              "#46039f"
             ],
             [
              0.2222222222222222,
              "#7201a8"
             ],
             [
              0.3333333333333333,
              "#9c179e"
             ],
             [
              0.4444444444444444,
              "#bd3786"
             ],
             [
              0.5555555555555556,
              "#d8576b"
             ],
             [
              0.6666666666666666,
              "#ed7953"
             ],
             [
              0.7777777777777778,
              "#fb9f3a"
             ],
             [
              0.8888888888888888,
              "#fdca26"
             ],
             [
              1,
              "#f0f921"
             ]
            ],
            "type": "contour"
           }
          ],
          "contourcarpet": [
           {
            "colorbar": {
             "outlinewidth": 0,
             "ticks": ""
            },
            "type": "contourcarpet"
           }
          ],
          "heatmap": [
           {
            "colorbar": {
             "outlinewidth": 0,
             "ticks": ""
            },
            "colorscale": [
             [
              0,
              "#0d0887"
             ],
             [
              0.1111111111111111,
              "#46039f"
             ],
             [
              0.2222222222222222,
              "#7201a8"
             ],
             [
              0.3333333333333333,
              "#9c179e"
             ],
             [
              0.4444444444444444,
              "#bd3786"
             ],
             [
              0.5555555555555556,
              "#d8576b"
             ],
             [
              0.6666666666666666,
              "#ed7953"
             ],
             [
              0.7777777777777778,
              "#fb9f3a"
             ],
             [
              0.8888888888888888,
              "#fdca26"
             ],
             [
              1,
              "#f0f921"
             ]
            ],
            "type": "heatmap"
           }
          ],
          "heatmapgl": [
           {
            "colorbar": {
             "outlinewidth": 0,
             "ticks": ""
            },
            "colorscale": [
             [
              0,
              "#0d0887"
             ],
             [
              0.1111111111111111,
              "#46039f"
             ],
             [
              0.2222222222222222,
              "#7201a8"
             ],
             [
              0.3333333333333333,
              "#9c179e"
             ],
             [
              0.4444444444444444,
              "#bd3786"
             ],
             [
              0.5555555555555556,
              "#d8576b"
             ],
             [
              0.6666666666666666,
              "#ed7953"
             ],
             [
              0.7777777777777778,
              "#fb9f3a"
             ],
             [
              0.8888888888888888,
              "#fdca26"
             ],
             [
              1,
              "#f0f921"
             ]
            ],
            "type": "heatmapgl"
           }
          ],
          "histogram": [
           {
            "marker": {
             "pattern": {
              "fillmode": "overlay",
              "size": 10,
              "solidity": 0.2
             }
            },
            "type": "histogram"
           }
          ],
          "histogram2d": [
           {
            "colorbar": {
             "outlinewidth": 0,
             "ticks": ""
            },
            "colorscale": [
             [
              0,
              "#0d0887"
             ],
             [
              0.1111111111111111,
              "#46039f"
             ],
             [
              0.2222222222222222,
              "#7201a8"
             ],
             [
              0.3333333333333333,
              "#9c179e"
             ],
             [
              0.4444444444444444,
              "#bd3786"
             ],
             [
              0.5555555555555556,
              "#d8576b"
             ],
             [
              0.6666666666666666,
              "#ed7953"
             ],
             [
              0.7777777777777778,
              "#fb9f3a"
             ],
             [
              0.8888888888888888,
              "#fdca26"
             ],
             [
              1,
              "#f0f921"
             ]
            ],
            "type": "histogram2d"
           }
          ],
          "histogram2dcontour": [
           {
            "colorbar": {
             "outlinewidth": 0,
             "ticks": ""
            },
            "colorscale": [
             [
              0,
              "#0d0887"
             ],
             [
              0.1111111111111111,
              "#46039f"
             ],
             [
              0.2222222222222222,
              "#7201a8"
             ],
             [
              0.3333333333333333,
              "#9c179e"
             ],
             [
              0.4444444444444444,
              "#bd3786"
             ],
             [
              0.5555555555555556,
              "#d8576b"
             ],
             [
              0.6666666666666666,
              "#ed7953"
             ],
             [
              0.7777777777777778,
              "#fb9f3a"
             ],
             [
              0.8888888888888888,
              "#fdca26"
             ],
             [
              1,
              "#f0f921"
             ]
            ],
            "type": "histogram2dcontour"
           }
          ],
          "mesh3d": [
           {
            "colorbar": {
             "outlinewidth": 0,
             "ticks": ""
            },
            "type": "mesh3d"
           }
          ],
          "parcoords": [
           {
            "line": {
             "colorbar": {
              "outlinewidth": 0,
              "ticks": ""
             }
            },
            "type": "parcoords"
           }
          ],
          "pie": [
           {
            "automargin": true,
            "type": "pie"
           }
          ],
          "scatter": [
           {
            "fillpattern": {
             "fillmode": "overlay",
             "size": 10,
             "solidity": 0.2
            },
            "type": "scatter"
           }
          ],
          "scatter3d": [
           {
            "line": {
             "colorbar": {
              "outlinewidth": 0,
              "ticks": ""
             }
            },
            "marker": {
             "colorbar": {
              "outlinewidth": 0,
              "ticks": ""
             }
            },
            "type": "scatter3d"
           }
          ],
          "scattercarpet": [
           {
            "marker": {
             "colorbar": {
              "outlinewidth": 0,
              "ticks": ""
             }
            },
            "type": "scattercarpet"
           }
          ],
          "scattergeo": [
           {
            "marker": {
             "colorbar": {
              "outlinewidth": 0,
              "ticks": ""
             }
            },
            "type": "scattergeo"
           }
          ],
          "scattergl": [
           {
            "marker": {
             "colorbar": {
              "outlinewidth": 0,
              "ticks": ""
             }
            },
            "type": "scattergl"
           }
          ],
          "scattermapbox": [
           {
            "marker": {
             "colorbar": {
              "outlinewidth": 0,
              "ticks": ""
             }
            },
            "type": "scattermapbox"
           }
          ],
          "scatterpolar": [
           {
            "marker": {
             "colorbar": {
              "outlinewidth": 0,
              "ticks": ""
             }
            },
            "type": "scatterpolar"
           }
          ],
          "scatterpolargl": [
           {
            "marker": {
             "colorbar": {
              "outlinewidth": 0,
              "ticks": ""
             }
            },
            "type": "scatterpolargl"
           }
          ],
          "scatterternary": [
           {
            "marker": {
             "colorbar": {
              "outlinewidth": 0,
              "ticks": ""
             }
            },
            "type": "scatterternary"
           }
          ],
          "surface": [
           {
            "colorbar": {
             "outlinewidth": 0,
             "ticks": ""
            },
            "colorscale": [
             [
              0,
              "#0d0887"
             ],
             [
              0.1111111111111111,
              "#46039f"
             ],
             [
              0.2222222222222222,
              "#7201a8"
             ],
             [
              0.3333333333333333,
              "#9c179e"
             ],
             [
              0.4444444444444444,
              "#bd3786"
             ],
             [
              0.5555555555555556,
              "#d8576b"
             ],
             [
              0.6666666666666666,
              "#ed7953"
             ],
             [
              0.7777777777777778,
              "#fb9f3a"
             ],
             [
              0.8888888888888888,
              "#fdca26"
             ],
             [
              1,
              "#f0f921"
             ]
            ],
            "type": "surface"
           }
          ],
          "table": [
           {
            "cells": {
             "fill": {
              "color": "#EBF0F8"
             },
             "line": {
              "color": "white"
             }
            },
            "header": {
             "fill": {
              "color": "#C8D4E3"
             },
             "line": {
              "color": "white"
             }
            },
            "type": "table"
           }
          ]
         },
         "layout": {
          "annotationdefaults": {
           "arrowcolor": "#2a3f5f",
           "arrowhead": 0,
           "arrowwidth": 1
          },
          "autotypenumbers": "strict",
          "coloraxis": {
           "colorbar": {
            "outlinewidth": 0,
            "ticks": ""
           }
          },
          "colorscale": {
           "diverging": [
            [
             0,
             "#8e0152"
            ],
            [
             0.1,
             "#c51b7d"
            ],
            [
             0.2,
             "#de77ae"
            ],
            [
             0.3,
             "#f1b6da"
            ],
            [
             0.4,
             "#fde0ef"
            ],
            [
             0.5,
             "#f7f7f7"
            ],
            [
             0.6,
             "#e6f5d0"
            ],
            [
             0.7,
             "#b8e186"
            ],
            [
             0.8,
             "#7fbc41"
            ],
            [
             0.9,
             "#4d9221"
            ],
            [
             1,
             "#276419"
            ]
           ],
           "sequential": [
            [
             0,
             "#0d0887"
            ],
            [
             0.1111111111111111,
             "#46039f"
            ],
            [
             0.2222222222222222,
             "#7201a8"
            ],
            [
             0.3333333333333333,
             "#9c179e"
            ],
            [
             0.4444444444444444,
             "#bd3786"
            ],
            [
             0.5555555555555556,
             "#d8576b"
            ],
            [
             0.6666666666666666,
             "#ed7953"
            ],
            [
             0.7777777777777778,
             "#fb9f3a"
            ],
            [
             0.8888888888888888,
             "#fdca26"
            ],
            [
             1,
             "#f0f921"
            ]
           ],
           "sequentialminus": [
            [
             0,
             "#0d0887"
            ],
            [
             0.1111111111111111,
             "#46039f"
            ],
            [
             0.2222222222222222,
             "#7201a8"
            ],
            [
             0.3333333333333333,
             "#9c179e"
            ],
            [
             0.4444444444444444,
             "#bd3786"
            ],
            [
             0.5555555555555556,
             "#d8576b"
            ],
            [
             0.6666666666666666,
             "#ed7953"
            ],
            [
             0.7777777777777778,
             "#fb9f3a"
            ],
            [
             0.8888888888888888,
             "#fdca26"
            ],
            [
             1,
             "#f0f921"
            ]
           ]
          },
          "colorway": [
           "#636efa",
           "#EF553B",
           "#00cc96",
           "#ab63fa",
           "#FFA15A",
           "#19d3f3",
           "#FF6692",
           "#B6E880",
           "#FF97FF",
           "#FECB52"
          ],
          "font": {
           "color": "#2a3f5f"
          },
          "geo": {
           "bgcolor": "white",
           "lakecolor": "white",
           "landcolor": "#E5ECF6",
           "showlakes": true,
           "showland": true,
           "subunitcolor": "white"
          },
          "hoverlabel": {
           "align": "left"
          },
          "hovermode": "closest",
          "mapbox": {
           "style": "light"
          },
          "paper_bgcolor": "white",
          "plot_bgcolor": "#E5ECF6",
          "polar": {
           "angularaxis": {
            "gridcolor": "white",
            "linecolor": "white",
            "ticks": ""
           },
           "bgcolor": "#E5ECF6",
           "radialaxis": {
            "gridcolor": "white",
            "linecolor": "white",
            "ticks": ""
           }
          },
          "scene": {
           "xaxis": {
            "backgroundcolor": "#E5ECF6",
            "gridcolor": "white",
            "gridwidth": 2,
            "linecolor": "white",
            "showbackground": true,
            "ticks": "",
            "zerolinecolor": "white"
           },
           "yaxis": {
            "backgroundcolor": "#E5ECF6",
            "gridcolor": "white",
            "gridwidth": 2,
            "linecolor": "white",
            "showbackground": true,
            "ticks": "",
            "zerolinecolor": "white"
           },
           "zaxis": {
            "backgroundcolor": "#E5ECF6",
            "gridcolor": "white",
            "gridwidth": 2,
            "linecolor": "white",
            "showbackground": true,
            "ticks": "",
            "zerolinecolor": "white"
           }
          },
          "shapedefaults": {
           "line": {
            "color": "#2a3f5f"
           }
          },
          "ternary": {
           "aaxis": {
            "gridcolor": "white",
            "linecolor": "white",
            "ticks": ""
           },
           "baxis": {
            "gridcolor": "white",
            "linecolor": "white",
            "ticks": ""
           },
           "bgcolor": "#E5ECF6",
           "caxis": {
            "gridcolor": "white",
            "linecolor": "white",
            "ticks": ""
           }
          },
          "title": {
           "x": 0.05
          },
          "xaxis": {
           "automargin": true,
           "gridcolor": "white",
           "linecolor": "white",
           "ticks": "",
           "title": {
            "standoff": 15
           },
           "zerolinecolor": "white",
           "zerolinewidth": 2
          },
          "yaxis": {
           "automargin": true,
           "gridcolor": "white",
           "linecolor": "white",
           "ticks": "",
           "title": {
            "standoff": 15
           },
           "zerolinecolor": "white",
           "zerolinewidth": 2
          }
         }
        }
       }
      },
      "text/html": [
       "<div>                            <div id=\"2ddaeebb-5399-46bc-8f58-df67ac25b4dc\" class=\"plotly-graph-div\" style=\"height:525px; width:100%;\"></div>            <script type=\"text/javascript\">                require([\"plotly\"], function(Plotly) {                    window.PLOTLYENV=window.PLOTLYENV || {};                                    if (document.getElementById(\"2ddaeebb-5399-46bc-8f58-df67ac25b4dc\")) {                    Plotly.newPlot(                        \"2ddaeebb-5399-46bc-8f58-df67ac25b4dc\",                        [{\"mode\":\"markers\",\"x\":[0.0,-1.73,-1.73,-3.46,-1.73,0.0,3.4600000000000004,-10.379999999999999,-8.65,-8.649999999999999,-6.92,-3.4599999999999995,0.0,-6.92,-12.11,-10.379999999999999,-15.569999999999997,-6.919999999999998,3.46,-8.649999999999999,1.73,4.440892098500626e-16,-12.11,-12.11,-12.109999999999998,-15.57,-3.46,5.1899999999999995,1.73,-10.379999999999999,-10.38,4.440892098500626e-16,-10.38,-8.65,3.46,3.46,1.73,3.46,-10.379999999999999,-10.379999999999999,-1.73,-3.4599999999999995,-6.92,6.92,-1.73,-10.379999999999999,0.0,6.92,-12.11,0.0,3.46,-5.1899999999999995,-10.379999999999999,-3.459999999999999,0.0,3.4600000000000004,-3.4599999999999995,-3.4599999999999995,8.649999999999999,1.73,-8.649999999999999,-8.649999999999999,-1.73,-12.11,-1.73,-8.649999999999999,-10.379999999999999,-8.649999999999999,5.1899999999999995,-8.649999999999999,-17.299999999999997,-8.65,-12.11,3.4600000000000004,3.4600000000000004,1.73,-13.839999999999998,-15.57,1.73,-8.65,-3.4599999999999995,-1.7300000000000004,-4.440892098500626e-16,-8.649999999999999,-5.1899999999999995,1.73,-3.4599999999999995,5.1899999999999995,-8.65,-6.92,-1.73,-5.1899999999999995,-6.92,-15.569999999999997,-8.649999999999999,0.0,-12.11,-6.92,-15.57,-1.73,-6.92,-17.3,0.0,-12.11,-10.38,-13.84,-3.4599999999999995,-6.919999999999999,5.1899999999999995,-13.84,-1.73,-13.84,-15.57,-3.4599999999999995,-6.919999999999998,-1.73,-6.92,6.92,-10.379999999999999,-10.379999999999999,-15.57,0.0,-5.1899999999999995,1.7299999999999995,1.73,-1.7299999999999995,-1.7299999999999995,-10.379999999999999,0.0,-6.92,-6.92,-5.1899999999999995,-5.1899999999999995,-4.440892098500626e-16,-3.4599999999999995,-10.38,-8.65,-10.379999999999999,0.0,-17.299999999999997,3.46,-3.4599999999999995,-6.919999999999998,-4.440892098500626e-16,-3.4599999999999995,5.1899999999999995,-5.1899999999999995,5.1899999999999995,-10.379999999999999,-5.1899999999999995,0.0,-8.649999999999999,-1.73,-10.38,-12.109999999999998,-6.92,-5.1899999999999995,-6.920000000000002,-8.65,-12.11,-6.92,-13.84,-13.839999999999998,8.65,-12.109999999999998,8.65,1.73,-1.7299999999999995,1.73,-6.92,-10.379999999999999,1.7299999999999986,1.7300000000000004,-1.73,-3.4599999999999995,-8.649999999999999,-13.84,-10.379999999999999,-17.3,-6.92,5.1899999999999995,-3.46,-1.73,3.46,-13.839999999999998,-3.460000000000001,-5.1899999999999995,-13.839999999999998,-17.3,-1.729999999999999,-12.11,-6.92,-5.1899999999999995,-10.379999999999999,6.92,-13.839999999999998,-5.1899999999999995,-5.1899999999999995,-13.839999999999998,-5.190000000000001,-6.92,-1.73,3.46,-13.84,-3.4599999999999995,0.0,-15.57,1.73,-1.73,-12.109999999999998,-1.73,-5.1899999999999995,-1.7299999999999986,-1.729999999999999,-8.649999999999999,-3.4599999999999995,-6.919999999999998,5.1899999999999995,-12.11,-12.11,-10.379999999999999,-15.57,-15.57,6.919999999999999,-15.569999999999999,-15.569999999999999,-12.11,-1.7299999999999986,-19.029999999999998,-1.73,10.379999999999999,-10.379999999999999,1.73,5.1899999999999995,-1.73,-12.11,-8.65,-8.649999999999999,-5.1899999999999995,-10.379999999999999,-3.4599999999999995,-1.729999999999999,-8.649999999999999,-3.46,-12.11,-8.649999999999999,-12.11,1.73,-6.92,6.92,-6.92,3.4600000000000004,-10.379999999999999,-8.649999999999999,-6.919999999999998,8.65,-1.73,-5.1899999999999995,6.92,0.0,1.73,-8.65,-5.19,1.7300000000000004,-3.459999999999999,0.0,-15.569999999999997,3.4599999999999986,5.1899999999999995,-3.46,5.1899999999999995,-17.299999999999997,-5.1899999999999995,-12.11,-15.57,0.0,-10.379999999999999,6.919999999999999,0.0,-5.1899999999999995,0.0,-13.84,-3.459999999999999,-13.839999999999998,-1.73,-8.65,6.919999999999999,1.73,-5.1899999999999995,3.4599999999999995,-13.84,6.919999999999999,-1.73,-8.649999999999999,-13.84,-6.919999999999998,-5.19,-6.92,5.1899999999999995,5.1899999999999995],\"y\":[0.0,0.9988159656980526,0.9988159656980526,0.0,2.9964478970941575,-5.992895794188315,-7.99052772558442,-5.992895794188315,-2.9964478970941575,-4.994079828490262,-1.9976319313961048,-1.9976319313961048,-5.992895794188315,-1.9976319313961048,6.991711759886368,-7.99052772558442,6.991711759886368,-7.99052772558442,-5.992895794188315,-8.989343691282473,6.991711759886368,-7.99052772558442,-8.989343691282473,2.9964478970941575,12.984607554074682,-2.9964478970941575,0.0,2.9964478970941575,-2.9964478970941575,-1.9976319313961048,11.98579158837663,-7.99052772558442,9.988159656980525,8.989343691282473,3.99526386279221,3.99526386279221,-4.994079828490262,-1.9976319313961048,-7.99052772558442,5.992895794188315,2.9964478970941575,9.988159656980525,9.988159656980525,-1.9976319313961048,0.9988159656980526,-5.992895794188315,0.0,3.99526386279221,-8.989343691282473,3.99526386279221,-5.992895794188315,-8.989343691282473,0.0,11.98579158837663,-11.98579158837663,-7.99052772558442,3.99526386279221,9.988159656980525,-2.9964478970941575,0.9988159656980526,-8.989343691282473,-8.989343691282473,0.9988159656980526,-10.986975622678578,2.9964478970941575,-10.986975622678578,5.992895794188315,0.9988159656980526,-8.989343691282473,-8.989343691282473,5.992895794188315,-2.9964478970941575,0.9988159656980526,-7.99052772558442,-7.99052772558442,-2.9964478970941575,-7.99052772558442,-4.994079828490262,2.9964478970941575,-2.9964478970941575,15.981055451168839,8.989343691282473,9.988159656980525,-4.994079828490262,-2.9964478970941575,-2.9964478970941575,-1.9976319313961048,-8.989343691282473,14.982239485470787,15.981055451168839,-10.986975622678578,12.984607554074682,-1.9976319313961048,6.991711759886368,-10.986975622678578,-1.9976319313961048,-8.989343691282473,-11.98579158837663,-2.9964478970941575,-2.9964478970941575,11.98579158837663,-1.9976319313961048,5.992895794188315,-10.986975622678578,9.988159656980525,5.992895794188315,-7.99052772558442,5.992895794188315,-10.986975622678578,0.0,0.9988159656980526,0.0,-2.9964478970941575,-7.99052772558442,-7.99052772558442,2.9964478970941575,9.988159656980525,0.0,-5.992895794188315,0.0,-4.994079828490262,-1.9976319313961048,8.989343691282473,8.989343691282473,-4.994079828490262,-8.989343691282473,-8.989343691282473,0.0,11.98579158837663,11.98579158837663,-11.98579158837663,6.991711759886368,0.9988159656980526,-13.983423519772735,-7.99052772558442,11.98579158837663,12.984607554074682,-11.98579158837663,3.99526386279221,5.992895794188315,5.992895794188315,-7.99052772558442,3.99526386279221,9.988159656980525,9.988159656980525,0.9988159656980526,2.9964478970941575,-4.994079828490262,-11.98579158837663,-2.9964478970941575,3.99526386279221,0.9988159656980526,0.9988159656980526,9.988159656980525,12.984607554074682,-1.9976319313961048,-10.986975622678578,17.978687382564946,14.982239485470787,0.9988159656980526,-1.9976319313961048,3.99526386279221,11.98579158837663,0.9988159656980526,12.984607554074682,2.9964478970941575,12.984607554074682,-8.989343691282473,2.9964478970941575,-13.983423519772735,-11.98579158837663,-14.982239485470787,14.982239485470787,6.991711759886368,-7.99052772558442,18.977503348263,3.99526386279221,17.978687382564946,-1.9976319313961048,-13.983423519772735,6.991711759886368,0.0,2.9964478970941575,5.992895794188315,11.98579158837663,17.978687382564946,2.9964478970941575,9.988159656980525,-5.992895794188315,12.984607554074682,-4.994079828490262,-11.98579158837663,2.9964478970941575,0.0,3.99526386279221,9.988159656980525,2.9964478970941575,6.991711759886368,-7.99052772558442,18.977503348263,-1.9976319313961048,-4.994079828490262,3.99526386279221,0.0,9.988159656980525,3.99526386279221,-4.994079828490262,12.984607554074682,-10.986975622678578,12.984607554074682,0.9988159656980526,12.984607554074682,14.982239485470787,12.984607554074682,2.9964478970941575,3.99526386279221,3.99526386279221,0.9988159656980526,18.977503348263,-4.994079828490262,-7.99052772558442,2.9964478970941575,-4.994079828490262,-5.992895794188315,8.989343691282473,-8.989343691282473,-2.9964478970941575,14.982239485470787,6.991711759886368,-10.986975622678578,0.0,0.0,-2.9964478970941575,8.989343691282473,-10.986975622678578,-8.989343691282473,8.989343691282473,2.9964478970941575,-10.986975622678578,17.978687382564946,3.99526386279221,12.984607554074682,18.977503348263,-5.992895794188315,0.9988159656980526,6.991711759886368,2.9964478970941575,6.991711759886368,-13.983423519772735,5.992895794188315,11.98579158837663,-7.99052772558442,-13.983423519772735,0.9988159656980526,-7.99052772558442,2.9964478970941575,-4.994079828490262,2.9964478970941575,0.0,0.0,-2.9964478970941575,8.989343691282473,-14.982239485470787,-8.989343691282473,11.98579158837663,0.0,12.984607554074682,-13.983423519772735,2.9964478970941575,-11.98579158837663,-14.982239485470787,3.99526386279221,-4.994079828490262,-4.994079828490262,2.9964478970941575,-11.98579158837663,3.99526386279221,-5.992895794188315,5.992895794188315,14.982239485470787,5.992895794188315,-5.992895794188315,11.98579158837663,-7.99052772558442,6.991711759886368,12.984607554074682,-5.992895794188315,0.9988159656980526,-8.989343691282473,9.988159656980525,3.99526386279221,-5.992895794188315,-4.994079828490262,2.9964478970941575,17.978687382564946,-7.99052772558442,-14.982239485470787,-13.983423519772735,-2.9964478970941575,-2.9964478970941575],\"z\":[0.0,0.94,0.94,0.0,0.0,-3.76,2.82,-5.64,0.0,-4.699999999999999,-2.82,-4.699999999999999,-3.76,2.82,2.82,0.94,2.82,-2.82,1.88,-1.88,-0.94,-2.82,0.0,3.76,0.94,1.88,-1.88,0.0,-1.88,-4.699999999999999,3.76,-0.94,4.699999999999999,0.0,0.94,-0.94,-0.94,4.699999999999999,-4.699999999999999,3.76,-3.76,-0.94,2.82,4.699999999999999,-4.699999999999999,1.88,-5.64,-0.94,-3.76,-2.82,-1.88,0.0,-3.76,-1.88,1.88,0.94,-4.699999999999999,-2.82,1.88,2.82,-5.64,-3.76,-6.58,-2.82,-7.52,-4.699999999999999,3.76,-2.82,1.88,0.0,1.88,3.76,0.94,4.699999999999999,0.94,1.88,-2.82,0.94,1.88,-1.88,2.82,0.0,0.94,2.82,-5.64,-1.88,-4.699999999999999,3.76,1.88,2.82,4.699999999999999,-2.82,2.82,0.94,0.94,-4.699999999999999,-5.64,0.0,0.0,-3.76,-1.88,0.94,-3.76,-0.94,2.82,1.88,-2.82,-1.88,2.82,0.0,-6.58,1.88,0.0,0.94,0.94,-7.52,-0.94,3.76,-3.76,-5.64,2.82,-2.82,-1.88,-1.88,-4.699999999999999,-3.76,0.0,-3.76,-1.88,-1.88,-5.64,0.94,-2.82,2.82,2.82,0.0,4.699999999999999,-3.76,-6.579999999999998,1.88,1.88,-4.699999999999999,0.94,-0.94,2.82,0.94,0.0,-2.82,0.0,-5.64,-2.82,-4.699999999999999,-4.699999999999999,4.699999999999999,4.699999999999999,-2.82,-4.699999999999999,1.88,1.88,4.699999999999999,-2.82,4.699999999999999,5.64,4.699999999999999,4.699999999999999,3.76,-0.94,-3.76,-1.88,-0.94,-3.76,1.88,-1.88,-0.94,0.94,2.82,0.94,1.88,-0.94,-4.699999999999999,2.82,-7.52,0.0,1.88,3.76,1.88,0.0,4.699999999999999,1.88,4.699999999999999,-4.699999999999999,-1.88,-3.76,3.76,2.82,4.699999999999999,-5.64,4.699999999999999,-4.699999999999999,2.82,-4.699999999999999,4.699999999999999,-0.94,3.76,0.94,2.82,0.94,-0.94,0.94,6.58,-4.699999999999999,-0.94,3.76,4.699999999999999,-5.64,-4.699999999999999,-6.58,4.699999999999999,2.82,0.94,2.82,5.64,2.82,-1.88,3.76,-3.76,-5.64,1.88,2.82,2.82,3.76,3.76,-1.88,1.88,-2.82,-1.88,-1.88,-3.76,2.82,3.76,2.82,4.699999999999999,2.82,3.76,0.94,0.94,1.88,-0.94,0.94,1.88,1.88,4.699999999999999,-2.82,-6.58,-2.82,1.88,4.699999999999999,-7.52,0.0,1.88,-3.76,5.64,-1.88,-3.76,5.64,-7.52,4.699999999999999,2.82,1.88,0.0,1.88,2.82,-4.699999999999999,-0.94,0.0,1.88,0.94,-1.88,3.76,1.88,-3.76,-1.88,-1.88,-2.82,-4.699999999999999,0.94,1.88,-6.579999999999998,-5.64,2.82,6.58,0.0,4.699999999999999,-5.64,3.76,-0.94,-5.64,-4.699999999999999,-3.76,-1.88],\"type\":\"scatter3d\"}],                        {\"template\":{\"data\":{\"histogram2dcontour\":[{\"type\":\"histogram2dcontour\",\"colorbar\":{\"outlinewidth\":0,\"ticks\":\"\"},\"colorscale\":[[0.0,\"#0d0887\"],[0.1111111111111111,\"#46039f\"],[0.2222222222222222,\"#7201a8\"],[0.3333333333333333,\"#9c179e\"],[0.4444444444444444,\"#bd3786\"],[0.5555555555555556,\"#d8576b\"],[0.6666666666666666,\"#ed7953\"],[0.7777777777777778,\"#fb9f3a\"],[0.8888888888888888,\"#fdca26\"],[1.0,\"#f0f921\"]]}],\"choropleth\":[{\"type\":\"choropleth\",\"colorbar\":{\"outlinewidth\":0,\"ticks\":\"\"}}],\"histogram2d\":[{\"type\":\"histogram2d\",\"colorbar\":{\"outlinewidth\":0,\"ticks\":\"\"},\"colorscale\":[[0.0,\"#0d0887\"],[0.1111111111111111,\"#46039f\"],[0.2222222222222222,\"#7201a8\"],[0.3333333333333333,\"#9c179e\"],[0.4444444444444444,\"#bd3786\"],[0.5555555555555556,\"#d8576b\"],[0.6666666666666666,\"#ed7953\"],[0.7777777777777778,\"#fb9f3a\"],[0.8888888888888888,\"#fdca26\"],[1.0,\"#f0f921\"]]}],\"heatmap\":[{\"type\":\"heatmap\",\"colorbar\":{\"outlinewidth\":0,\"ticks\":\"\"},\"colorscale\":[[0.0,\"#0d0887\"],[0.1111111111111111,\"#46039f\"],[0.2222222222222222,\"#7201a8\"],[0.3333333333333333,\"#9c179e\"],[0.4444444444444444,\"#bd3786\"],[0.5555555555555556,\"#d8576b\"],[0.6666666666666666,\"#ed7953\"],[0.7777777777777778,\"#fb9f3a\"],[0.8888888888888888,\"#fdca26\"],[1.0,\"#f0f921\"]]}],\"heatmapgl\":[{\"type\":\"heatmapgl\",\"colorbar\":{\"outlinewidth\":0,\"ticks\":\"\"},\"colorscale\":[[0.0,\"#0d0887\"],[0.1111111111111111,\"#46039f\"],[0.2222222222222222,\"#7201a8\"],[0.3333333333333333,\"#9c179e\"],[0.4444444444444444,\"#bd3786\"],[0.5555555555555556,\"#d8576b\"],[0.6666666666666666,\"#ed7953\"],[0.7777777777777778,\"#fb9f3a\"],[0.8888888888888888,\"#fdca26\"],[1.0,\"#f0f921\"]]}],\"contourcarpet\":[{\"type\":\"contourcarpet\",\"colorbar\":{\"outlinewidth\":0,\"ticks\":\"\"}}],\"contour\":[{\"type\":\"contour\",\"colorbar\":{\"outlinewidth\":0,\"ticks\":\"\"},\"colorscale\":[[0.0,\"#0d0887\"],[0.1111111111111111,\"#46039f\"],[0.2222222222222222,\"#7201a8\"],[0.3333333333333333,\"#9c179e\"],[0.4444444444444444,\"#bd3786\"],[0.5555555555555556,\"#d8576b\"],[0.6666666666666666,\"#ed7953\"],[0.7777777777777778,\"#fb9f3a\"],[0.8888888888888888,\"#fdca26\"],[1.0,\"#f0f921\"]]}],\"surface\":[{\"type\":\"surface\",\"colorbar\":{\"outlinewidth\":0,\"ticks\":\"\"},\"colorscale\":[[0.0,\"#0d0887\"],[0.1111111111111111,\"#46039f\"],[0.2222222222222222,\"#7201a8\"],[0.3333333333333333,\"#9c179e\"],[0.4444444444444444,\"#bd3786\"],[0.5555555555555556,\"#d8576b\"],[0.6666666666666666,\"#ed7953\"],[0.7777777777777778,\"#fb9f3a\"],[0.8888888888888888,\"#fdca26\"],[1.0,\"#f0f921\"]]}],\"mesh3d\":[{\"type\":\"mesh3d\",\"colorbar\":{\"outlinewidth\":0,\"ticks\":\"\"}}],\"scatter\":[{\"fillpattern\":{\"fillmode\":\"overlay\",\"size\":10,\"solidity\":0.2},\"type\":\"scatter\"}],\"parcoords\":[{\"type\":\"parcoords\",\"line\":{\"colorbar\":{\"outlinewidth\":0,\"ticks\":\"\"}}}],\"scatterpolargl\":[{\"type\":\"scatterpolargl\",\"marker\":{\"colorbar\":{\"outlinewidth\":0,\"ticks\":\"\"}}}],\"bar\":[{\"error_x\":{\"color\":\"#2a3f5f\"},\"error_y\":{\"color\":\"#2a3f5f\"},\"marker\":{\"line\":{\"color\":\"#E5ECF6\",\"width\":0.5},\"pattern\":{\"fillmode\":\"overlay\",\"size\":10,\"solidity\":0.2}},\"type\":\"bar\"}],\"scattergeo\":[{\"type\":\"scattergeo\",\"marker\":{\"colorbar\":{\"outlinewidth\":0,\"ticks\":\"\"}}}],\"scatterpolar\":[{\"type\":\"scatterpolar\",\"marker\":{\"colorbar\":{\"outlinewidth\":0,\"ticks\":\"\"}}}],\"histogram\":[{\"marker\":{\"pattern\":{\"fillmode\":\"overlay\",\"size\":10,\"solidity\":0.2}},\"type\":\"histogram\"}],\"scattergl\":[{\"type\":\"scattergl\",\"marker\":{\"colorbar\":{\"outlinewidth\":0,\"ticks\":\"\"}}}],\"scatter3d\":[{\"type\":\"scatter3d\",\"line\":{\"colorbar\":{\"outlinewidth\":0,\"ticks\":\"\"}},\"marker\":{\"colorbar\":{\"outlinewidth\":0,\"ticks\":\"\"}}}],\"scattermapbox\":[{\"type\":\"scattermapbox\",\"marker\":{\"colorbar\":{\"outlinewidth\":0,\"ticks\":\"\"}}}],\"scatterternary\":[{\"type\":\"scatterternary\",\"marker\":{\"colorbar\":{\"outlinewidth\":0,\"ticks\":\"\"}}}],\"scattercarpet\":[{\"type\":\"scattercarpet\",\"marker\":{\"colorbar\":{\"outlinewidth\":0,\"ticks\":\"\"}}}],\"carpet\":[{\"aaxis\":{\"endlinecolor\":\"#2a3f5f\",\"gridcolor\":\"white\",\"linecolor\":\"white\",\"minorgridcolor\":\"white\",\"startlinecolor\":\"#2a3f5f\"},\"baxis\":{\"endlinecolor\":\"#2a3f5f\",\"gridcolor\":\"white\",\"linecolor\":\"white\",\"minorgridcolor\":\"white\",\"startlinecolor\":\"#2a3f5f\"},\"type\":\"carpet\"}],\"table\":[{\"cells\":{\"fill\":{\"color\":\"#EBF0F8\"},\"line\":{\"color\":\"white\"}},\"header\":{\"fill\":{\"color\":\"#C8D4E3\"},\"line\":{\"color\":\"white\"}},\"type\":\"table\"}],\"barpolar\":[{\"marker\":{\"line\":{\"color\":\"#E5ECF6\",\"width\":0.5},\"pattern\":{\"fillmode\":\"overlay\",\"size\":10,\"solidity\":0.2}},\"type\":\"barpolar\"}],\"pie\":[{\"automargin\":true,\"type\":\"pie\"}]},\"layout\":{\"autotypenumbers\":\"strict\",\"colorway\":[\"#636efa\",\"#EF553B\",\"#00cc96\",\"#ab63fa\",\"#FFA15A\",\"#19d3f3\",\"#FF6692\",\"#B6E880\",\"#FF97FF\",\"#FECB52\"],\"font\":{\"color\":\"#2a3f5f\"},\"hovermode\":\"closest\",\"hoverlabel\":{\"align\":\"left\"},\"paper_bgcolor\":\"white\",\"plot_bgcolor\":\"#E5ECF6\",\"polar\":{\"bgcolor\":\"#E5ECF6\",\"angularaxis\":{\"gridcolor\":\"white\",\"linecolor\":\"white\",\"ticks\":\"\"},\"radialaxis\":{\"gridcolor\":\"white\",\"linecolor\":\"white\",\"ticks\":\"\"}},\"ternary\":{\"bgcolor\":\"#E5ECF6\",\"aaxis\":{\"gridcolor\":\"white\",\"linecolor\":\"white\",\"ticks\":\"\"},\"baxis\":{\"gridcolor\":\"white\",\"linecolor\":\"white\",\"ticks\":\"\"},\"caxis\":{\"gridcolor\":\"white\",\"linecolor\":\"white\",\"ticks\":\"\"}},\"coloraxis\":{\"colorbar\":{\"outlinewidth\":0,\"ticks\":\"\"}},\"colorscale\":{\"sequential\":[[0.0,\"#0d0887\"],[0.1111111111111111,\"#46039f\"],[0.2222222222222222,\"#7201a8\"],[0.3333333333333333,\"#9c179e\"],[0.4444444444444444,\"#bd3786\"],[0.5555555555555556,\"#d8576b\"],[0.6666666666666666,\"#ed7953\"],[0.7777777777777778,\"#fb9f3a\"],[0.8888888888888888,\"#fdca26\"],[1.0,\"#f0f921\"]],\"sequentialminus\":[[0.0,\"#0d0887\"],[0.1111111111111111,\"#46039f\"],[0.2222222222222222,\"#7201a8\"],[0.3333333333333333,\"#9c179e\"],[0.4444444444444444,\"#bd3786\"],[0.5555555555555556,\"#d8576b\"],[0.6666666666666666,\"#ed7953\"],[0.7777777777777778,\"#fb9f3a\"],[0.8888888888888888,\"#fdca26\"],[1.0,\"#f0f921\"]],\"diverging\":[[0,\"#8e0152\"],[0.1,\"#c51b7d\"],[0.2,\"#de77ae\"],[0.3,\"#f1b6da\"],[0.4,\"#fde0ef\"],[0.5,\"#f7f7f7\"],[0.6,\"#e6f5d0\"],[0.7,\"#b8e186\"],[0.8,\"#7fbc41\"],[0.9,\"#4d9221\"],[1,\"#276419\"]]},\"xaxis\":{\"gridcolor\":\"white\",\"linecolor\":\"white\",\"ticks\":\"\",\"title\":{\"standoff\":15},\"zerolinecolor\":\"white\",\"automargin\":true,\"zerolinewidth\":2},\"yaxis\":{\"gridcolor\":\"white\",\"linecolor\":\"white\",\"ticks\":\"\",\"title\":{\"standoff\":15},\"zerolinecolor\":\"white\",\"automargin\":true,\"zerolinewidth\":2},\"scene\":{\"xaxis\":{\"backgroundcolor\":\"#E5ECF6\",\"gridcolor\":\"white\",\"linecolor\":\"white\",\"showbackground\":true,\"ticks\":\"\",\"zerolinecolor\":\"white\",\"gridwidth\":2},\"yaxis\":{\"backgroundcolor\":\"#E5ECF6\",\"gridcolor\":\"white\",\"linecolor\":\"white\",\"showbackground\":true,\"ticks\":\"\",\"zerolinecolor\":\"white\",\"gridwidth\":2},\"zaxis\":{\"backgroundcolor\":\"#E5ECF6\",\"gridcolor\":\"white\",\"linecolor\":\"white\",\"showbackground\":true,\"ticks\":\"\",\"zerolinecolor\":\"white\",\"gridwidth\":2}},\"shapedefaults\":{\"line\":{\"color\":\"#2a3f5f\"}},\"annotationdefaults\":{\"arrowcolor\":\"#2a3f5f\",\"arrowhead\":0,\"arrowwidth\":1},\"geo\":{\"bgcolor\":\"white\",\"landcolor\":\"#E5ECF6\",\"subunitcolor\":\"white\",\"showland\":true,\"showlakes\":true,\"lakecolor\":\"white\"},\"title\":{\"x\":0.05},\"mapbox\":{\"style\":\"light\"}}}},                        {\"responsive\": true}                    ).then(function(){\n",
       "                            \n",
       "var gd = document.getElementById('2ddaeebb-5399-46bc-8f58-df67ac25b4dc');\n",
       "var x = new MutationObserver(function (mutations, observer) {{\n",
       "        var display = window.getComputedStyle(gd).display;\n",
       "        if (!display || display === 'none') {{\n",
       "            console.log([gd, 'removed!']);\n",
       "            Plotly.purge(gd);\n",
       "            observer.disconnect();\n",
       "        }}\n",
       "}});\n",
       "\n",
       "// Listen for the removal of the full notebook cells\n",
       "var notebookContainer = gd.closest('#notebook-container');\n",
       "if (notebookContainer) {{\n",
       "    x.observe(notebookContainer, {childList: true});\n",
       "}}\n",
       "\n",
       "// Listen for the clearing of the current output cell\n",
       "var outputEl = gd.closest('.output');\n",
       "if (outputEl) {{\n",
       "    x.observe(outputEl, {childList: true});\n",
       "}}\n",
       "\n",
       "                        })                };                });            </script>        </div>"
      ]
     },
     "metadata": {},
     "output_type": "display_data"
    }
   ],
   "source": [
    "import plotly.graph_objects as go\n",
    "import numpy as np\n",
    "\n",
    "# Helix equation\n",
    "\n",
    "x, y, z = position_array[0:300,0],position_array[0:300,1],position_array[0:300,2]\n",
    "\n",
    "fig = go.Figure(data=[go.Scatter3d(x=x, y=y, z=z,\n",
    "                                   mode='markers')])\n",
    "fig.show()"
   ]
  },
  {
   "cell_type": "code",
   "execution_count": 112,
   "id": "5fcee117",
   "metadata": {},
   "outputs": [
    {
     "data": {
      "text/plain": [
       "array([[  0,   0,   0,   1],\n",
       "       [  0,   0,   0,   3],\n",
       "       [  0,   0,   0,   2],\n",
       "       ...,\n",
       "       [ -1,  17,  -7,   3],\n",
       "       [-14,   9,  -4,   4],\n",
       "       [  0,   4,   0,   2]])"
      ]
     },
     "execution_count": 112,
     "metadata": {},
     "output_type": "execute_result"
    }
   ],
   "source": [
    "sim.particle_array"
   ]
  },
  {
   "cell_type": "code",
   "execution_count": 22,
   "id": "8d8bd512",
   "metadata": {},
   "outputs": [
    {
     "data": {
      "text/plain": [
       "(1, 4)"
      ]
     },
     "execution_count": 22,
     "metadata": {},
     "output_type": "execute_result"
    }
   ],
   "source": [
    "neighbor_array.shape"
   ]
  },
  {
   "cell_type": "code",
   "execution_count": 21,
   "id": "14148feb",
   "metadata": {},
   "outputs": [
    {
     "name": "stdout",
     "output_type": "stream",
     "text": [
      "[4 0 0 0]\n"
     ]
    }
   ],
   "source": [
    "for i in neighbor_array:\n",
    "    print(i)"
   ]
  },
  {
   "cell_type": "code",
   "execution_count": 23,
   "id": "967f7ed8",
   "metadata": {},
   "outputs": [
    {
     "data": {
      "text/plain": [
       "array([4, 0, 0, 0])"
      ]
     },
     "execution_count": 23,
     "metadata": {},
     "output_type": "execute_result"
    }
   ],
   "source": [
    "neighbor_array[-1]"
   ]
  },
  {
   "cell_type": "code",
   "execution_count": 26,
   "id": "fe2c7512",
   "metadata": {},
   "outputs": [
    {
     "data": {
      "text/plain": [
       "array([], shape=(0, 1), dtype=int64)"
      ]
     },
     "execution_count": 26,
     "metadata": {},
     "output_type": "execute_result"
    }
   ],
   "source": [
    "np.empty((0, 1), dtype=int)"
   ]
  },
  {
   "cell_type": "code",
   "execution_count": 27,
   "id": "0c6cb842",
   "metadata": {},
   "outputs": [
    {
     "data": {
      "text/plain": [
       "(6,)"
      ]
     },
     "execution_count": 27,
     "metadata": {},
     "output_type": "execute_result"
    }
   ],
   "source": [
    "np.full(\n",
    "  shape=6,\n",
    "  fill_value=1).shape"
   ]
  },
  {
   "cell_type": "code",
   "execution_count": 31,
   "id": "690f74ab",
   "metadata": {},
   "outputs": [],
   "source": [
    "a=np.array([[1],[1],[1],[1],[1],[1]])"
   ]
  },
  {
   "cell_type": "code",
   "execution_count": 51,
   "id": "3cc3b8ec",
   "metadata": {},
   "outputs": [
    {
     "data": {
      "text/plain": [
       "array([[1],\n",
       "       [1],\n",
       "       [1],\n",
       "       [1],\n",
       "       [1],\n",
       "       [1],\n",
       "       [1]])"
      ]
     },
     "execution_count": 51,
     "metadata": {},
     "output_type": "execute_result"
    }
   ],
   "source": [
    "np.vstack((a,np.array([1])))"
   ]
  },
  {
   "cell_type": "code",
   "execution_count": 48,
   "id": "5be40873",
   "metadata": {},
   "outputs": [
    {
     "data": {
      "text/plain": [
       "array([[1],\n",
       "       [1],\n",
       "       [1],\n",
       "       [1],\n",
       "       [1],\n",
       "       [1]])"
      ]
     },
     "execution_count": 48,
     "metadata": {},
     "output_type": "execute_result"
    }
   ],
   "source": [
    "a"
   ]
  },
  {
   "cell_type": "code",
   "execution_count": null,
   "id": "21b0dfd6",
   "metadata": {},
   "outputs": [],
   "source": []
  }
 ],
 "metadata": {
  "kernelspec": {
   "display_name": "Python 3 (ipykernel)",
   "language": "python",
   "name": "python3"
  },
  "language_info": {
   "codemirror_mode": {
    "name": "ipython",
    "version": 3
   },
   "file_extension": ".py",
   "mimetype": "text/x-python",
   "name": "python",
   "nbconvert_exporter": "python",
   "pygments_lexer": "ipython3",
   "version": "3.11.3"
  }
 },
 "nbformat": 4,
 "nbformat_minor": 5
}
