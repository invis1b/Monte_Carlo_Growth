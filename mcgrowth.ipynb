{
 "cells": [
  {
   "cell_type": "code",
   "execution_count": 1,
   "id": "1ac6683a",
   "metadata": {},
   "outputs": [],
   "source": [
    "import numpy as np"
   ]
  },
  {
   "cell_type": "code",
   "execution_count": 2,
   "id": "31d2b214",
   "metadata": {},
   "outputs": [],
   "source": [
    "a=np.array([0,0,0,1])\n",
    "neighborlista=np.array([[0,0,0,2],[0,0,-1,3],[0,-1,0,2],[0,-1,-1,3],[-1,0,0,2],[-1,0,-1,3]])"
   ]
  },
  {
   "cell_type": "code",
   "execution_count": 3,
   "id": "a2062561",
   "metadata": {},
   "outputs": [
    {
     "data": {
      "text/plain": [
       "array([[ 0,  0,  0,  3],\n",
       "       [ 0,  0, -1,  4],\n",
       "       [ 0, -1,  0,  3],\n",
       "       [ 0, -1, -1,  4],\n",
       "       [-1,  0,  0,  3],\n",
       "       [-1,  0, -1,  4]])"
      ]
     },
     "execution_count": 3,
     "metadata": {},
     "output_type": "execute_result"
    }
   ],
   "source": [
    "np.tile(a,(6,1))+neighborlista"
   ]
  },
  {
   "cell_type": "code",
   "execution_count": 4,
   "id": "bffe9021",
   "metadata": {},
   "outputs": [],
   "source": [
    "neighborlista=np.array([[0,0,0,2],[0,0,-1,3],[0,-1,0,2],[0,-1,-1,3],[-1,0,0,2],[-1,0,-1,3]])\n",
    "neighborlistb=np.array([[0,0,0,1],[0,0,0,2],[0,-1,0,1],[0,-1,0,2],[-1,0,0,1],[-1,0,0,2]])\n",
    "neighborlistc=np.array([[0,0,0,-2],[0,0,0,-1],[0,1,0,-2],[1,0,0,-2],[0,1,0,-1],[1,0,0,-1]])\n",
    "neighborlistd=np.array([[0,0,0,-2],[0,0,1,-3],[0,1,1,-3],[1,0,1,-3],[0,1,0,-2],[1,0,0,-2]])\n",
    "\n",
    "\n",
    "Particle_list=np.array([[0,0,0,1]])\n",
    "def find_neighbor(particle):\n",
    "    if particle[3]==1:\n",
    "        return neighborlista+np.tile(particle,(6,1))\n",
    "    if particle[3]==2:\n",
    "        return neighborlistb+np.tile(particle,(6,1))\n",
    "    if particle[3]==3:\n",
    "        return neighborlistc+np.tile(particle,(6,1))\n",
    "    if particle[3]==4:\n",
    "        return neighborlistd+np.tile(particle,(6,1))\n",
    "b=np.full(\n",
    "  shape=6,\n",
    "  fill_value=1)\n",
    "neighborlist=find_neighbor(Particle_list[0])\n",
    "neighbor_connectionlist=b\n",
    "\n"
   ]
  },
  {
   "cell_type": "code",
   "execution_count": 5,
   "id": "776ef839",
   "metadata": {},
   "outputs": [],
   "source": [
    "def calculate_insert_prob(neighbor_connectionlist):\n",
    "\n",
    "\n",
    "    f = lambda x: 1/4**x\n",
    "    prob= f(neighbor_connectionlist)\n",
    "    return prob/np.sum(prob)"
   ]
  },
  {
   "cell_type": "code",
   "execution_count": 6,
   "id": "23878d79",
   "metadata": {},
   "outputs": [],
   "source": [
    "def insert_particle():\n",
    "    global Particle_list\n",
    "    global neighbor_connectionlist\n",
    "    global neighborlist\n",
    "    index_insert=np.random.choice(neighbor_connectionlist.size, 1, replace=False, p=calculate_insert_prob(neighbor_connectionlist))\n",
    "    Particle_list=np.concatenate((Particle_list,neighborlist[index_insert].reshape(1,4)),axis=0)\n",
    "    return index_insert\n"
   ]
  },
  {
   "cell_type": "code",
   "execution_count": 7,
   "id": "846df3c4",
   "metadata": {},
   "outputs": [],
   "source": [
    "def update_neighborlist(new_particle_index):\n",
    "    global Particle_list\n",
    "    global neighbor_connectionlist\n",
    "    global neighborlist\n",
    "    new_particle=neighborlist[new_particle_index]\n",
    "    neighborlist=np.delete(neighborlist,new_particle_index,axis=0)\n",
    "    neighbor_connectionlist=np.delete(neighbor_connectionlist,new_particle_index)\n",
    "    neighbors=find_neighbor(new_particle)\n",
    "    for i in range(0,6):\n",
    "        if np.where((Particle_list == tuple(neighbors[i].tolist())).all(axis=1))[0].size==1:\n",
    "            continue\n",
    "        if np.where((neighborlist == tuple(neighbors[i].tolist())).all(axis=1))[0].size==1:\n",
    "            neighbor_connectionlist[np.where((neighborlist == tuple(neighbors[i].tolist())).all(axis=1))[0][0]]+=1\n",
    "        else:\n",
    "            neighborlist=np.concatenate((neighborlist,neighbors[i].reshape(1,4)))\n",
    "            neighbor_connectionlist=np.concatenate((neighbor_connectionlist,np.array([1])),axis=0)\n",
    "            "
   ]
  },
  {
   "cell_type": "code",
   "execution_count": null,
   "id": "be48876d",
   "metadata": {},
   "outputs": [],
   "source": [
    "def delete_particle():\n",
    "    "
   ]
  },
  {
   "cell_type": "code",
   "execution_count": 8,
   "id": "df510d97",
   "metadata": {},
   "outputs": [],
   "source": [
    "for i in range(0,1000):\n",
    "    a=insert_particle()\n",
    "    update_neighborlist(a[0])"
   ]
  },
  {
   "cell_type": "code",
   "execution_count": 9,
   "id": "092fc83b",
   "metadata": {},
   "outputs": [],
   "source": [
    "np.savetxt('growth.txt', Particle_list, fmt='%d', delimiter=' ', newline='\\n', header='', footer='', comments='# ', encoding=None)\n"
   ]
  }
 ],
 "metadata": {
  "kernelspec": {
   "display_name": "Python 3 (ipykernel)",
   "language": "python",
   "name": "python3"
  },
  "language_info": {
   "codemirror_mode": {
    "name": "ipython",
    "version": 3
   },
   "file_extension": ".py",
   "mimetype": "text/x-python",
   "name": "python",
   "nbconvert_exporter": "python",
   "pygments_lexer": "ipython3",
   "version": "3.11.3"
  }
 },
 "nbformat": 4,
 "nbformat_minor": 5
}
