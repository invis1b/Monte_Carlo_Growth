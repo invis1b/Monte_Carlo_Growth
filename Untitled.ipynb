{
 "cells": [
  {
   "cell_type": "code",
   "execution_count": 1,
   "id": "1ac6683a",
   "metadata": {},
   "outputs": [],
   "source": [
    "import numpy as np"
   ]
  },
  {
   "cell_type": "code",
   "execution_count": 2,
   "id": "31d2b214",
   "metadata": {},
   "outputs": [],
   "source": [
    "a=np.array([0,0,0,1])\n",
    "neighborlista=np.array([[0,0,0,2],[0,0,-1,3],[0,-1,0,2],[0,-1,-1,3],[-1,0,0,2],[-1,0,-1,3]])"
   ]
  },
  {
   "cell_type": "code",
   "execution_count": 3,
   "id": "a2062561",
   "metadata": {},
   "outputs": [
    {
     "data": {
      "text/plain": [
       "array([[ 0,  0,  0,  3],\n",
       "       [ 0,  0, -1,  4],\n",
       "       [ 0, -1,  0,  3],\n",
       "       [ 0, -1, -1,  4],\n",
       "       [-1,  0,  0,  3],\n",
       "       [-1,  0, -1,  4]])"
      ]
     },
     "execution_count": 3,
     "metadata": {},
     "output_type": "execute_result"
    }
   ],
   "source": [
    "np.tile(a,(6,1))+neighborlista"
   ]
  },
  {
   "cell_type": "code",
   "execution_count": 69,
   "id": "bffe9021",
   "metadata": {},
   "outputs": [],
   "source": [
    "neighborlista=np.array([[0,0,0,2],[0,0,-1,3],[0,-1,0,2],[0,-1,-1,3],[-1,0,0,2],[-1,0,-1,3]])\n",
    "neighborlistb=np.array([[0,0,0,1],[0,0,0,2],[0,-1,0,1],[0,-1,0,2],[-1,0,0,1],[-1,0,0,2]])\n",
    "neighborlistc=np.array([[0,0,0,-2],[0,0,0,-1],[0,1,0,-2],[1,0,0,-2],[0,1,0,-1],[1,0,0,-1]])\n",
    "neighborlistd=np.array([[0,0,0,-2],[0,0,1,-3],[0,1,1,-3],[1,0,1,-3],[0,1,0,-2],[1,0,0,-2]])\n",
    "\n",
    "\n",
    "Particle_list=np.array([[0,0,0,1]])\n",
    "def find_neighbor(particle):\n",
    "    if particle[3]==1:\n",
    "        return neighborlista+np.tile(particle,(6,1))\n",
    "    if particle[3]==2:\n",
    "        return neighborlistb+np.tile(particle,(6,1))\n",
    "    if particle[3]==3:\n",
    "        return neighborlistc+np.tile(particle,(6,1))\n",
    "    if particle[3]==4:\n",
    "        return neighborlistd+np.tile(particle,(6,1))\n",
    "b=np.full(\n",
    "  shape=6,\n",
    "  fill_value=1)\n",
    "neighborlist=find_neighbor(Particle_list[0])\n",
    "neighbor_connectionlist=b\n",
    "\n"
   ]
  },
  {
   "cell_type": "code",
   "execution_count": 70,
   "id": "776ef839",
   "metadata": {},
   "outputs": [],
   "source": [
    "def calculate_insert_prob(neighbor_connectionlist):\n",
    "\n",
    "\n",
    "    f = lambda x: 1/4**x\n",
    "    prob= f(neighbor_connectionlist)\n",
    "    return prob/np.sum(prob)"
   ]
  },
  {
   "cell_type": "code",
   "execution_count": 71,
   "id": "23878d79",
   "metadata": {},
   "outputs": [],
   "source": [
    "def insert_particle():\n",
    "    global Particle_list\n",
    "    global neighbor_connectionlist\n",
    "    global neighborlist\n",
    "    index_insert=np.random.choice(neighbor_connectionlist.size, 1, replace=False, p=calculate_insert_prob(neighbor_connectionlist))\n",
    "    Particle_list=np.concatenate((Particle_list,neighborlist[index_insert].reshape(1,4)),axis=0)\n",
    "    return index_insert\n"
   ]
  },
  {
   "cell_type": "code",
   "execution_count": 72,
   "id": "846df3c4",
   "metadata": {},
   "outputs": [],
   "source": [
    "def update_neighborlist(new_particle_index):\n",
    "    global Particle_list\n",
    "    global neighbor_connectionlist\n",
    "    global neighborlist\n",
    "    new_particle=neighborlist[new_particle_index]\n",
    "    neighborlist=np.delete(neighborlist,new_particle_index,axis=0)\n",
    "    neighbor_connectionlist=np.delete(neighbor_connectionlist,new_particle_index)\n",
    "    neighbors=find_neighbor(new_particle)\n",
    "    for i in range(0,6):\n",
    "        if np.where((Particle_list == tuple(neighbors[1].tolist())).all(axis=1))[0].size==1:\n",
    "            continue\n",
    "        if np.where((Particle_list == tuple(neighbors[1].tolist())).all(axis=1))[0].size==1:\n",
    "            neighbor_connectionlist[np.where((Particle_list == tuple(neighbors[1].tolist())).all(axis=1))[0][0]]+=1\n",
    "        else:\n",
    "            neighborlist=np.concatenate((neighborlist,neighbors[i].reshape(1,4)))\n",
    "            neighbor_connectionlist=np.concatenate((neighbor_connectionlist,np.array([1])),axis=0)\n",
    "            "
   ]
  },
  {
   "cell_type": "code",
   "execution_count": 73,
   "id": "c22f7909",
   "metadata": {},
   "outputs": [
    {
     "data": {
      "text/plain": [
       "array([[0, 0, 0, 1]])"
      ]
     },
     "execution_count": 73,
     "metadata": {},
     "output_type": "execute_result"
    }
   ],
   "source": [
    "Particle_list"
   ]
  },
  {
   "cell_type": "code",
   "execution_count": 74,
   "id": "c0c32b6c",
   "metadata": {},
   "outputs": [
    {
     "data": {
      "text/plain": [
       "array([1, 1, 1, 1, 1, 1])"
      ]
     },
     "execution_count": 74,
     "metadata": {},
     "output_type": "execute_result"
    }
   ],
   "source": [
    "neighbor_connectionlist"
   ]
  },
  {
   "cell_type": "code",
   "execution_count": 75,
   "id": "23343dec",
   "metadata": {},
   "outputs": [
    {
     "data": {
      "text/plain": [
       "(6, 4)"
      ]
     },
     "execution_count": 75,
     "metadata": {},
     "output_type": "execute_result"
    }
   ],
   "source": [
    "neighborlist.shape"
   ]
  },
  {
   "cell_type": "code",
   "execution_count": 76,
   "id": "3521a6dc",
   "metadata": {},
   "outputs": [
    {
     "data": {
      "text/plain": [
       "array([2])"
      ]
     },
     "execution_count": 76,
     "metadata": {},
     "output_type": "execute_result"
    }
   ],
   "source": [
    "insert_particle()"
   ]
  },
  {
   "cell_type": "code",
   "execution_count": 77,
   "id": "92cfecb2",
   "metadata": {},
   "outputs": [],
   "source": [
    "update_neighborlist(2)"
   ]
  },
  {
   "cell_type": "code",
   "execution_count": 78,
   "id": "eef8d64a",
   "metadata": {},
   "outputs": [
    {
     "data": {
      "text/plain": [
       "array([1, 1, 1, 1, 1, 1, 1, 1, 1, 1, 1])"
      ]
     },
     "execution_count": 78,
     "metadata": {},
     "output_type": "execute_result"
    }
   ],
   "source": [
    "neighbor_connectionlist"
   ]
  },
  {
   "cell_type": "code",
   "execution_count": 80,
   "id": "df510d97",
   "metadata": {},
   "outputs": [
    {
     "ename": "IndexError",
     "evalue": "index 3 is out of bounds for axis 0 with size 1",
     "output_type": "error",
     "traceback": [
      "\u001b[0;31m---------------------------------------------------------------------------\u001b[0m",
      "\u001b[0;31mIndexError\u001b[0m                                Traceback (most recent call last)",
      "Cell \u001b[0;32mIn[80], line 3\u001b[0m\n\u001b[1;32m      1\u001b[0m \u001b[38;5;28;01mfor\u001b[39;00m i \u001b[38;5;129;01min\u001b[39;00m \u001b[38;5;28mrange\u001b[39m(\u001b[38;5;241m0\u001b[39m,\u001b[38;5;241m100000\u001b[39m):\n\u001b[1;32m      2\u001b[0m     a\u001b[38;5;241m=\u001b[39minsert_particle()\n\u001b[0;32m----> 3\u001b[0m     \u001b[43mupdate_neighborlist\u001b[49m\u001b[43m(\u001b[49m\u001b[43ma\u001b[49m\u001b[43m)\u001b[49m\n",
      "Cell \u001b[0;32mIn[72], line 8\u001b[0m, in \u001b[0;36mupdate_neighborlist\u001b[0;34m(new_particle_index)\u001b[0m\n\u001b[1;32m      6\u001b[0m neighborlist\u001b[38;5;241m=\u001b[39mnp\u001b[38;5;241m.\u001b[39mdelete(neighborlist,new_particle_index,axis\u001b[38;5;241m=\u001b[39m\u001b[38;5;241m0\u001b[39m)\n\u001b[1;32m      7\u001b[0m neighbor_connectionlist\u001b[38;5;241m=\u001b[39mnp\u001b[38;5;241m.\u001b[39mdelete(neighbor_connectionlist,new_particle_index)\n\u001b[0;32m----> 8\u001b[0m neighbors\u001b[38;5;241m=\u001b[39m\u001b[43mfind_neighbor\u001b[49m\u001b[43m(\u001b[49m\u001b[43mnew_particle\u001b[49m\u001b[43m)\u001b[49m\n\u001b[1;32m      9\u001b[0m \u001b[38;5;28;01mfor\u001b[39;00m i \u001b[38;5;129;01min\u001b[39;00m \u001b[38;5;28mrange\u001b[39m(\u001b[38;5;241m0\u001b[39m,\u001b[38;5;241m6\u001b[39m):\n\u001b[1;32m     10\u001b[0m     \u001b[38;5;28;01mif\u001b[39;00m np\u001b[38;5;241m.\u001b[39mwhere((Particle_list \u001b[38;5;241m==\u001b[39m \u001b[38;5;28mtuple\u001b[39m(neighbors[\u001b[38;5;241m1\u001b[39m]\u001b[38;5;241m.\u001b[39mtolist()))\u001b[38;5;241m.\u001b[39mall(axis\u001b[38;5;241m=\u001b[39m\u001b[38;5;241m1\u001b[39m))[\u001b[38;5;241m0\u001b[39m]\u001b[38;5;241m.\u001b[39msize\u001b[38;5;241m==\u001b[39m\u001b[38;5;241m1\u001b[39m:\n",
      "Cell \u001b[0;32mIn[69], line 9\u001b[0m, in \u001b[0;36mfind_neighbor\u001b[0;34m(particle)\u001b[0m\n\u001b[1;32m      8\u001b[0m \u001b[38;5;28;01mdef\u001b[39;00m \u001b[38;5;21mfind_neighbor\u001b[39m(particle):\n\u001b[0;32m----> 9\u001b[0m     \u001b[38;5;28;01mif\u001b[39;00m \u001b[43mparticle\u001b[49m\u001b[43m[\u001b[49m\u001b[38;5;241;43m3\u001b[39;49m\u001b[43m]\u001b[49m\u001b[38;5;241m==\u001b[39m\u001b[38;5;241m1\u001b[39m:\n\u001b[1;32m     10\u001b[0m         \u001b[38;5;28;01mreturn\u001b[39;00m neighborlista\u001b[38;5;241m+\u001b[39mnp\u001b[38;5;241m.\u001b[39mtile(particle,(\u001b[38;5;241m6\u001b[39m,\u001b[38;5;241m1\u001b[39m))\n\u001b[1;32m     11\u001b[0m     \u001b[38;5;28;01mif\u001b[39;00m particle[\u001b[38;5;241m3\u001b[39m]\u001b[38;5;241m==\u001b[39m\u001b[38;5;241m2\u001b[39m:\n",
      "\u001b[0;31mIndexError\u001b[0m: index 3 is out of bounds for axis 0 with size 1"
     ]
    }
   ],
   "source": [
    "for i in range(0,100000):\n",
    "    a=insert_particle()\n",
    "    update_neighborlist(a)"
   ]
  },
  {
   "cell_type": "code",
   "execution_count": 119,
   "id": "dcee820a",
   "metadata": {},
   "outputs": [
    {
     "data": {
      "text/plain": [
       "(0, 0, 0, 1)"
      ]
     },
     "execution_count": 119,
     "metadata": {},
     "output_type": "execute_result"
    }
   ],
   "source": [
    "tuple(neighbors[1].tolist())"
   ]
  },
  {
   "cell_type": "code",
   "execution_count": 120,
   "id": "04863daf",
   "metadata": {},
   "outputs": [
    {
     "name": "stderr",
     "output_type": "stream",
     "text": [
      "/tmp/ipykernel_25058/1529872375.py:1: DeprecationWarning: elementwise comparison failed; this will raise an error in the future.\n",
      "  np.where((Particle_list == tuple(neighbors[1].tolist())).all(axis=1))[0]\n"
     ]
    },
    {
     "ename": "AttributeError",
     "evalue": "'bool' object has no attribute 'all'",
     "output_type": "error",
     "traceback": [
      "\u001b[0;31m---------------------------------------------------------------------------\u001b[0m",
      "\u001b[0;31mAttributeError\u001b[0m                            Traceback (most recent call last)",
      "Cell \u001b[0;32mIn[120], line 1\u001b[0m\n\u001b[0;32m----> 1\u001b[0m np\u001b[38;5;241m.\u001b[39mwhere(\u001b[43m(\u001b[49m\u001b[43mParticle_list\u001b[49m\u001b[43m \u001b[49m\u001b[38;5;241;43m==\u001b[39;49m\u001b[43m \u001b[49m\u001b[38;5;28;43mtuple\u001b[39;49m\u001b[43m(\u001b[49m\u001b[43mneighbors\u001b[49m\u001b[43m[\u001b[49m\u001b[38;5;241;43m1\u001b[39;49m\u001b[43m]\u001b[49m\u001b[38;5;241;43m.\u001b[39;49m\u001b[43mtolist\u001b[49m\u001b[43m(\u001b[49m\u001b[43m)\u001b[49m\u001b[43m)\u001b[49m\u001b[43m)\u001b[49m\u001b[38;5;241;43m.\u001b[39;49m\u001b[43mall\u001b[49m(axis\u001b[38;5;241m=\u001b[39m\u001b[38;5;241m1\u001b[39m))[\u001b[38;5;241m0\u001b[39m]\n",
      "\u001b[0;31mAttributeError\u001b[0m: 'bool' object has no attribute 'all'"
     ]
    }
   ],
   "source": [
    "np.where((Particle_list == tuple(neighbors[1].tolist())).all(axis=1))[0]"
   ]
  },
  {
   "cell_type": "code",
   "execution_count": 125,
   "id": "a2fce949",
   "metadata": {},
   "outputs": [
    {
     "data": {
      "text/plain": [
       "0"
      ]
     },
     "execution_count": 125,
     "metadata": {},
     "output_type": "execute_result"
    }
   ],
   "source": [
    "np.where((Particle_list == (0, 0,0,3)).all(axis=1))[0].size"
   ]
  },
  {
   "cell_type": "code",
   "execution_count": 123,
   "id": "2be86024",
   "metadata": {},
   "outputs": [
    {
     "data": {
      "text/plain": [
       "array([[ 0,  0,  0,  1, -1,  0,  0,  3]])"
      ]
     },
     "execution_count": 123,
     "metadata": {},
     "output_type": "execute_result"
    }
   ],
   "source": [
    "Particle_list"
   ]
  },
  {
   "cell_type": "code",
   "execution_count": 122,
   "id": "a114f111",
   "metadata": {},
   "outputs": [
    {
     "data": {
      "text/plain": [
       "array([[ 0,  0,  0,  3],\n",
       "       [ 0,  0, -1,  4],\n",
       "       [ 0, -1,  0,  3],\n",
       "       [ 0, -1, -1,  4],\n",
       "       [-1,  0,  0,  3],\n",
       "       [-1,  0, -1,  4]])"
      ]
     },
     "execution_count": 122,
     "metadata": {},
     "output_type": "execute_result"
    }
   ],
   "source": [
    "neighborlist"
   ]
  },
  {
   "cell_type": "code",
   "execution_count": 24,
   "id": "578d3802",
   "metadata": {},
   "outputs": [
    {
     "data": {
      "text/plain": [
       "array([[ 0,  0,  0,  3],\n",
       "       [ 0,  0, -1,  4],\n",
       "       [ 0, -1,  0,  3],\n",
       "       [ 0, -1, -1,  4],\n",
       "       [-1,  0,  0,  3],\n",
       "       [-1,  0, -1,  4]])"
      ]
     },
     "execution_count": 24,
     "metadata": {},
     "output_type": "execute_result"
    }
   ],
   "source": [
    "neighborlist"
   ]
  },
  {
   "cell_type": "code",
   "execution_count": null,
   "id": "043661de",
   "metadata": {},
   "outputs": [],
   "source": []
  }
 ],
 "metadata": {
  "kernelspec": {
   "display_name": "Python 3 (ipykernel)",
   "language": "python",
   "name": "python3"
  },
  "language_info": {
   "codemirror_mode": {
    "name": "ipython",
    "version": 3
   },
   "file_extension": ".py",
   "mimetype": "text/x-python",
   "name": "python",
   "nbconvert_exporter": "python",
   "pygments_lexer": "ipython3",
   "version": "3.10.9"
  }
 },
 "nbformat": 4,
 "nbformat_minor": 5
}
